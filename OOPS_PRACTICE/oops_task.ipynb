{
 "cells": [
  {
   "cell_type": "markdown",
   "id": "fe7be14f-5081-4011-b4ca-45bd82f118a7",
   "metadata": {},
   "source": [
    "Q1, Create a vehicle class with an init method having instance variables as name_of_vehicle, max_speed\n",
    "and average_of_vehicle.\n",
    "Q2. Create a child class car from the vehicle class created in Que 1, which will inherit the vehicle class.\n",
    "Create a method named seating_capacity which takes capacity as an argument and returns the name of\n",
    "the vehicle and its seating capacity."
   ]
  },
  {
   "cell_type": "code",
   "execution_count": 43,
   "id": "b32d3450-2f54-45ad-9067-edf7f3056d74",
   "metadata": {},
   "outputs": [
    {
     "name": "stdout",
     "output_type": "stream",
     "text": [
      "Toyota Camry has a seating capacity of 5.\n"
     ]
    }
   ],
   "source": [
    "class Vehicle:\n",
    "    def __init__(self, name_of_vehicle, max_speed, average_of_vehicle):\n",
    "        self.name_of_vehicle = name_of_vehicle\n",
    "        self.max_speed = max_speed\n",
    "        self.average_of_vehicle = average_of_vehicle\n",
    "\n",
    "class Car(Vehicle):\n",
    "    def seating_capacity(self, capacity):\n",
    "        return f\"{self.name_of_vehicle} has a seating capacity of {capacity}.\"\n",
    "\n",
    "# Example usage\n",
    "car = Car(\"Toyota Camry\", 180, 12)\n",
    "print(car.seating_capacity(5))  # Output: Toyota Camry has a seating capacity of 5.\n"
   ]
  },
  {
   "cell_type": "markdown",
   "id": "f9a61c0c-3201-4ddb-b8db-ea201f4c75fd",
   "metadata": {},
   "source": [
    "Q3. What is multiple inheritance? Write a python code to demonstrate multiple inheritance."
   ]
  },
  {
   "cell_type": "markdown",
   "id": "133fb114-7834-4629-90e2-b221bef3d824",
   "metadata": {},
   "source": [
    "Multiple inheritance in Python refers to a feature where a class can inherit attributes and methods from more than one parent class. This allows a child class to inherit characteristics from multiple parent classes, creating a hierarchy of classes."
   ]
  },
  {
   "cell_type": "code",
   "execution_count": 44,
   "id": "9ba87890-7733-495b-bf78-80640c8a3130",
   "metadata": {},
   "outputs": [
    {
     "name": "stdout",
     "output_type": "stream",
     "text": [
      "Method A from class A\n",
      "Method B from class B\n",
      "Method C from class C\n"
     ]
    }
   ],
   "source": [
    "class A:\n",
    "    def method_A(self):\n",
    "        print(\"Method A from class A\")\n",
    "\n",
    "class B:\n",
    "    def method_B(self):\n",
    "        print(\"Method B from class B\")\n",
    "\n",
    "class C(A, B):  # Class C inherits from both class A and class B\n",
    "    def method_C(self):\n",
    "        print(\"Method C from class C\")\n",
    "\n",
    "# Create an object of class C\n",
    "obj = C()\n",
    "\n",
    "# Access methods from class A\n",
    "obj.method_A()  # Output: Method A from class A\n",
    "\n",
    "# Access methods from class B\n",
    "obj.method_B()  # Output: Method B from class B\n",
    "\n",
    "# Access method from class C\n",
    "obj.method_C()  # Output: Method C from class C\n"
   ]
  },
  {
   "cell_type": "markdown",
   "id": "1edec0fd-3202-4f7d-be39-206149813352",
   "metadata": {},
   "source": [
    "Q4. What are getter and setter in python? Create a class and create a getter and a setter method in this\n",
    "class."
   ]
  },
  {
   "cell_type": "markdown",
   "id": "01dfd72d-ec81-4ca8-b51c-e5eb80c9c406",
   "metadata": {},
   "source": [
    "In Python, getter and setter methods are used to access and modify the private attributes of a class respectively, ensuring controlled access and manipulation of data. They provide a way to encapsulate the access and modification of attributes, allowing for data abstraction and maintaining the integrity of the object's state.\n",
    "\n",
    "Getter method: Getter methods are used to retrieve the value of a private attribute from a class. They provide read-only access to the attribute by returning its value. Getter methods typically have the naming convention get_attribute().\n",
    "\n",
    "Setter method: Setter methods are used to modify the value of a private attribute in a class. They provide a way to update the value of the attribute while performing any necessary validations or computations. Setter methods typically have the naming convention set_attribute()."
   ]
  },
  {
   "cell_type": "code",
   "execution_count": 45,
   "id": "9e470124-f0df-49d9-8c30-956d9c32c03f",
   "metadata": {},
   "outputs": [
    {
     "name": "stdout",
     "output_type": "stream",
     "text": [
      "42\n"
     ]
    }
   ],
   "source": [
    "class MyClass:\n",
    "    def __init__(self):\n",
    "        self._my_attribute = None   # Private attribute conventionally prefixed with an underscore\n",
    "\n",
    "    # Getter method\n",
    "    def get_my_attribute(self):\n",
    "        return self._my_attribute\n",
    "\n",
    "    # Setter method\n",
    "    def set_my_attribute(self, value):\n",
    "        self._my_attribute = value\n",
    "\n",
    "# Example usage\n",
    "obj = MyClass()\n",
    "\n",
    "# Using the setter method to set the value of the attribute\n",
    "obj.set_my_attribute(42)\n",
    "\n",
    "# Using the getter method to retrieve the value of the attribute\n",
    "print(obj.get_my_attribute())  # Output: 42\n"
   ]
  },
  {
   "cell_type": "markdown",
   "id": "2b3380c7-aa5c-4e9f-ac54-ddac86d320c2",
   "metadata": {},
   "source": [
    "Q5.What is method overriding in python? Write a python code to demonstrate method overriding."
   ]
  },
  {
   "cell_type": "markdown",
   "id": "1fee9de8-4cdc-4473-9466-ef66acafdf27",
   "metadata": {},
   "source": [
    "Method overriding in Python refers to the ability of a subclass to provide a specific implementation of a method that is already defined in its superclass. When a method in the subclass has the same name and signature as a method in its superclass, the method in the subclass overrides (replaces) the method in the superclass."
   ]
  },
  {
   "cell_type": "code",
   "execution_count": 46,
   "id": "8ee70711-0909-4477-b542-a2746705abb6",
   "metadata": {},
   "outputs": [
    {
     "name": "stdout",
     "output_type": "stream",
     "text": [
      "Dog barks\n",
      "Cat meows\n"
     ]
    }
   ],
   "source": [
    "class Animal:\n",
    "    def make_sound(self):\n",
    "        print(\"Animal makes a generic sound\")\n",
    "\n",
    "class Dog(Animal):\n",
    "    def make_sound(self):  # Method overriding\n",
    "        print(\"Dog barks\")\n",
    "\n",
    "class Cat(Animal):\n",
    "    def make_sound(self):  # Method overriding\n",
    "        print(\"Cat meows\")\n",
    "\n",
    "# Create objects of Dog and Cat classes\n",
    "dog = Dog()\n",
    "cat = Cat()\n",
    "\n",
    "# Call the make_sound method for each object\n",
    "dog.make_sound()  # Output: Dog barks\n",
    "cat.make_sound()  # Output: Cat meows\n"
   ]
  },
  {
   "cell_type": "code",
   "execution_count": null,
   "id": "a704e65b-58fa-410d-a358-d25c2ff26ce4",
   "metadata": {},
   "outputs": [],
   "source": []
  }
 ],
 "metadata": {
  "kernelspec": {
   "display_name": "Python 3 (ipykernel)",
   "language": "python",
   "name": "python3"
  },
  "language_info": {
   "codemirror_mode": {
    "name": "ipython",
    "version": 3
   },
   "file_extension": ".py",
   "mimetype": "text/x-python",
   "name": "python",
   "nbconvert_exporter": "python",
   "pygments_lexer": "ipython3",
   "version": "3.10.8"
  }
 },
 "nbformat": 4,
 "nbformat_minor": 5
}
