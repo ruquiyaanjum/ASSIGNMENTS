{
 "cells": [
  {
   "cell_type": "markdown",
   "id": "07c00209-6b3d-4789-bf31-8cc422ade732",
   "metadata": {},
   "source": [
    "Q1. What is Abstraction in OOps? Explain with an example."
   ]
  },
  {
   "cell_type": "markdown",
   "id": "95999a1a-fdee-41c7-a4ea-5a92823a037d",
   "metadata": {},
   "source": [
    "Abstraction -- hiding the implementation used for creating   blueprint or skeleton. with help of abstarct method using abc module."
   ]
  },
  {
   "cell_type": "code",
   "execution_count": 8,
   "id": "48f15186-2b9c-4f47-aa60-3a4ecf9626ae",
   "metadata": {},
   "outputs": [],
   "source": [
    "import abc\n",
    "class abstraction:\n",
    "    @abc.abstractmethod\n",
    "    def student_details(self):\n",
    "        pass\n",
    "    @abc.abstractmethod\n",
    "    def student_assignment(self):\n",
    "        pass\n",
    "    @abc.abstractmethod\n",
    "    def student_marks(self):\n",
    "        pass\n",
    "\n",
    "    "
   ]
  },
  {
   "cell_type": "code",
   "execution_count": 9,
   "id": "6b836561-e34b-4402-acbc-30538849f35d",
   "metadata": {},
   "outputs": [],
   "source": [
    "class student_details(abstraction):\n",
    "    def student_details(self):\n",
    "        return \"this is my student details for class student_details\"\n",
    "    def student_assignment(self):\n",
    "        return \"this is my student assignment for class student details\"\n",
    "    def student_marks(self):\n",
    "        return \"this is my student marks for class student details\""
   ]
  },
  {
   "cell_type": "code",
   "execution_count": null,
   "id": "3c2c34ad-6122-4bf6-9951-693a5bae6d99",
   "metadata": {},
   "outputs": [],
   "source": [
    "class data_science(abstraction):\n",
    "    def student_details(self):\n",
    "        return \"this is my student details for class data_science\"\n",
    "    def student_assignment(self):\n",
    "        return \"this is my student assignment for class data_science\"\n",
    "    def student_marks(self):\n",
    "        return \"this is my student marks for class data_science\""
   ]
  },
  {
   "cell_type": "code",
   "execution_count": 11,
   "id": "5e3a6303-0125-46a8-ab81-91f0e5572fbb",
   "metadata": {},
   "outputs": [],
   "source": [
    "dsm=data_science()"
   ]
  },
  {
   "cell_type": "code",
   "execution_count": 12,
   "id": "669106e1-fb35-4a4a-8283-77e7eaed96ec",
   "metadata": {},
   "outputs": [
    {
     "data": {
      "text/plain": [
       "'this is my student details for class data_science'"
      ]
     },
     "execution_count": 12,
     "metadata": {},
     "output_type": "execute_result"
    }
   ],
   "source": [
    "dsm.student_details()"
   ]
  },
  {
   "cell_type": "code",
   "execution_count": 13,
   "id": "b9a110ba-549c-4593-9719-5caedb416b85",
   "metadata": {},
   "outputs": [],
   "source": [
    "ds=student_details()"
   ]
  },
  {
   "cell_type": "code",
   "execution_count": 14,
   "id": "6a769713-e968-49af-9182-ec3ade7c5f80",
   "metadata": {},
   "outputs": [
    {
     "data": {
      "text/plain": [
       "'this is my student marks for class student details'"
      ]
     },
     "execution_count": 14,
     "metadata": {},
     "output_type": "execute_result"
    }
   ],
   "source": [
    "ds.student_marks()"
   ]
  },
  {
   "cell_type": "markdown",
   "id": "f7004fbc-aeba-4ad1-ae62-6783dfa89e83",
   "metadata": {},
   "source": [
    "Q2. Differentiate between Abstraction and Encapsulation. Explain with an example."
   ]
  },
  {
   "cell_type": "markdown",
   "id": "8ecf3962-3f3f-43cd-8612-0518fc22bc4c",
   "metadata": {},
   "source": [
    "Encapsulation -- binding the data , ex: like tablet. \n",
    "private variable(__) or protected variable(_) using encapsulation. \n",
    "\n",
    "Abstraction -- hiding the implementation used for creating   blueprint or skeleton. with help of abstarct method using abc module."
   ]
  },
  {
   "cell_type": "code",
   "execution_count": 15,
   "id": "118be9bd-0c1a-49c8-ad70-1d9835ff48dd",
   "metadata": {},
   "outputs": [],
   "source": [
    "#abstarction example\n",
    "import abc\n",
    "class abstraction:\n",
    "    @abc.abstractmethod\n",
    "    def student_details(self):\n",
    "        pass\n",
    "    @abc.abstractmethod\n",
    "    def student_assignment(self):\n",
    "        pass\n",
    "    @abc.abstractmethod\n",
    "    def student_marks(self):\n",
    "        pass"
   ]
  },
  {
   "cell_type": "code",
   "execution_count": 16,
   "id": "0ef650a2-aec8-402e-9e02-62e4e9ddd4fe",
   "metadata": {},
   "outputs": [],
   "source": [
    "class student_details(abstraction):\n",
    "    def student_details(self):\n",
    "        return \"this is my student details for class student_details\"\n",
    "    def student_assignment(self):\n",
    "        return \"this is my student assignment for class student details\"\n",
    "    def student_marks(self):\n",
    "        return \"this is my student marks for class student details\""
   ]
  },
  {
   "cell_type": "code",
   "execution_count": 17,
   "id": "c802a2fd-b8c1-4481-a3c4-26332132684a",
   "metadata": {},
   "outputs": [],
   "source": [
    "class data_science(abstraction):\n",
    "    def student_details(self):\n",
    "        return \"this is my student details for class data_science\"\n",
    "    def student_assignment(self):\n",
    "        return \"this is my student assignment for class data_science\"\n",
    "    def student_marks(self):\n",
    "        return \"this is my student marks for class data_science\""
   ]
  },
  {
   "cell_type": "code",
   "execution_count": 18,
   "id": "37f8cff3-b977-4ef9-906d-11a5e95030db",
   "metadata": {},
   "outputs": [],
   "source": [
    "dsm=data_science()"
   ]
  },
  {
   "cell_type": "code",
   "execution_count": 19,
   "id": "1055538e-8ca3-4d06-9a69-947f649232f2",
   "metadata": {},
   "outputs": [
    {
     "data": {
      "text/plain": [
       "'this is my student details for class data_science'"
      ]
     },
     "execution_count": 19,
     "metadata": {},
     "output_type": "execute_result"
    }
   ],
   "source": [
    "dsm.student_details()"
   ]
  },
  {
   "cell_type": "code",
   "execution_count": 20,
   "id": "db57b2b8-f383-4be4-8823-0532dda5ac60",
   "metadata": {},
   "outputs": [],
   "source": [
    "ds=student_details()"
   ]
  },
  {
   "cell_type": "code",
   "execution_count": 21,
   "id": "a496cbd5-92c3-4dec-ba7d-662203705228",
   "metadata": {},
   "outputs": [
    {
     "data": {
      "text/plain": [
       "'this is my student marks for class student details'"
      ]
     },
     "execution_count": 21,
     "metadata": {},
     "output_type": "execute_result"
    }
   ],
   "source": [
    "ds.student_marks()"
   ]
  },
  {
   "cell_type": "code",
   "execution_count": 24,
   "id": "2e6d6daa-0f9f-401a-a7c3-5b1cca32a9ca",
   "metadata": {},
   "outputs": [],
   "source": [
    "#encapsulation\n",
    "class bank_account:\n",
    "    def __init__(self,balance):\n",
    "        self.__balance=balance\n",
    "    def deposit(self,balance):\n",
    "         self.__balance = self.__balance+balance\n",
    "    def withdraw(self,balance):\n",
    "        if self.__balance>=balance:\n",
    "            self.__balance=self.__balance-balance\n",
    "            return True\n",
    "        else:\n",
    "            print(\"insuffiecient balance\")\n",
    "            return False\n",
    "    def get_balance(self):\n",
    "        return self.__balance"
   ]
  },
  {
   "cell_type": "code",
   "execution_count": 25,
   "id": "d92d4ab7-6ac4-42a8-a8c2-c2a9d008900e",
   "metadata": {},
   "outputs": [],
   "source": [
    "ba=bank_account(7000)"
   ]
  },
  {
   "cell_type": "code",
   "execution_count": 26,
   "id": "a2e1708e-0f25-4342-ac19-40158a690dcb",
   "metadata": {},
   "outputs": [],
   "source": [
    "ba.deposit(1000)"
   ]
  },
  {
   "cell_type": "code",
   "execution_count": 27,
   "id": "4bc3b130-5e2a-481a-b14f-ce7a1d42079e",
   "metadata": {},
   "outputs": [
    {
     "data": {
      "text/plain": [
       "8000"
      ]
     },
     "execution_count": 27,
     "metadata": {},
     "output_type": "execute_result"
    }
   ],
   "source": [
    "ba.get_balance()"
   ]
  },
  {
   "cell_type": "code",
   "execution_count": 28,
   "id": "12abeccc-9fce-43b5-b83d-c2db952c6777",
   "metadata": {},
   "outputs": [
    {
     "data": {
      "text/plain": [
       "True"
      ]
     },
     "execution_count": 28,
     "metadata": {},
     "output_type": "execute_result"
    }
   ],
   "source": [
    "ba.withdraw(5000)"
   ]
  },
  {
   "cell_type": "code",
   "execution_count": 29,
   "id": "635fa595-1bd9-491b-8222-135ba6d1b64a",
   "metadata": {},
   "outputs": [
    {
     "data": {
      "text/plain": [
       "3000"
      ]
     },
     "execution_count": 29,
     "metadata": {},
     "output_type": "execute_result"
    }
   ],
   "source": [
    "ba.get_balance()"
   ]
  },
  {
   "cell_type": "markdown",
   "id": "8f0db79d-5a8a-416f-876c-80f8049a1389",
   "metadata": {},
   "source": [
    "Q3. What is abc module in python? Why is it used?"
   ]
  },
  {
   "cell_type": "markdown",
   "id": "752433ad-1a59-41f3-ae12-ab331eada5b4",
   "metadata": {},
   "source": [
    "abc is a python library , which is defined a infrastructure of custom abstract classes.\n",
    "using property of abstarct classes @abstractmethod decorator. creation of blueprint it helps , and used in code based on that classes. and we can modify the data based on our requirements.\n",
    "creates a blueprint or sekleton."
   ]
  },
  {
   "cell_type": "code",
   "execution_count": null,
   "id": "244950b5-1f05-4df5-80b3-ecb5fd789358",
   "metadata": {},
   "outputs": [],
   "source": [
    "#abstarction example\n",
    "import abc\n",
    "class abstraction:\n",
    "    @abc.abstractmethod\n",
    "    def student_details(self):\n",
    "        pass\n",
    "    @abc.abstractmethod\n",
    "    def student_assignment(self):\n",
    "        pass\n",
    "    @abc.abstractmethod\n",
    "    def student_marks(self):\n",
    "        pass"
   ]
  },
  {
   "cell_type": "markdown",
   "id": "e4c55343-f9f9-45d5-9282-08cb4ebcf017",
   "metadata": {},
   "source": [
    "Q4. How can we achieve data abstraction?"
   ]
  },
  {
   "cell_type": "markdown",
   "id": "2f35cc09-9763-442a-9f6c-2012ddac099f",
   "metadata": {},
   "source": [
    "data abstarction acheive using  encapsulation  bak account example we will consider."
   ]
  },
  {
   "cell_type": "code",
   "execution_count": 8,
   "id": "3a607832-9c38-4afa-bf50-289d8ebea284",
   "metadata": {},
   "outputs": [
    {
     "name": "stdout",
     "output_type": "stream",
     "text": [
      "7000\n",
      "True\n"
     ]
    }
   ],
   "source": [
    "#encapsulation\n",
    "class bank_account:\n",
    "    def __init__(self,balance):\n",
    "        self.__balance=balance\n",
    "    def deposit(self,balance):\n",
    "         self.__balance = self.__balance+balance\n",
    "    def withdraw(self,balance):\n",
    "        if self.__balance>=balance:\n",
    "            self.__balance=self.__balance-balance\n",
    "            return True\n",
    "        else:\n",
    "            print(\"insuffiecient balance\")\n",
    "            return False\n",
    "    def get_balance(self):\n",
    "        return self.__balance\n",
    "ba=bank_account(7000)\n",
    "print(ba.get_balance())\n",
    "print(ba.withdraw(5000))"
   ]
  },
  {
   "cell_type": "markdown",
   "id": "2df9a347-5b0e-4eb4-9381-78cbb24a14a6",
   "metadata": {},
   "source": [
    "Q5. Can we create an instance of an abstract class? Explain your answer."
   ]
  },
  {
   "cell_type": "markdown",
   "id": "a57c2014-a371-4e9c-bc76-bf38130f55f7",
   "metadata": {},
   "source": [
    "No we cant create an instance of an abstarct class . because it is blueprint or skeleton, if we try to craete it will through type error."
   ]
  },
  {
   "cell_type": "code",
   "execution_count": 3,
   "id": "e9e6f1a6-0c43-4469-b8a9-8ff7526857e0",
   "metadata": {},
   "outputs": [
    {
     "ename": "TypeError",
     "evalue": "Can't instantiate abstract class computer with abstract method process",
     "output_type": "error",
     "traceback": [
      "\u001b[0;31m---------------------------------------------------------------------------\u001b[0m",
      "\u001b[0;31mTypeError\u001b[0m                                 Traceback (most recent call last)",
      "Cell \u001b[0;32mIn[3], line 7\u001b[0m\n\u001b[1;32m      4\u001b[0m     \u001b[38;5;129m@abstractmethod\u001b[39m\n\u001b[1;32m      5\u001b[0m     \u001b[38;5;28;01mdef\u001b[39;00m \u001b[38;5;21mprocess\u001b[39m(\u001b[38;5;28mself\u001b[39m):\n\u001b[1;32m      6\u001b[0m         \u001b[38;5;28;01mpass\u001b[39;00m\n\u001b[0;32m----> 7\u001b[0m com\u001b[38;5;241m=\u001b[39m\u001b[43mcomputer\u001b[49m\u001b[43m(\u001b[49m\u001b[43m)\u001b[49m  \u001b[38;5;66;03m#cannot get object of it .. because we have a method which is not defined it.\u001b[39;00m\n",
      "\u001b[0;31mTypeError\u001b[0m: Can't instantiate abstract class computer with abstract method process"
     ]
    }
   ],
   "source": [
    "from abc import ABC,abstractmethod\n",
    "\n",
    "class computer(ABC):\n",
    "    @abstractmethod\n",
    "    def process(self):\n",
    "        pass\n",
    "com=computer()  "
   ]
  },
  {
   "cell_type": "code",
   "execution_count": null,
   "id": "4801fb87-1ffb-46c3-ae77-980ab147ac51",
   "metadata": {},
   "outputs": [],
   "source": []
  }
 ],
 "metadata": {
  "kernelspec": {
   "display_name": "Python 3 (ipykernel)",
   "language": "python",
   "name": "python3"
  },
  "language_info": {
   "codemirror_mode": {
    "name": "ipython",
    "version": 3
   },
   "file_extension": ".py",
   "mimetype": "text/x-python",
   "name": "python",
   "nbconvert_exporter": "python",
   "pygments_lexer": "ipython3",
   "version": "3.10.8"
  }
 },
 "nbformat": 4,
 "nbformat_minor": 5
}
