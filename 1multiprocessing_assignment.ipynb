{
 "cells": [
  {
   "cell_type": "markdown",
   "id": "255dc4fd-e794-4f25-a492-640efcc18f8d",
   "metadata": {},
   "source": [
    "Q1. What is multiprocessing in python? Why is it useful?"
   ]
  },
  {
   "cell_type": "markdown",
   "id": "0460b557-1478-4a5d-b6e2-82a8ed5c79aa",
   "metadata": {},
   "source": [
    "Multiprocessing: A process of running multiple processes simultaneously within a single thread.\n",
    "useful: To improve the performance of a program by using multiple CPU's or CPU cores.\n",
    "\n",
    "speeding up your code and handling large datasets and tasks. For example, running an operation in parallel can divide a job into several smaller parts that can be processed simultaneously"
   ]
  },
  {
   "cell_type": "markdown",
   "id": "63385208-47aa-4b8c-8ae4-843799cff62a",
   "metadata": {},
   "source": [
    "Q2. What are the differences between multiprocessing and multithreading?"
   ]
  },
  {
   "cell_type": "markdown",
   "id": "c3f17729-467d-4543-a04c-92d1ea76e67d",
   "metadata": {},
   "source": [
    "Multithreading: Multithreading runs  multiple threads simultaneously within a single process.\n",
    "Many threads are created of a single process for increasing computing power.\n",
    "many threads of process are executed simultaneously\n",
    "multithreading is not classified in any  categories.\n",
    "a common address space is shared by all the threads.\n",
    "\n",
    "Multiprocessing: CPU's are added for increasing computing power.\n",
    "Many processes are executed simultaneously.\n",
    "Multiprocessing are classified into symmetric and asymmetric.\n",
    "In Multiprocessing, every process owned a separate address space. "
   ]
  },
  {
   "cell_type": "markdown",
   "id": "0bb7be07-fc4c-4d0d-962a-505d5b4bcb73",
   "metadata": {},
   "source": [
    "Q3. Write a python code to create a process using the multiprocessing module."
   ]
  },
  {
   "cell_type": "code",
   "execution_count": 1,
   "id": "76672588-84a9-4f27-b843-0522936f3625",
   "metadata": {},
   "outputs": [
    {
     "name": "stdout",
     "output_type": "stream",
     "text": [
      "this is my main program\n",
      "this is my multiprocessing program\n"
     ]
    }
   ],
   "source": [
    "import multiprocessing\n",
    "def test():\n",
    "    print(\"this is my multiprocessing program\")\n",
    "#test()\n",
    "if __name__=='__main__':  #python interpreter invoke all the resources.\n",
    "    m=multiprocessing.Process(target=test)   #process object represents that run in separate process.\n",
    "    print(\"this is my main program\")\n",
    "    m.start()  #main program -- child process\n",
    "    m.join()  #wait until child process terminates.(resources release to main) \n",
    "#two process running : child and another is main.."
   ]
  },
  {
   "cell_type": "markdown",
   "id": "8e163c98-3940-4e64-81fa-406d1a2d509e",
   "metadata": {},
   "source": [
    "Q4. What is a multiprocessing pool in python? Why is it used?"
   ]
  },
  {
   "cell_type": "markdown",
   "id": "9b27e8a8-12fa-4755-85e5-deef8a745d2c",
   "metadata": {},
   "source": [
    "A set of processes that can be executed concurrently to perform a specific task.\n",
    "\n",
    "Python multiprocessing Pool can be used for parallel execution of a function across multiple input values, distributing the input data across processes (data parallelism)."
   ]
  },
  {
   "cell_type": "markdown",
   "id": "bed097ca-fcb4-4923-85df-6cb61d08a384",
   "metadata": {},
   "source": [
    "Q5. How can we create a pool of worker processes in python using the multiprocessing module?"
   ]
  },
  {
   "cell_type": "code",
   "execution_count": 1,
   "id": "a5645c96-264f-4c94-98b3-17312006b745",
   "metadata": {},
   "outputs": [
    {
     "name": "stdout",
     "output_type": "stream",
     "text": [
      "[1, 4, 9, 16, 25, 36, 49, 64, 81]\n"
     ]
    }
   ],
   "source": [
    "#multiprocessing with pool example\n",
    "import multiprocessing\n",
    "def square(n):\n",
    "    return n**2\n",
    "if __name__=='__main__':\n",
    "    with multiprocessing.Pool(processes=4) as pool:  #task assigned in this much processor (4--10---12)\n",
    "        out=pool.map(square,[1,2,3,4,5,6,7,8,9])\n",
    "        print(out)"
   ]
  },
  {
   "cell_type": "markdown",
   "id": "eaa47ded-1c9e-40d3-9d00-34ad488774b8",
   "metadata": {},
   "source": [
    "Q6. Write a python program to create 4 processes, each process should print a different number using the\n",
    "multiprocessing module in python."
   ]
  },
  {
   "cell_type": "code",
   "execution_count": null,
   "id": "06368a43-d8fa-4d82-b43a-fcb7c20c014a",
   "metadata": {},
   "outputs": [],
   "source": [
    "import multiprocessing\n",
    "def square(n):\n",
    "    return n**2\n",
    "if __name__=='__main__':\n",
    "    with multiprocessing.Pool(processes=4) as pool:  #task assigned in this much processor (4--10---12)\n",
    "        out=pool.map(square,[1,2,3,4,5,6,7,8,9])\n",
    "        print(out)"
   ]
  },
  {
   "cell_type": "code",
   "execution_count": null,
   "id": "42a15ba9-b206-4adb-9fcb-892f77819127",
   "metadata": {},
   "outputs": [],
   "source": [
    "def producer(q):\n",
    "    for i in range(10):\n",
    "        q.put(i)\n",
    "def consume(q):\n",
    "    while True:\n",
    "        item=q.get()\n",
    "        if item is None:\n",
    "            break\n",
    "        print(item)\n",
    "if __name__=='__main__':\n",
    "    queue=multiprocessing.Queue()   #return queue object\n",
    "    m1=multiprocessing.Process(target=producer,args=(queue,))\n",
    "    m2=multiprocessing.Process(target=consume,args=(queue,))\n",
    "    m1.start()\n",
    "    m2.start()\n",
    "    queue.put(\"sudh\")\n",
    "    m1.join()\n",
    "    m2.join()"
   ]
  },
  {
   "cell_type": "code",
   "execution_count": null,
   "id": "26a9b070-8655-4f03-9587-072ce65a7d73",
   "metadata": {},
   "outputs": [],
   "source": [
    "import multiprocessing\n",
    "def square(index,value):\n",
    "    value[index]=value[index]**2\n",
    "if __name__=='__main__':\n",
    "    arr=multiprocessing.Array('i',[1,2,3,4,5,6,7])\n",
    "    process=[]\n",
    "    for i in range(7):\n",
    "                m=multiprocessing.Process(target=square,args=(i,arr)) \n",
    "                process.append(m)\n",
    "                m.start()\n",
    "    for m in process:\n",
    "        m.join()\n",
    "    print(list(arr))"
   ]
  },
  {
   "cell_type": "code",
   "execution_count": null,
   "id": "e028339d-bd2c-481b-bc46-3844c87ad723",
   "metadata": {},
   "outputs": [],
   "source": [
    "import multiprocessing\n",
    "def sender(conn,msg):\n",
    "    for i in msg:\n",
    "        conn.send(i)\n",
    "    conn.close()\n",
    "def recieve(conn):\n",
    "    while True:\n",
    "        try:\n",
    "             msg=conn.recv()\n",
    "        except Exception as e:\n",
    "            print(e)\n",
    "            break\n",
    "        print(msg)\n",
    "    \n",
    "if __name__==\"__main__\":\n",
    "    msg=[\"my name is sudh\",\"sjs akkaka skksks\",\"i am taking class for multiprocessing\"]\n",
    "    parent_conn,child_conn=multiprocessing.Pipe()\n",
    "    m1=multiprocessing.Process(target=sender,args=(child_conn,msg))\n",
    "    m2=multiprocessing.Process(target=recieve,args=(parent_conn,))\n",
    "    m1.start()\n",
    "    m2.start()\n",
    "    m1.join()\n",
    "    child_conn.close()\n",
    "    m2.join()\n",
    "    parent_conn.close()"
   ]
  }
 ],
 "metadata": {
  "kernelspec": {
   "display_name": "Python 3 (ipykernel)",
   "language": "python",
   "name": "python3"
  },
  "language_info": {
   "codemirror_mode": {
    "name": "ipython",
    "version": 3
   },
   "file_extension": ".py",
   "mimetype": "text/x-python",
   "name": "python",
   "nbconvert_exporter": "python",
   "pygments_lexer": "ipython3",
   "version": "3.10.8"
  }
 },
 "nbformat": 4,
 "nbformat_minor": 5
}
