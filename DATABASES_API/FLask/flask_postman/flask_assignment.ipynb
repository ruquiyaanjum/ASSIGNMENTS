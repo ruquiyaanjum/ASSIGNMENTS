{
 "cells": [
  {
   "cell_type": "markdown",
   "id": "ec271060-bccf-4ce2-977b-ffef39cb3abe",
   "metadata": {},
   "source": [
    "Q1. Explain GET and POST methods.\n",
    "Q2. Why is request used in Flask?\n",
    "Q3. Why is redirect() used in Flask?\n",
    "Q4. What are templates in Flask? Why is the render_template() function used?\n",
    "Q5. Create a simple API. Use Postman to test it. Attach the screenshot of the output in the Jupyter Notebook."
   ]
  },
  {
   "cell_type": "markdown",
   "id": "82bfb3ac-edd0-4adb-b7a5-fe47c363473c",
   "metadata": {},
   "source": [
    "1)  1) GET : * Based on url, sending the data (send data itself) \n",
    "             through url which is publicly visible.\n",
    "             * http protocol. \n",
    "             * ex: google search -- data science \n",
    "               (which will send the query data+science through url internally\n",
    "             to server machine and returns the result interms of web pages links etc).\n",
    "             \n",
    "    2) POST: * Based on Body,sending the data through body or form.\n",
    "             * ex: gmail login (email id and password\n",
    "               -- internally it is sending details to server system\n",
    "                and performing the operations and return the results of login page ) .\n",
    "                \n",
    "2) Request: * get data from the users\n",
    "            * (request helps the server to get information from client)\n",
    "            * with request flask can responds to user action ,\n",
    "              filling the form, submit.\n",
    "            * make the website interactive: responds to user action in real time.\n",
    "            \n",
    "3) redirect() : * in Flask is like telling someone to go to a different web page.\n",
    "                * using redirect(\"/hello\") binding app.route (\"/hello) path \n",
    "                * whenever it login to page, it will redirect to the  \n",
    "                  hello route page and shows the result .\n",
    "                  \n",
    "4) Templates : * are like blueprints for web pages \n",
    "                (structure, layout, including content where it should go).\n",
    "               * dynamic content (Web pages often need to show different\n",
    "                       information depending on the situation).\n",
    "                       \n",
    "               * render_template() Function (render the html file --web pages to users ): \n",
    "                 This function in Flask takes a template file and fills in the \n",
    "                 blanks with the actual content.\n",
    "                 \n",
    "5) example for simple API application which is through POSTMAN,and POST method (uses render_template,request)   :\n",
    "\n",
    "from flask import Flask, render_template,request,jsonify\n",
    "\n",
    "app=Flask(__name__)\n",
    "\n",
    "\n",
    "@app.route(\"/\",methods=[\"GET\",\"POST\"])\n",
    "def home_page():\n",
    "    return render_template(\"index.html\")\n",
    "\n",
    "\n",
    "\n",
    "#css--casscading style sheet -- beautification, {folder - static -css -main.css and style.css}\n",
    "#html -hypertext markup language -- templates -- index.html and results.html\n",
    "\n",
    "\n",
    "#@app.route(\"/math\",methods=[\"POST\"])  # using body POST method ..\n",
    "\n",
    "@app.route(\"/postman_data\",methods=[\"POST\"])  # using POSTMAN TOOL\n",
    "\n",
    "def math_operation():\n",
    "\n",
    "    if (request.method==\"POST\"):\n",
    "    \n",
    "        # ops=request.form['operation']\n",
    "        # num1=int(request.form[\"num1\"])\n",
    "        # num2=int(request.form[\"num2\"])\n",
    "        \n",
    "        ops = request.json['operation']\n",
    "        num1 = int(request.json[\"num1\"])\n",
    "        num2 = int(request.json[\"num2\"])\n",
    "        \n",
    "        if ops==\"add\":\n",
    "            result=num1+num2\n",
    "            result= \"the sum of \"+str(num1) + \"and\" + str(num2) + \"is\" + str(result)\n",
    "\n",
    "        elif ops == \"subtract\":\n",
    "            result = num1 - num2\n",
    "            result = \"the subtract of \" + str(num1) + \"and\" + str(num2) + \"is\" + str(result)\n",
    "\n",
    "        elif ops == \"multiply\":\n",
    "            result = num1 * num2\n",
    "            result = \"the multiply of \" + str(num1) + \"and\" + str(num2) + \"is\" + str(result)\n",
    "\n",
    "        elif ops == \"divide\":\n",
    "            result = num1 / num2\n",
    "            result = \"the divide of \" + str(num1) + \"and\" + str(num2) + \"is\" + str(result)\n",
    "        return jsonify(result)\n",
    "        \n",
    "        #return render_template(\"results.html\",result=result)\n",
    "\n",
    "\n",
    "#sudo snap install postman -- on ubuntu system.\n",
    "\n",
    "if __name__==\"__main__\":\n",
    "    app.run(\"0.0.0.0\")"
   ]
  },
  {
   "cell_type": "code",
   "execution_count": null,
   "id": "92453c10-c9e1-4afc-9bc0-65b4b87678d0",
   "metadata": {},
   "outputs": [
    {
     "name": "stdout",
     "output_type": "stream",
     "text": [
      " * Serving Flask app '__main__'\n",
      " * Debug mode: off\n"
     ]
    },
    {
     "name": "stderr",
     "output_type": "stream",
     "text": [
      "WARNING: This is a development server. Do not use it in a production deployment. Use a production WSGI server instead.\n",
      " * Running on all addresses (0.0.0.0)\n",
      " * Running on http://127.0.0.1:5000\n",
      " * Running on http://172.18.0.9:5000\n",
      "Press CTRL+C to quit\n"
     ]
    }
   ],
   "source": [
    "from flask import Flask , redirect\n",
    "\n",
    "app = Flask(__name__)\n",
    "\n",
    "@app.route(\"/\")\n",
    "def page():\n",
    "    return redirect(\"/welcome\")\n",
    "\n",
    "@app.route(\"/welcome\")\n",
    "def welcome():\n",
    "    return \"<h1> WELCOME TO FLASK REDIRECT PAGE <h1>\"\n",
    "if __name__==\"__main__\":\n",
    "    app.run(\"0.0.0.0\")"
   ]
  },
  {
   "cell_type": "raw",
   "id": "90efc02d-6f7c-44b9-b662-fbaa97b071d1",
   "metadata": {},
   "source": [
    "Microweb frameworks provide limited functionality (flask), while full-stack frameworks offer a complete solution (django).\n",
    "Blueprints in flask: A way to create reusable code in Flask.\n",
    "\n",
    "POSTMAN: A tool for testing web applications.\n",
    "         To test the functionality of the Flask application\n",
    "         features of Postman: \n",
    "             Automated testing, Request and response history, Environment variables."
   ]
  }
 ],
 "metadata": {
  "kernelspec": {
   "display_name": "Python 3 (ipykernel)",
   "language": "python",
   "name": "python3"
  },
  "language_info": {
   "codemirror_mode": {
    "name": "ipython",
    "version": 3
   },
   "file_extension": ".py",
   "mimetype": "text/x-python",
   "name": "python",
   "nbconvert_exporter": "python",
   "pygments_lexer": "ipython3",
   "version": "3.10.8"
  }
 },
 "nbformat": 4,
 "nbformat_minor": 5
}
