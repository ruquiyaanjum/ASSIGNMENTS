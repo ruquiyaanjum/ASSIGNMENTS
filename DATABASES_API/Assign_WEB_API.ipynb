{
 "cells": [
  {
   "cell_type": "markdown",
   "id": "4c1098ff-d776-49b9-a4e2-0eae66cade8e",
   "metadata": {},
   "source": [
    "Q1. What is an API? Give an example, where an API is used in real life."
   ]
  },
  {
   "cell_type": "markdown",
   "id": "208538b6-4e3a-42d8-ae41-db499e42650e",
   "metadata": {},
   "source": [
    "An Application Programming Interface that allows software applications to interact with each other.\n",
    "API endpoint : A unique address that specifies the location of a server's API.\n",
    "\n",
    "Two different application (homogeneous or hetrogeneous) communicate using API with the help of HTTP(Hyper text transfer protocol) , TCP protocol. \n",
    "\n",
    "ex: client is Gpay application(writen in react js language) and server  is bank system (ex:idfc,sbi) (written in mainframe technology) . suppose You want send amount 100 to xyz person --- then it will go to server system to check that (inside server many function are written) ,which check that account is there , if there balance is there or not , if balance is available and check the limit of money  if true then it will send money to xyz person and returns true to client side (Gpay application).  for all the communication is happened because of API (APLLICATION PROGRAMMING INTERFACE )..\n",
    "\n",
    "ex: Goggle search (searching in terms of query and resulting in web pages ,links ).\n",
    "    Gmail login(username and password)..."
   ]
  },
  {
   "cell_type": "markdown",
   "id": "58f552f8-0198-4778-96ad-0a0203641155",
   "metadata": {},
   "source": [
    "Q2. Give advantages and disadvantages of using API."
   ]
  },
  {
   "cell_type": "markdown",
   "id": "a84abf11-ba38-464c-b48c-aae0bbd07dd7",
   "metadata": {},
   "source": [
    "Advantages:\n",
    "\n",
    "Efficiency and connectivity: An Application Programming Interface that allows software applications to interact with each other.\n",
    "\n",
    "Reuse of Code: Reuse a code and function instead of building from scratch which will save time and efforts.\n",
    "\n",
    "Scalability:  API handle large amount of user connection in a easy way .\n",
    "\n",
    "Improved User Experience\n",
    "\n",
    "\n",
    "Disadvantages:\n",
    "\n",
    "Dependency:  when using API you dependent on server , if server removes API it will effect the client application\n",
    "\n",
    "Security Risks: unauthorized access data if not properly protected.\n",
    "\n",
    "Complexity:  working with complex APIs can be challenging for developers, especially those with limited experience.\n",
    "\n",
    "Performance Issues: Using APIs can sometimes introduce performance issues, especially if the API response time is slow or if there are network issues.\n",
    "\n",
    "In summary, while APIs offer numerous benefits such as code reuse, efficiency, and scalability, they also come with challenges such as dependency, security risks, complexity, and potential performance issues."
   ]
  },
  {
   "cell_type": "markdown",
   "id": "147b377f-af26-412f-9c84-05b396d2cbe5",
   "metadata": {},
   "source": [
    "Q3. What is a Web API? Differentiate between API and Web API."
   ]
  },
  {
   "cell_type": "raw",
   "id": "8d4062c5-db8a-45b9-b248-c2c24b5710d6",
   "metadata": {},
   "source": [
    "#difference between API and WEB API..\n",
    "\n",
    "CREATING A API USING \n",
    "TCP/IP,HTTP  many protocols are there to create API , \n",
    "\n",
    "protocol is set of rules.to create API\n",
    "\n",
    "using HTTP you are creating API means it is WEB API (PUT,GET,POST,DELETE methods) based on that you are puting data storing the data deleting data modifying data, update data function execute ..(gmail authentication , google search).\n",
    "\n",
    "web api inside python using http(hyper text transfer protocol) ..\n",
    "\n",
    "\n",
    "TCP(transmission control protocol) data transfer may be with the help xml,json.\n",
    "\n",
    "API (set of rules ) communicate in between a different different system..\n",
    "web api is subset of API.\n",
    "offline applications  .. same system and different system  within a apllication not through a web .. API "
   ]
  },
  {
   "cell_type": "markdown",
   "id": "9722c524-5d2c-4914-ac01-53b66b1759d2",
   "metadata": {},
   "source": [
    "#web API\n",
    "\n",
    "aplication programming interface : two diffrerent(code written in different language) system communicating means executing the function of other programming is calle API. communicate with homogeneous and hetrogenous system..\n",
    "\n",
    "web API : http (hyper text transfer protocol). used to communicate . ex: gmail login, google search (web api example).\n",
    "\n",
    "two system (one is your mobile application gpay) and other is bank system(sbi,idfc) wriiten in mainframe technolofy and gpay is written reactjs if user want to pay 100 rupees to someone first it calls the other system function to verify account is available balance limit and the transferered to that xyz account .\n",
    "\n",
    "\n",
    "some common uses of Web APIs:\n",
    "        Accessing databases and servers.\n",
    "        Integrating third-party services and data into applications.\n",
    "A set of standards and protocols for accessing web-based software applications or web tools , To access and retrieve data from a remote server"
   ]
  },
  {
   "cell_type": "markdown",
   "id": "09334e3b-b0e9-4a5e-b2ad-06e032486818",
   "metadata": {},
   "source": [
    "Q4. Explain REST and SOAP Architecture. Mention shortcomings of SOAP.\n",
    "Q5. Differentiate between REST and SOAP."
   ]
  },
  {
   "cell_type": "markdown",
   "id": "9fd01315-d2fb-46d1-8ff7-f4b5d4b4fe58",
   "metadata": {},
   "source": [
    "\n",
    "the shortcomings of SOAP in simpler terms:\n",
    "\n",
    "Complexity: SOAP can be complicated to use and understand because of its strict rules and XML-based messaging format.\n",
    "\n",
    "Performance Overhead: SOAP messages are often larger and require more processing, leading to slower performance compared to other protocols like REST.\n",
    "\n",
    "Compatibility Issues: SOAP may not work well with certain web browsers or platforms, causing compatibility problems.\n",
    "\n",
    "Scalability Challenges: Due to its complexity, SOAP may not scale as effectively as simpler alternatives, making it less suitable for large-scale applications.\n",
    "\n",
    "REST and SOAP Architecture\n",
    "Types of web services : REST and SOAP\n",
    "API -- using TCP,SMTP,HTTP protocol\n",
    "architecture involved \n",
    "architecture : REST and  SOAP  ARCHITECTURE.\n",
    "REST -- WEB BASED API,WEB TRANSACTION, WEB API (http -- data transfer, update,insert , delete )\n",
    "REST  -- put,post,get, delete \n",
    "REST -- architecture design  do a communication between an application over  a web. \n",
    "REST is always known for its simplicility, scalability, flexible (in term of communication & development)..\n",
    "\n",
    "\n",
    "SOAP ARCHITECTURE -- xml based (Extensible Markup Language)...messaging protocol -- it help in data transfer,instruction..\n",
    "                      xml is kind of a filesystem (markup language).. commands ,instruction based on that perform transaction..\n",
    "                      xml uses internally WSDL (web service description language) -- instruction,information with help of that SOAP architecture communicate between system\n",
    "SOAP supports http(hyper text markup language), smtp (simple mail transfer protocol) and tcp (transmission control protocol).\n",
    "REST is easy to implement as compare to the SOAP architecture\n",
    "SOAP architecture is complement interms of implementation.\n",
    "REST is stateless protocol(transaction cannot store), caching is there.. functionalities is given for caching can achieve it..\n",
    "SOAP -- is more lightweight protocol (heavy transaction not happen), complex.. REST is not lightweight protocol but very simple to implement..\n",
    "SOAP is security provide.. not REST (common use applications used)...\n"
   ]
  },
  {
   "cell_type": "raw",
   "id": "23528c09-3c26-4303-b26f-ce2d03680838",
   "metadata": {},
   "source": [
    "(Restful Services: properties \n",
    "\n",
    "1) RESTful services also known as RESTful APIs, are web services that follow the REST architecture style .\n",
    "2) REST stands for representational state transferprotocol, which is a set of priniciples for building web services that use HTTP (Hyper text transfer protocol) as the communication protocol.\n",
    "3) RESTful services are based on the following principles:\n",
    "\n",
    "1) client-server architecture: the client and server are separated allowing them to evolve independently. \n",
    "\n",
    "2)stateless each request sent to the server contains all the information needed to complete the request. the server does not maintain any client context between requests. \n",
    "\n",
    "3) cacheable: responses from the server can be cached to improve performance. \n",
    "\n",
    "4)uniform interfaces: RESTful services use a uniform interface consisting of resources , HTTP verbs(GET, POST, PUT, DELETE) \n",
    "\n",
    "5) Layered system: RESTful services can be composed of multiple layers, allowing for scalability, flexibility,security.."
   ]
  },
  {
   "cell_type": "markdown",
   "id": "01bd2bfe-4322-49cf-8b9a-407a525fefa0",
   "metadata": {},
   "source": [
    "some benefits of using SOAP architecture:  It provides a standardized way for applications to communicate with each other. A protocol for sending and receiving messages between applications.\n",
    "\n",
    "some benefits of using REST architecture:  It is lightweight and easy to use.\n",
    "It provides a standardized way for applications to communicate with each other.\n",
    "A software architecture style for creating scalable web services.A type of API that uses Representational State Transfer (REST) principles\n",
    "\n"
   ]
  }
 ],
 "metadata": {
  "kernelspec": {
   "display_name": "Python 3 (ipykernel)",
   "language": "python",
   "name": "python3"
  },
  "language_info": {
   "codemirror_mode": {
    "name": "ipython",
    "version": 3
   },
   "file_extension": ".py",
   "mimetype": "text/x-python",
   "name": "python",
   "nbconvert_exporter": "python",
   "pygments_lexer": "ipython3",
   "version": "3.10.8"
  }
 },
 "nbformat": 4,
 "nbformat_minor": 5
}
