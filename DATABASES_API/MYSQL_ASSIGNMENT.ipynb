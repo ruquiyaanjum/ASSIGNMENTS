{
 "cells": [
  {
   "cell_type": "markdown",
   "id": "f07422f2-7b88-49c8-952d-7bb868f8d4e0",
   "metadata": {},
   "source": [
    "Q1. What is a database? Differentiate between SQL and NoSQL databases."
   ]
  },
  {
   "cell_type": "markdown",
   "id": "9441f0ae-cacb-4ea5-bea4-4f2bc53799b0",
   "metadata": {},
   "source": [
    "Database : Storing and managing the information or data.\n",
    "divided into two categories : SQL and NoSQL\n",
    "SQL-- structure query language. \n",
    "      tabular format (rows and coulmns)\n",
    "      ex: excel sheet\n",
    "      vendors like mysql, mssql, DB2 (IBM), oracle 11g  --sql based.\n",
    "      database (folder)-- tables (files)--- data in tabular form (rows and columns)\n",
    "      database -- tables,views,procedures,functions..\n",
    "      \n",
    "NoSQL -- Not only structure query language.\n",
    "         different different syntax used.\n",
    "         MongoDB,cassandra,Habse,Neo4j,influx.\n",
    "         unstructure data can store(like audio,image,video, files)."
   ]
  },
  {
   "cell_type": "markdown",
   "id": "3ebb8b1c-d404-435b-9cc5-cecfb890cec6",
   "metadata": {},
   "source": [
    "Q2. What is DDL? Explain why CREATE, DROP, ALTER, and TRUNCATE are used with an example.\n",
    "Q3. What is DML? Explain INSERT, UPDATE, and DELETE with an example.\n",
    "Q4. What is DQL? Explain SELECT with an example.\n",
    "Q5. Explain Primary Key and Foreign Key.\n",
    "Q6. Write a python code to connect MySQL to python. Explain the cursor() and execute() method."
   ]
  },
  {
   "cell_type": "markdown",
   "id": "6c7eb07d-1da7-4dc9-bc11-e0e544b3f222",
   "metadata": {},
   "source": [
    "DDL: Data Definition Language  (used in tables). \n",
    "    -- CREATE (create table), DROP (delete table), \n",
    "    ALTER (modify tables),TRUNCATE (remove all data from tables in one go).\n",
    "    \n",
    "DML: Data Manipulation Language (used for data).\n",
    "     -- INSERT (inserting data), UPDATE (updating data), \n",
    "       DELETE (deleting a row data, has a backup of deleted data (log file.)).\n",
    "\n",
    "DQL: Data Query Language (retrieving data) using SELECT command.\n",
    "\n",
    "Primary Key : unique key + NOT NULL (ex: college registration number).\n",
    "\n",
    "Foreign Key: referencial integrity (referencing to primary key of another table).\n",
    "\n",
    "cursor() : pointer to getting all data.\n",
    "execute() : Executing the sql queries."
   ]
  },
  {
   "cell_type": "code",
   "execution_count": null,
   "id": "f7ef12a4-05ef-49c4-9755-b4e4078b8186",
   "metadata": {},
   "outputs": [],
   "source": [
    "\"\"\"Example of DDL, DML, DQL , Primary Key, FORIEGN KEY, python code to connect MySQL to python (using cursor and execute)\"\"\"\n",
    "\n",
    "import mysql.connector\n",
    "\n",
    "#connecting\n",
    "mydb=mysql.connector.connect(\n",
    "    host=\"localhost\",\n",
    "    user=\"abc\",\n",
    "    password=\"password\"\n",
    ")\n",
    "\n",
    "#pointer position..\n",
    "mycusor=mydb.cursor()\n",
    "\n",
    "\n",
    "\"\"\"    Data Definition Language(CREATE,ALTER,DROP,TRUNCATE)       \"\"\"\n",
    "\n",
    "mycusor.execute(\"CREATE DATABASE if not exists TEST\")  #creating database (folder)\n",
    "\n",
    "#TABLE -- CREATE , PRIMARY KEY , FOREIGN KEY.\n",
    "# Ensure that the referenced table exists\n",
    "mycusor.execute(\"CREATE TABLE IF NOT EXISTS TEST.reference_table (id INT AUTO_INCREMENT PRIMARY KEY, ref_column VARCHAR(50))\")\n",
    "\n",
    "# Create the users table if it doesn't exist\n",
    "mycusor.execute(\"CREATE TABLE IF NOT EXISTS TEST.users (id INT AUTO_INCREMENT PRIMARY KEY, username VARCHAR(50) NOT NULL, email VARCHAR(100) UNIQUE, ref_id INT, FOREIGN KEY (ref_id) REFERENCES reference_table(id))\")\n",
    "\n",
    "# Commit the changes\n",
    "mydb.commit()\n",
    "\n",
    "\n",
    "#ALTER table\n",
    "#mycusor.execute(\"ALTER TABLE  TEST.users ADD COLUMN   date_of_birth2 DATE\")\n",
    "\n",
    "# DROP table \n",
    "#mycusor.execute(\"DROP TABLE IF EXISTS TEST.users\")\n",
    "\n",
    "\"\"\"DML: Data Manipulation Language(INSERT, UPDATE, DELETE )\"\"\"\n",
    "\n",
    "#INSERT\n",
    "#mycusor.execute(\"insert into  TEST.users values(1,'ruquiya','rukz@gmail.com','1996-11-13')\")\n",
    "#mydb.commit()\n",
    "\n",
    "#TRUNCATE command \n",
    "#mycusor.execute(\"TRUNCATE TABLE TEST.users\")\n",
    "\n",
    "#DELETE\n",
    "#mycusor.execute(\"DELETE FROM TEST.users WHERE username = 'ruquiya'\")\n",
    "#mydb.commit()\n",
    "\n",
    "#UPDATE\n",
    "#mycusor.execute(\"UPDATE TEST.users SET email = 'newemail@example.com' WHERE username = 'ruquiya'\")\n",
    "#mydb.commit()\n",
    "\n",
    "\"\"\" Data Query Language(SELECT)  return (tuple type)..\"\"\" \n",
    "mycusor.execute(\"SELECT * FROM TEST.users\")\n",
    "for i in mycusor.fetchall():\n",
    "    print(i)\n",
    "\n",
    "#SHOWING DATABASE ..\n",
    "mycusor.execute(\"SHOW DATABASES\")\n",
    "for x in mycusor:\n",
    "     print(x)\n",
    "\n",
    "mydb.close()\n"
   ]
  },
  {
   "cell_type": "markdown",
   "id": "4681a018-c572-41b6-965f-b1fa5875f00e",
   "metadata": {},
   "source": [
    "Q7. Give the order of execution of SQL clauses in an SQL query."
   ]
  },
  {
   "cell_type": "markdown",
   "id": "e43b1c15-5130-4653-8609-171ed6aa14eb",
   "metadata": {},
   "source": [
    "In SQL, the order of execution is :\n",
    "FROM: Specifies the tables from which data will be retrieved.\n",
    "WHERE: Filters the rows based on specified conditions.\n",
    "GROUP BY: Groups the rows that have the same values into summary rows.\n",
    "HAVING: Filters groups based on specified conditions.\n",
    "SELECT: Specifies the columns to be retrieved.\n",
    "ORDER BY: Sorts the rows in the result set by specified columns.\n",
    "LIMIT/OFFSET: Limits the number of rows returned or skips a specified number of rows."
   ]
  }
 ],
 "metadata": {
  "kernelspec": {
   "display_name": "Python 3 (ipykernel)",
   "language": "python",
   "name": "python3"
  },
  "language_info": {
   "codemirror_mode": {
    "name": "ipython",
    "version": 3
   },
   "file_extension": ".py",
   "mimetype": "text/x-python",
   "name": "python",
   "nbconvert_exporter": "python",
   "pygments_lexer": "ipython3",
   "version": "3.10.8"
  }
 },
 "nbformat": 4,
 "nbformat_minor": 5
}
