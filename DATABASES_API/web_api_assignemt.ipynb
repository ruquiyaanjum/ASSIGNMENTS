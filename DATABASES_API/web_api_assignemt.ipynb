{
 "cells": [
  {
   "cell_type": "markdown",
   "id": "36137ef4-a085-4ab8-ad5f-bd52b0419c3b",
   "metadata": {},
   "source": [
    "Q1. What is an API? Give an example, where an API is used in real life."
   ]
  },
  {
   "cell_type": "markdown",
   "id": "cee18c6b-e0b9-4559-bf6a-2b564ba4ec2c",
   "metadata": {},
   "source": [
    "API: Two different application (homogeneous or hetrogeneous) communicate using API with the help of HTTP(Hyper text transfer protocol) , TCP protocol. \n",
    "\n",
    "API endpoint : A unique address that specifies the location of a server's API.\n",
    "\n",
    "ex: client is Gpay application(writen in react js language) and server  is bank system (ex:idfc,sbi) (written in mainframe technology) . suppose You want send amount 100 to xyz person --- then it will go to server system to check that (inside server many function are written) ,which check that account is there , if there balance is there or not , if balance is available and check the limit of money  if true then it will send money to xyz person and returns true to client side (Gpay application).  for all the communication is happened because of API (APLLICATION PROGRAMMING INTERFACE ).\n",
    "\n",
    "ex: Goggle search (searching in terms of query and resulting in web pages ,links ).\n",
    "    Gmail login(username and password)."
   ]
  },
  {
   "cell_type": "markdown",
   "id": "522d0351-ee81-43af-93a1-1213881bee05",
   "metadata": {},
   "source": [
    "Q2. Give advantages and disadvantages of using API."
   ]
  },
  {
   "cell_type": "markdown",
   "id": "585fec72-c7fa-45f1-ba63-f30e64ce82a7",
   "metadata": {},
   "source": [
    "1) API endpoint : A unique address that specifies the location of a server's API.\n",
    "2) Advantages : \n",
    "* connection (two application easily)\n",
    "* code reusability\n",
    "* scalabilty(handle large   amount of connections )\n",
    "\n",
    "3) Disadvantages:\n",
    "* Dependency (depend on server(modified something client get affected))\n",
    "* security risks\n",
    "* complexity(working with complex API)\n",
    "* Performance issues (network issue)"
   ]
  },
  {
   "cell_type": "markdown",
   "id": "5c590c23-938b-4b64-880c-1936dfd04030",
   "metadata": {},
   "source": [
    "Q3. What is a Web API? Differentiate between API and Web API."
   ]
  },
  {
   "cell_type": "markdown",
   "id": "32efc86f-95f5-4a83-9ae3-b8dda8b2b342",
   "metadata": {},
   "source": [
    "An Web  Application Programming Interface that allows software applications to interact with each other using HTTP protocol through web communication .\n",
    "\n",
    "An Application Programming Interface that allows software applications to interact with each other. through TCP/IP. within application.\n",
    "\n",
    "ex: gmail authentication and google search.\n",
    "\n",
    "To create API : TCP/ip(transmission control protocol),HTTP(hyper text transfer protcol) is used.\n",
    "\n",
    "protocol -- set of rules. \n",
    "\n",
    "HTTP : Web API (PUT,GET,POST,DELETE) based on this perform operations on data. and TCP  data transfer (in terms of XML, json).\n",
    "\n",
    "Web API is a subset of API .API within a apllication communicate TCP/IP not through web.\n",
    "\n",
    "common uses of Web APIs: Accessing databases and servers. Integrating third-party services and data into applications.                  "
   ]
  },
  {
   "cell_type": "markdown",
   "id": "c61a531c-6085-4625-b19f-2197b0303af0",
   "metadata": {},
   "source": [
    "Q4. Explain REST and SOAP Architecture. Mention shortcomings of SOAP.\n",
    "Q5. Differentiate between REST and SOAP."
   ]
  },
  {
   "cell_type": "markdown",
   "id": "b47fe4ec-d83a-4615-84b7-152c335669d7",
   "metadata": {},
   "source": [
    "1) Type of Web services : REST and SOAP Architecture.\n",
    "\n",
    "2) REST (Representational State Transfer) : is architecture design  communicate application over   Web API --HTTP   (PUT,GET,POST,DELETE) data operations performed.  REST is always known for its simplicity, scalability, flexible (in term of communication & development)\n",
    "3) SOAP : xml--(extensible markup language (is file system - xml uses internally (\"web service description language\") commands and instructions based on this SOAP perform standarized way of communication between two applications.)) -- messaging protocol (help in data transfer).\n",
    "4) SOAP supports http(hyper text markup language), smtp (simple mail transfer protocol) and tcp (transmission control protocol). \n",
    "5) REST is easy to implement(common use application),lightweight and SOAP is complex to implement(provides security) and  (heavy transaction not happen).\n",
    "6) REST is stateless protocol (transaction not stored) using caching we can achieve this.\n",
    "7) REST: A software architecture style for creating scalable web services. SOAP:A protocol for sending and receiving messages between applications. \n",
    "8) shortcomings (Disadvanatges) of SOAP : \n",
    "Complexity : (strict rules and xml based messaging format), \n",
    "Performance Overhead ( messages require more processing which leads to slow performance  compare to REST), \n",
    "Compatibility Issues (may not work with certain web browser) and  \n",
    "Scalability Challenges ( less suitable for large applications)\n",
    "\n",
    "1) RESTful services is RESTful API -- Web service (follow REST architecture style).\n",
    "2) REST (representational state transfer protocol) -- set of principles to build web services using HTTP protocol .\n",
    "3) Properties : client-server architecture, stateless, cacheable( responses from the server can be cached to improve performance), uniform interfaces (resources --HTTP (GET,POST,DELETE,PUT)), Layered system (composed of multiple layers -- scalability, flexibility,security)."
   ]
  }
 ],
 "metadata": {
  "kernelspec": {
   "display_name": "Python 3 (ipykernel)",
   "language": "python",
   "name": "python3"
  },
  "language_info": {
   "codemirror_mode": {
    "name": "ipython",
    "version": 3
   },
   "file_extension": ".py",
   "mimetype": "text/x-python",
   "name": "python",
   "nbconvert_exporter": "python",
   "pygments_lexer": "ipython3",
   "version": "3.10.8"
  }
 },
 "nbformat": 4,
 "nbformat_minor": 5
}
