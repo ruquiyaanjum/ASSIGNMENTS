{
  "nbformat": 4,
  "nbformat_minor": 0,
  "metadata": {
    "colab": {
      "provenance": [],
      "authorship_tag": "ABX9TyNL7kVbGTz0x/Xwrzbaahxu",
      "include_colab_link": true
    },
    "kernelspec": {
      "name": "python3",
      "display_name": "Python 3"
    },
    "language_info": {
      "name": "python"
    }
  },
  "cells": [
    {
      "cell_type": "markdown",
      "metadata": {
        "id": "view-in-github",
        "colab_type": "text"
      },
      "source": [
        "<a href=\"https://colab.research.google.com/github/ruquiyaanjum/ASSIGNMENTS/blob/main/Untitled23.ipynb\" target=\"_parent\"><img src=\"https://colab.research.google.com/assets/colab-badge.svg\" alt=\"Open In Colab\"/></a>"
      ]
    },
    {
      "cell_type": "markdown",
      "source": [
        "**Linux Assignment**"
      ],
      "metadata": {
        "id": "Xlqx3Nmkzi8V"
      }
    },
    {
      "cell_type": "markdown",
      "source": [
        "**1. What is Linux?**"
      ],
      "metadata": {
        "id": "diZHkbVyzn5v"
      }
    },
    {
      "cell_type": "markdown",
      "source": [
        "**Linux is :**\n",
        "1. Operating System : Interface between hardware & software on system.\n",
        "2. Open Source : free to use, modify and share.\n",
        "3. Stable : reliable and does not crash.\n",
        "4. Secure : safer from viruses and malware.\n",
        "5. Used Everywhere : phones(android), computers, and servers.\n",
        "6. Popular Distribution : ubuntu, fedora, debian."
      ],
      "metadata": {
        "id": "aMsvh9KLzvRH"
      }
    },
    {
      "cell_type": "markdown",
      "source": [
        "**2. What is the difference between Hard Link & Soft Link?**"
      ],
      "metadata": {
        "id": "mJvr69fG1gZw"
      }
    },
    {
      "cell_type": "markdown",
      "source": [
        "**Hard Link :**\n",
        " * same file, different name. Deleting one doesnt lose the data.\n",
        " * Direct link to the data (same inode).\n",
        " * No separate file, both links point to the same file data\n",
        " * deleting the original file does not delete the data if another hard link exists.\n",
        " * cannot link to directories (except by root)\n",
        " * ex:\n",
        "      \n",
        "        echo \"Hello, this is file1\" > file1.txt\n",
        "        ln file1.txt h1.txt\n",
        "        cat file1.txt\n",
        "        cat h1.txt\n",
        "        rm file1.txt\n",
        "        cat h1.txt\n",
        "        Note: h1.txt still works and contains the same data because it points to the same data as file1.txt.\n",
        "    \n",
        "**Soft Link :**\n",
        " * Shortcut, if the original file is deleted, the link is broken.\n",
        " * symbolic link : shortcut to the original file.\n",
        " * different inode : points to the file  path not the data.\n",
        " * deleting the original file makes the soft link broken.\n",
        " * can link to directories.\n",
        " * ex:\n",
        "        echo \"Hello, this is file1\" > file1.txt\n",
        "        ln -s file1.txt s1.txt\n",
        "        cat file1.txt\n",
        "        cat s1.txt\n",
        "        rm file1.txt\n",
        "        cat s1.txt\n",
        "        Note: s1.txt becomes broken because it was pointing to file1.txt, which no longer exists."
      ],
      "metadata": {
        "id": "0LLMOXmo1rPQ"
      }
    },
    {
      "cell_type": "markdown",
      "source": [
        "**3. What is a Kernel in Linux?**"
      ],
      "metadata": {
        "id": "uxpEd6C0-dvC"
      }
    },
    {
      "cell_type": "markdown",
      "source": [
        "* The kernel is the core part of the operating system.\n",
        "* It manages hardware(CPU, memory, devices).\n",
        "* It allows software(program) to run by talking to hardware.\n",
        "* The kernel controls processes, files and devices.\n",
        "* it is like the bridge between the hardware and software\n",
        "* The kernel makes your computer hardware and software work together."
      ],
      "metadata": {
        "id": "xgvsZQrC-A47"
      }
    },
    {
      "cell_type": "markdown",
      "source": [
        "**4. How do you create a user account?**"
      ],
      "metadata": {
        "id": "c98BBbXFAc2e"
      }
    },
    {
      "cell_type": "markdown",
      "source": [
        "To create user account in linux, you can use the useradd command\n",
        "* sudo useradd newuser  (creates the user )\n",
        "* sudo passwd newuser (sets the password)\n",
        "* sudo usermod -aG sudo newuser (add to group)\n",
        "* id newuser  (verify user)"
      ],
      "metadata": {
        "id": "yXPqftdZAk1t"
      }
    },
    {
      "cell_type": "markdown",
      "source": [
        "**5.What is the ‘grep’ command used for in Linux?**"
      ],
      "metadata": {
        "id": "aVPr8_oOCuLj"
      }
    },
    {
      "cell_type": "markdown",
      "source": [
        "* The grep command in Linux is used to search for specific text in file.\n",
        "* grep looks for words/patterns in files and shows the line where they appear.\n",
        "* it helps you find text in files.\n",
        "* its case-sensitive by default.\n",
        "* echo \"apple\" > a.txt\n",
        "* grep \"apple\" a.txt\n"
      ],
      "metadata": {
        "id": "n3IEI2a4DlbU"
      }
    },
    {
      "cell_type": "markdown",
      "source": [
        "**6.Step1: Create user p1**\n",
        "**Step2: He should be part of 3 groups g1,g2,g3.**\n",
        " **Step3: whenever he creates a file automatically in the group section of file grp g1 should come?**  "
      ],
      "metadata": {
        "id": "45nqGiWaHsAA"
      }
    },
    {
      "cell_type": "markdown",
      "source": [
        "Create user:\n",
        "sudo useradd -m pl\n",
        "\n",
        "Create group g1:\n",
        "sudo groupadd g1\n",
        "\n",
        "Create group g2:\n",
        "sudo groupadd g2\n",
        "\n",
        "Create group g3:\n",
        "sudo groupadd g3\n",
        "\n",
        "Add user to groups:\n",
        "sudo usermod -aG g1,g2,g3 pl\n",
        "\n",
        "Create work directory:\n",
        "sudo mkdir /home/pl/work\n",
        "\n",
        "Change group ownership:\n",
        "sudo chown :g1 /home/pl/work/\n",
        "\n",
        "Set group sticky bit:\n",
        "sudo chmod g+s /home/pl/work/\n",
        "\n",
        "List directory details:\n",
        "ls -ld /home/pl/work/"
      ],
      "metadata": {
        "id": "Tuayw7aLDl6V"
      }
    },
    {
      "cell_type": "markdown",
      "source": [
        "**7. Step1: Create directory /tmp/bg as root user and create files inside it.**\n",
        "\n",
        "**Step2: “abhi” should be the owner of the directory. He should be able to create files and delete files inside**\n",
        "\n",
        "**the directory and also he should be able to add content to all files inside the directory.**"
      ],
      "metadata": {
        "id": "hc7ACzhepPJg"
      }
    },
    {
      "cell_type": "markdown",
      "source": [
        "* Create user: sudo useradd abhi\n",
        "* Verify user: getent passwd abhi\n",
        "* Create group: sudo groupadd abhi\n",
        "* Add user to group: sudo usermod -aG abhi abhi\n",
        "* Create directory: sudo mkdir /tmp/bg\n",
        "* Create files: sudo touch /tmp/bg/file{1..3}.txt\n",
        "* Change ownership: sudo chown -R abhi:abhi /tmp/bg\n",
        "* Set directory permissions: sudo chmod 755 /tmp/bg\n",
        "* Set file permissions: sudo chmod 644 /tmp/bg/*\n",
        "* List files: ls -l /tmp/bg/\n",
        "* Set password: sudo passwd abhi\n",
        "* Switch user: su - abhi\n",
        "* Create file: touch /tmp/bg/file.txt\n",
        "* Write to file: echo \"hello\" > /tmp/bg/file.txt\n",
        "* Read file: cat /tmp/bg/file.txt\n",
        "* Remove file: rm /tmp/bg/file.txt"
      ],
      "metadata": {
        "id": "pt_QFQ889X6s"
      }
    },
    {
      "cell_type": "markdown",
      "source": [
        "**8.You suspect that a particular process is consuming excessive CPU** **resources on your Linux server. How**\n",
        "**would you identify and terminate this process?**"
      ],
      "metadata": {
        "id": "GQY8MemxM45D"
      }
    },
    {
      "cell_type": "markdown",
      "source": [
        "process is consuming excessive CPU resources on your Linux server using top command\n",
        "\n",
        "    top (look for the process using the highest CPU value)\n",
        "\n",
        "kill the process : find process ID <PID> of high cpu process in the top output.\n",
        "* kill <PID>   (replace <PID> with actual process ID)\n",
        "* if process doesn't stop force it with :\n",
        "   kill -9 <PID> (ex: kill -9 8709)"
      ],
      "metadata": {
        "id": "bapwxvq7OG40"
      }
    }
  ]
}