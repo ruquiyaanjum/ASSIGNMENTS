{
 "cells": [
  {
   "cell_type": "markdown",
   "id": "19410970-af8d-43b5-ad60-ebab56252171",
   "metadata": {},
   "source": [
    "Q1. Explain Class and Object with respect to Object-Oriented Programming. Give a suitable example."
   ]
  },
  {
   "cell_type": "markdown",
   "id": "93a357a5-91e5-4762-817f-139051dbc170",
   "metadata": {},
   "source": [
    "class -- is skeleton or blueprint .\n",
    "class is just a classifiaction of real world entity but not specific to real world entity.\n",
    "\n",
    "object -- real world entity , (variable,instance,object)\n",
    "both class and object is important in oops concept."
   ]
  },
  {
   "cell_type": "code",
   "execution_count": 1,
   "id": "e0301763-bbe5-4271-8513-0c6a2e956cdf",
   "metadata": {},
   "outputs": [],
   "source": [
    "class pwskills:\n",
    "    \n",
    "    def __init__(self,student_name,student_email_id,student_number):\n",
    "        self.student_name=student_name\n",
    "        self.student_email_id=student_email_id\n",
    "        self.student_number=student_number\n",
    "    \n",
    "    def details(self):\n",
    "        return self.student_email_id,self.student_name,self.student_number\n"
   ]
  },
  {
   "cell_type": "code",
   "execution_count": 2,
   "id": "8f19d95f-b2b1-4725-a50a-801c222c6098",
   "metadata": {},
   "outputs": [],
   "source": [
    "pw=pwskills(\"rukz\",\"rukz@gmail.com\",967848388282)"
   ]
  },
  {
   "cell_type": "code",
   "execution_count": 3,
   "id": "81a7aac5-9067-45d1-9b84-5e2cbb8027aa",
   "metadata": {},
   "outputs": [
    {
     "data": {
      "text/plain": [
       "('rukz@gmail.com', 'rukz', 967848388282)"
      ]
     },
     "execution_count": 3,
     "metadata": {},
     "output_type": "execute_result"
    }
   ],
   "source": [
    "pw.details()"
   ]
  },
  {
   "cell_type": "code",
   "execution_count": 4,
   "id": "22cd2bfb-c6bf-46e7-88db-37c0c3578e6e",
   "metadata": {},
   "outputs": [
    {
     "data": {
      "text/plain": [
       "'rukz@gmail.com'"
      ]
     },
     "execution_count": 4,
     "metadata": {},
     "output_type": "execute_result"
    }
   ],
   "source": [
    "pw.student_email_id"
   ]
  },
  {
   "cell_type": "code",
   "execution_count": 5,
   "id": "821288e7-08fd-4f94-8a8b-9c575b048f47",
   "metadata": {},
   "outputs": [
    {
     "data": {
      "text/plain": [
       "'rukz'"
      ]
     },
     "execution_count": 5,
     "metadata": {},
     "output_type": "execute_result"
    }
   ],
   "source": [
    "pw.student_name"
   ]
  },
  {
   "cell_type": "code",
   "execution_count": 6,
   "id": "d149a23a-0907-41ab-86f8-ee826c1eadaf",
   "metadata": {},
   "outputs": [
    {
     "data": {
      "text/plain": [
       "967848388282"
      ]
     },
     "execution_count": 6,
     "metadata": {},
     "output_type": "execute_result"
    }
   ],
   "source": [
    "pw.student_number"
   ]
  },
  {
   "cell_type": "markdown",
   "id": "d7d5e354-3fbf-4914-8ae7-5f37d71f5a7c",
   "metadata": {},
   "source": [
    "Q2. Name the four pillars of OOPs."
   ]
  },
  {
   "cell_type": "markdown",
   "id": "0885be72-5641-4de4-99f2-755c7e84dab8",
   "metadata": {},
   "source": [
    "four pillars of oops-- inheritance, polymorphism,abstraction, encapsulation\n",
    "\n",
    "inheritance -- inheritaning the property of classes like parent --child relation. (multiple and multilable inheritance)\n",
    "\n",
    "polymorphism -- many version,  different different task perform by single operation.\n",
    "\n",
    "abstarction -- skeleton or blueprint, we can use function to write that data  @abstarctmethod\n",
    "\n",
    "encapsulation -- user should not be able to see  the data what we defined , using encapsulation (__ double slash variable) we can achieve this..\n"
   ]
  },
  {
   "cell_type": "markdown",
   "id": "89ad549d-d765-409c-966e-e8f87b6523c4",
   "metadata": {},
   "source": [
    "Q3. Explain why the __init__() function is used. Give a suitable example."
   ]
  },
  {
   "cell_type": "markdown",
   "id": "3a01f17a-1a8c-4954-b4f9-64e24400c16b",
   "metadata": {},
   "source": [
    "__init__ -- is intialization (inbuilt function) is like a constructor . it is used for data passing when object is creating.\n"
   ]
  },
  {
   "cell_type": "code",
   "execution_count": 7,
   "id": "eaf36ac3-2d64-4400-ba68-c0bb8632753e",
   "metadata": {},
   "outputs": [],
   "source": [
    "class pwskills1:\n",
    "    def __init__(self,name,number,age,college,city):\n",
    "        self.name=name\n",
    "        self.number=number\n",
    "        self.age=age\n",
    "        self.college=college\n",
    "        self.city=city\n",
    "    def student_details(self):\n",
    "         return self.number,self.name,self.age,self.college,self.city\n",
    "pw=pwskills1(\"rukz\",9393838299,26,\"rv college\",\"bangalore\")\n",
    "    "
   ]
  },
  {
   "cell_type": "code",
   "execution_count": 8,
   "id": "73d3a4b3-ff4d-4ef9-a459-5e94a9651663",
   "metadata": {},
   "outputs": [
    {
     "data": {
      "text/plain": [
       "26"
      ]
     },
     "execution_count": 8,
     "metadata": {},
     "output_type": "execute_result"
    }
   ],
   "source": [
    "pw.age"
   ]
  },
  {
   "cell_type": "code",
   "execution_count": 9,
   "id": "7358a935-072d-4685-a69a-2d07bd5ac25f",
   "metadata": {},
   "outputs": [
    {
     "data": {
      "text/plain": [
       "'bangalore'"
      ]
     },
     "execution_count": 9,
     "metadata": {},
     "output_type": "execute_result"
    }
   ],
   "source": [
    "pw.city"
   ]
  },
  {
   "cell_type": "code",
   "execution_count": 10,
   "id": "fa2a60a1-9494-47c0-abb7-61e20185ed2f",
   "metadata": {},
   "outputs": [
    {
     "data": {
      "text/plain": [
       "'rv college'"
      ]
     },
     "execution_count": 10,
     "metadata": {},
     "output_type": "execute_result"
    }
   ],
   "source": [
    "pw.college"
   ]
  },
  {
   "cell_type": "code",
   "execution_count": 11,
   "id": "519f0f55-b2bc-435c-8936-dd8de43dc822",
   "metadata": {},
   "outputs": [
    {
     "data": {
      "text/plain": [
       "'rukz'"
      ]
     },
     "execution_count": 11,
     "metadata": {},
     "output_type": "execute_result"
    }
   ],
   "source": [
    "pw.name"
   ]
  },
  {
   "cell_type": "code",
   "execution_count": 12,
   "id": "2cc8ab37-035d-4020-a064-b42a0da1a357",
   "metadata": {},
   "outputs": [
    {
     "data": {
      "text/plain": [
       "9393838299"
      ]
     },
     "execution_count": 12,
     "metadata": {},
     "output_type": "execute_result"
    }
   ],
   "source": [
    "pw.number"
   ]
  },
  {
   "cell_type": "code",
   "execution_count": 13,
   "id": "c12f4475-bc5e-4e8a-8bb2-8b65bf49deae",
   "metadata": {},
   "outputs": [
    {
     "data": {
      "text/plain": [
       "(9393838299, 'rukz', 26, 'rv college', 'bangalore')"
      ]
     },
     "execution_count": 13,
     "metadata": {},
     "output_type": "execute_result"
    }
   ],
   "source": [
    "pw.student_details()"
   ]
  },
  {
   "cell_type": "markdown",
   "id": "8c9da397-c3af-4fec-aa1c-86f293854ff2",
   "metadata": {},
   "source": [
    "Q4. Why self is used in OOPs?"
   ]
  },
  {
   "cell_type": "markdown",
   "id": "f2afd7e7-114c-43b0-9010-107b187bf906",
   "metadata": {},
   "source": [
    "self is not a reserved keyword\n",
    "self is pointer .. poiting to a particular class.. we can defined our own name  first parameter like cls. , it act like pointer"
   ]
  },
  {
   "cell_type": "code",
   "execution_count": 15,
   "id": "7337203a-bd54-448a-b405-c4d456fb19f2",
   "metadata": {},
   "outputs": [
    {
     "data": {
      "text/plain": [
       "'rukz'"
      ]
     },
     "execution_count": 15,
     "metadata": {},
     "output_type": "execute_result"
    }
   ],
   "source": [
    "class pwskills:\n",
    "    def __init__(self):\n",
    "        self.name=\"rukz\"  #self pointing to pwskills class \n",
    "pw=pwskills()\n",
    "pw.name"
   ]
  },
  {
   "cell_type": "markdown",
   "id": "46c0e387-5d65-4d84-a8bf-95aa50983e4a",
   "metadata": {},
   "source": [
    "Q5. What is inheritance? Give an example for each type of inheritance."
   ]
  },
  {
   "cell_type": "code",
   "execution_count": null,
   "id": "5e89518a-faf3-4562-b83b-ba555209d16f",
   "metadata": {},
   "outputs": [],
   "source": [
    "inheritance -- parent --child  property\n",
    "*  inheriting the property of one class to another class.\n",
    "*  two types of inheritance : multiple inheritance and multilable inheritance\n",
    "*  multiple inheritance -- class A(father), class B(mother), class c(father, mother) inherits both class a and class b.\n",
    "*  multilable inheritance-- class A property iherits class B and clasS B property inherits class C."
   ]
  },
  {
   "cell_type": "code",
   "execution_count": 2,
   "id": "17bbd601-15f5-491b-becb-411f392d81be",
   "metadata": {},
   "outputs": [],
   "source": [
    "class A:\n",
    "    def test(self):\n",
    "        return \"this is my first class A\"\n",
    "    "
   ]
  },
  {
   "cell_type": "code",
   "execution_count": 3,
   "id": "1aa81743-9205-4130-8b9f-bb09feab7bac",
   "metadata": {},
   "outputs": [],
   "source": [
    "class B(A):\n",
    "    pass"
   ]
  },
  {
   "cell_type": "code",
   "execution_count": 4,
   "id": "9ade4c84-aa24-48fb-81f6-cc7c35ab68c3",
   "metadata": {},
   "outputs": [],
   "source": [
    "b=B()"
   ]
  },
  {
   "cell_type": "code",
   "execution_count": 5,
   "id": "2f74b65f-ea43-476e-bc8b-34a10c21d978",
   "metadata": {},
   "outputs": [
    {
     "data": {
      "text/plain": [
       "'this is my first class A'"
      ]
     },
     "execution_count": 5,
     "metadata": {},
     "output_type": "execute_result"
    }
   ],
   "source": [
    "b.test()"
   ]
  },
  {
   "cell_type": "code",
   "execution_count": 1,
   "id": "8aa73093-cdfa-48eb-b0c5-1c70d3533d86",
   "metadata": {},
   "outputs": [],
   "source": [
    "#multilabe inheritance\n",
    "class pwskills1:\n",
    "    def test(self):\n",
    "        return \"this is my test function\"\n",
    "class pwskills2(pwskills1):\n",
    "    def test1(self):\n",
    "        return \"this is my class pwskills2\"\n",
    "class pwskills3(pwskills2):\n",
    "    pass\n",
    "        "
   ]
  },
  {
   "cell_type": "code",
   "execution_count": 2,
   "id": "0f805994-7186-49ce-9aa1-a79b72b348ba",
   "metadata": {},
   "outputs": [],
   "source": [
    "pw=pwskills3()"
   ]
  },
  {
   "cell_type": "code",
   "execution_count": 4,
   "id": "c275e231-2868-4053-8903-3ce64402d682",
   "metadata": {},
   "outputs": [
    {
     "data": {
      "text/plain": [
       "'this is my test function'"
      ]
     },
     "execution_count": 4,
     "metadata": {},
     "output_type": "execute_result"
    }
   ],
   "source": [
    "pw.test()"
   ]
  },
  {
   "cell_type": "code",
   "execution_count": 5,
   "id": "c3af7a88-3bbe-4145-b59f-3615ce924a95",
   "metadata": {},
   "outputs": [
    {
     "data": {
      "text/plain": [
       "'this is my class pwskills2'"
      ]
     },
     "execution_count": 5,
     "metadata": {},
     "output_type": "execute_result"
    }
   ],
   "source": [
    "pw.test1()"
   ]
  },
  {
   "cell_type": "code",
   "execution_count": 6,
   "id": "41b41a50-0a15-4e5e-8d75-a53478b7f4d1",
   "metadata": {},
   "outputs": [],
   "source": [
    "#multiple inheritance\n",
    "class pwskills1:\n",
    "    def test(self):\n",
    "        return \"this is my test function\"\n",
    "class pwskills2:\n",
    "    def test1(self):\n",
    "        return \"this is my class pwskills2\"\n",
    "class pwskills3(pwskills1,pwskills2):\n",
    "    pass\n",
    "        "
   ]
  },
  {
   "cell_type": "code",
   "execution_count": 7,
   "id": "c84f3378-783e-43cb-bdd3-a8379086c50c",
   "metadata": {},
   "outputs": [],
   "source": [
    "pw=pwskills3()"
   ]
  },
  {
   "cell_type": "code",
   "execution_count": 8,
   "id": "c9fae1c7-e9b0-4bce-be8c-429bb71fa364",
   "metadata": {},
   "outputs": [
    {
     "data": {
      "text/plain": [
       "'this is my test function'"
      ]
     },
     "execution_count": 8,
     "metadata": {},
     "output_type": "execute_result"
    }
   ],
   "source": [
    "pw.test()"
   ]
  },
  {
   "cell_type": "code",
   "execution_count": 9,
   "id": "10c2c544-a670-438a-86f8-0ddaf092053d",
   "metadata": {},
   "outputs": [
    {
     "data": {
      "text/plain": [
       "'this is my class pwskills2'"
      ]
     },
     "execution_count": 9,
     "metadata": {},
     "output_type": "execute_result"
    }
   ],
   "source": [
    "pw.test1()"
   ]
  },
  {
   "cell_type": "code",
   "execution_count": null,
   "id": "e1e34b9d-8e9c-43ad-83d2-109b122995b9",
   "metadata": {},
   "outputs": [],
   "source": []
  }
 ],
 "metadata": {
  "kernelspec": {
   "display_name": "Python 3 (ipykernel)",
   "language": "python",
   "name": "python3"
  },
  "language_info": {
   "codemirror_mode": {
    "name": "ipython",
    "version": 3
   },
   "file_extension": ".py",
   "mimetype": "text/x-python",
   "name": "python",
   "nbconvert_exporter": "python",
   "pygments_lexer": "ipython3",
   "version": "3.10.8"
  }
 },
 "nbformat": 4,
 "nbformat_minor": 5
}
