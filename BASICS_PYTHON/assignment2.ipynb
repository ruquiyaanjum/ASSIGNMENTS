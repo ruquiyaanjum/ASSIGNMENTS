{
 "cells": [
  {
   "cell_type": "markdown",
   "id": "9d99f6b3-82d7-44be-81b7-bc22ab0e8be4",
   "metadata": {},
   "source": [
    "Q1. How do you comment code in Python? What are the different types of comments?"
   ]
  },
  {
   "cell_type": "markdown",
   "id": "6409b82f-e633-4bf9-99d1-06f1c1dbb455",
   "metadata": {},
   "source": [
    "comment : it is usefull for code readability\n",
    "comment are of two types single line comment and multiline comment\n",
    "for example:\n",
    "#print hello world -- is a single line comment\n",
    "print(\"hello world!\")\n",
    "\"\"\"using print\n",
    "function printing the hello world to the \n",
    "console\"\"\"   #-- this is the multiline comment"
   ]
  },
  {
   "cell_type": "markdown",
   "id": "965b325c-1afc-46d1-908c-9ee0c4e91740",
   "metadata": {},
   "source": [
    "Q2. What are variables in Python? How do you declare and assign values to variables?"
   ]
  },
  {
   "cell_type": "markdown",
   "id": "bb219318-ea9f-4496-87ba-a1679be33c29",
   "metadata": {},
   "source": [
    "* variable are used for storing the data in a particular address.\n",
    "* using that variable we can access the data which is stored in that address.\n",
    "for example:\n",
    "   1)variable1 = 99 #variable1 is variable name , = is assignment operator , 99 is the integer value storing in that variable1.\n",
    "   2)name = \"rukz\"  #string type data\n",
    "   3)height=9.8 #floating type data\n",
    "   4)list1=[2,3,\"rukz\",8.9]  #list storing\n"
   ]
  },
  {
   "cell_type": "markdown",
   "id": "94309b7b-3f75-47f7-a8a3-fba62e783b23",
   "metadata": {},
   "source": [
    "Q3. How do you convert one data type to another in Python?"
   ]
  },
  {
   "cell_type": "markdown",
   "id": "f89d0bb5-2d7d-4220-a1d6-e524666b5e8e",
   "metadata": {},
   "source": [
    "Converting one data to another data type using -- typecasting \n",
    "for example:\n",
    "a=9 #is a int type\n",
    "type(a)\n",
    "a=str(a)  #converting to string \n",
    "type(a)\n",
    "\n",
    "B=\"9.8\"\n",
    "type(B)\n",
    "B=int(B)  #string to int...\n",
    "B\n"
   ]
  },
  {
   "cell_type": "markdown",
   "id": "7e51a78d-0d6c-47d3-b959-0f66cbcf3952",
   "metadata": {},
   "source": [
    "Q4. How do you write and execute a Python script from the command line?"
   ]
  },
  {
   "cell_type": "markdown",
   "id": "e8bc4564-e79a-45e3-9a87-e3b23962d5bb",
   "metadata": {},
   "source": [
    "In command line -- type python3 and enter\n",
    "inside that if we print(\"hello world\") and enter it will execute.\n",
    "hello world\n",
    "\n",
    "also we can run using abc.py #abc.py is file which is  in notepad.\n"
   ]
  },
  {
   "cell_type": "markdown",
   "id": "361e9e33-4900-4b43-b674-9be75e0b1f0e",
   "metadata": {},
   "source": [
    "Q5. Given a list my_list = [1, 2, 3, 4, 5], write the code to slice the list and obtain the sub-list [2, 3]."
   ]
  },
  {
   "cell_type": "code",
   "execution_count": 22,
   "id": "11de36d9-6e03-467e-95b8-d2dc4d758f93",
   "metadata": {},
   "outputs": [
    {
     "data": {
      "text/plain": [
       "[2, 3]"
      ]
     },
     "execution_count": 22,
     "metadata": {},
     "output_type": "execute_result"
    }
   ],
   "source": [
    "my_list=[1,2,3,4,5]\n",
    "#my_list[1:3]  #[2,3] is obtained\n",
    "my_list[0:]   #[1, 2, 3, 4, 5]\n",
    "my_list[2:3]  #[3]\n",
    "my_list[1:3]"
   ]
  },
  {
   "cell_type": "markdown",
   "id": "0dd1d6b6-c0aa-48ca-a52f-5f0673d4c6ef",
   "metadata": {},
   "source": [
    "Q6. What is a complex number in mathematics, and how is it represented in Python?"
   ]
  },
  {
   "cell_type": "markdown",
   "id": "408df446-a917-4423-9caa-3daf644da185",
   "metadata": {},
   "source": [
    "complex number in mathematics : combination of real and imaginary numbers \n",
    "and it is represented by (2+9i in mathematics) \"i\" is in mathematics.\n",
    "\n",
    "And in python it is represented 8+9j or 8+9J (is a real and imaginary numbers).\"j\" in python."
   ]
  },
  {
   "cell_type": "markdown",
   "id": "d304478b-c026-4155-a65e-a045e3860119",
   "metadata": {},
   "source": [
    "Q7. What is the correct way to declare a variable named age and assign the value 25 to it?"
   ]
  },
  {
   "cell_type": "code",
   "execution_count": 23,
   "id": "01b3bb8b-46f4-44d0-af28-9d878f9417f6",
   "metadata": {},
   "outputs": [
    {
     "data": {
      "text/plain": [
       "25"
      ]
     },
     "execution_count": 23,
     "metadata": {},
     "output_type": "execute_result"
    }
   ],
   "source": [
    "#the correct way to declare a variable name age and value 25 is :\n",
    "age=25 \n",
    "age"
   ]
  },
  {
   "cell_type": "markdown",
   "id": "0d79afc1-867c-4059-8d4d-f5a30e8e7614",
   "metadata": {},
   "source": [
    "Q8. Declare a variable named price and assign the value 9.99 to it. What data type does this variable\n",
    "belong to?"
   ]
  },
  {
   "cell_type": "code",
   "execution_count": 25,
   "id": "19fb5cdd-9f57-41cf-a671-98884691b562",
   "metadata": {},
   "outputs": [
    {
     "data": {
      "text/plain": [
       "float"
      ]
     },
     "execution_count": 25,
     "metadata": {},
     "output_type": "execute_result"
    }
   ],
   "source": [
    "price=9.99  #variable name price , = is assigment operator and value is 9.99\n",
    "type(price)  #float"
   ]
  },
  {
   "cell_type": "markdown",
   "id": "69b72db5-28d5-4cdd-9514-dfa07c53f9af",
   "metadata": {},
   "source": [
    "Q9. Create a variable named name and assign your full name to it as a string. How would you print the\n",
    "value of this variable?"
   ]
  },
  {
   "cell_type": "code",
   "execution_count": 28,
   "id": "c1ebf811-5dd1-4324-8bec-405d6280a4f9",
   "metadata": {},
   "outputs": [
    {
     "name": "stdout",
     "output_type": "stream",
     "text": [
      "Ruquiya Anjum\n"
     ]
    },
    {
     "data": {
      "text/plain": [
       "str"
      ]
     },
     "execution_count": 28,
     "metadata": {},
     "output_type": "execute_result"
    }
   ],
   "source": [
    "name=\"Ruquiya Anjum\"\n",
    "print(name)  #Ruquiya Anjum\n",
    "type(name)   #str"
   ]
  },
  {
   "cell_type": "markdown",
   "id": "1a256f48-2722-4103-9e9b-f21a74b8d71d",
   "metadata": {},
   "source": [
    "Q10. Given the string \"Hello, World!\", extract the substring \"World\"."
   ]
  },
  {
   "cell_type": "code",
   "execution_count": 29,
   "id": "4486962f-d561-48e6-8246-8607ff86afca",
   "metadata": {},
   "outputs": [
    {
     "data": {
      "text/plain": [
       "'World'"
      ]
     },
     "execution_count": 29,
     "metadata": {},
     "output_type": "execute_result"
    }
   ],
   "source": [
    "string=\"Hello, World!\"\n",
    "string[7:12]   #'World'"
   ]
  },
  {
   "cell_type": "markdown",
   "id": "9bfbd3ee-ba81-4e0e-a172-df1d2ba35473",
   "metadata": {},
   "source": [
    "Q11. Create a variable named \"is_student\" and assign it a boolean value indicating whether you are\n",
    "currently a student or not."
   ]
  },
  {
   "cell_type": "code",
   "execution_count": 30,
   "id": "331789b6-1f7d-4027-8275-69239eadf2c0",
   "metadata": {},
   "outputs": [
    {
     "data": {
      "text/plain": [
       "False"
      ]
     },
     "execution_count": 30,
     "metadata": {},
     "output_type": "execute_result"
    }
   ],
   "source": [
    "is_student=False \n",
    "is_student  #False is a boolean type which menas 0 internally \n",
    "\n",
    "#or\n",
    "is_student=True\n",
    "is_student  #True is a boolean type which menas 1 internally\n"
   ]
  }
 ],
 "metadata": {
  "kernelspec": {
   "display_name": "Python 3 (ipykernel)",
   "language": "python",
   "name": "python3"
  },
  "language_info": {
   "codemirror_mode": {
    "name": "ipython",
    "version": 3
   },
   "file_extension": ".py",
   "mimetype": "text/x-python",
   "name": "python",
   "nbconvert_exporter": "python",
   "pygments_lexer": "ipython3",
   "version": "3.10.8"
  }
 },
 "nbformat": 4,
 "nbformat_minor": 5
}
