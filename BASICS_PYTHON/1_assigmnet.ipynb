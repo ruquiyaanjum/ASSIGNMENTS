{
 "cells": [
  {
   "cell_type": "markdown",
   "id": "4cd2cb2c-7cca-4b91-adbb-0ce943ea3de1",
   "metadata": {},
   "source": [
    "Q1, Create a vehicle class with an init method having instance variables as name_of_vehicle, max_speed\n",
    "and average_of_vehicle."
   ]
  },
  {
   "cell_type": "code",
   "execution_count": 2,
   "id": "0a14221b-7594-4aff-ba3e-6ee4ba4e240b",
   "metadata": {},
   "outputs": [],
   "source": [
    "class vehicle:\n",
    "    def __init__(self,name_of_vehicle,max_speed,average_of_vehicle):\n",
    "        self.name_of_vehicle=name_of_vehicle\n",
    "        self.max_speed=max_speed\n",
    "        self.average_of_vehicle=average_of_vehicle\n",
    "    def details_vehicle(self):\n",
    "        return self.name_of_vehicle,self.max_speed,self.average_of_vehicle\n",
    "veh=vehicle(\"Van\",70,25)  #max speed is 70km/h and 25 is average speed of vehicle "
   ]
  },
  {
   "cell_type": "code",
   "execution_count": 3,
   "id": "c190b20f-df25-4854-a2b0-d93eda0deecb",
   "metadata": {},
   "outputs": [
    {
     "data": {
      "text/plain": [
       "25"
      ]
     },
     "execution_count": 3,
     "metadata": {},
     "output_type": "execute_result"
    }
   ],
   "source": [
    "veh.average_of_vehicle"
   ]
  },
  {
   "cell_type": "code",
   "execution_count": 4,
   "id": "cf2d6cdd-35f1-455d-a115-17a36097d5aa",
   "metadata": {},
   "outputs": [
    {
     "data": {
      "text/plain": [
       "('Van', 70, 25)"
      ]
     },
     "execution_count": 4,
     "metadata": {},
     "output_type": "execute_result"
    }
   ],
   "source": [
    "veh.details_vehicle()"
   ]
  },
  {
   "cell_type": "code",
   "execution_count": 5,
   "id": "d60b2dde-9495-4438-a728-7fa8a3d9afc1",
   "metadata": {},
   "outputs": [
    {
     "data": {
      "text/plain": [
       "70"
      ]
     },
     "execution_count": 5,
     "metadata": {},
     "output_type": "execute_result"
    }
   ],
   "source": [
    "veh.max_speed"
   ]
  },
  {
   "cell_type": "code",
   "execution_count": 6,
   "id": "fb510aa9-94fd-4199-9cc9-d40ffa8bf5c8",
   "metadata": {},
   "outputs": [
    {
     "data": {
      "text/plain": [
       "'Van'"
      ]
     },
     "execution_count": 6,
     "metadata": {},
     "output_type": "execute_result"
    }
   ],
   "source": [
    "veh.name_of_vehicle"
   ]
  },
  {
   "cell_type": "markdown",
   "id": "5aa24678-3aa8-4aad-baa2-57958ec6ec7f",
   "metadata": {},
   "source": [
    "Q2. Create a child class car from the vehicle class created in Que 1, which will inherit the vehicle class.\n",
    "Create a method named seating_capacity which takes capacity as an argument and returns the name of\n",
    "the vehicle and its seating capacity."
   ]
  },
  {
   "cell_type": "code",
   "execution_count": 15,
   "id": "a491fd88-fe1c-4380-ae82-08cbb9ea192d",
   "metadata": {},
   "outputs": [],
   "source": [
    "class vehicle:\n",
    "    \n",
    "    def __init__(self,name_of_vehicle,max_speed,average_of_vehicle):\n",
    "        self.name_of_vehicle=name_of_vehicle\n",
    "        self.max_speed=max_speed\n",
    "        self.average_of_vehicle=average_of_vehicle\n",
    "        \n",
    "    def details_vehicle(self):\n",
    "        return self.name_of_vehicle,self.max_speed,self.average_of_vehicle\n",
    "    \n",
    " "
   ]
  },
  {
   "cell_type": "code",
   "execution_count": 16,
   "id": "a13f5bfe-9e4d-4f47-8491-f9b3fdf685d5",
   "metadata": {},
   "outputs": [],
   "source": [
    "class car(vehicle):\n",
    "    \n",
    "    def seating_capacity(self,seating_capacity):\n",
    "        return  seating_capacity, self.name_of_vehicle"
   ]
  },
  {
   "cell_type": "code",
   "execution_count": 17,
   "id": "70fc498f-8d02-4112-957b-64baa7aeca10",
   "metadata": {},
   "outputs": [],
   "source": [
    "car=car(\"car taxi_audi\",80,25)"
   ]
  },
  {
   "cell_type": "code",
   "execution_count": 18,
   "id": "fa750950-4836-4f0e-95cb-3c027adbb607",
   "metadata": {},
   "outputs": [
    {
     "data": {
      "text/plain": [
       "(4, 'car taxi_audi')"
      ]
     },
     "execution_count": 18,
     "metadata": {},
     "output_type": "execute_result"
    }
   ],
   "source": [
    "car.seating_capacity(4)"
   ]
  },
  {
   "cell_type": "markdown",
   "id": "e660d6d6-06f6-47c4-947d-f5c2c7864693",
   "metadata": {},
   "source": [
    "Q3. What is multiple inheritance? Write a python code to demonstrate multiple inheritance."
   ]
  },
  {
   "cell_type": "markdown",
   "id": "54772534-8bc6-434f-951e-19ae4e54d54f",
   "metadata": {},
   "source": [
    "multiple inheritance is a inheriting the both class A and class B in class C (like class A (father) , class B (mother), class C (son) which inherits both the characters of class A(father) and class b(mother)"
   ]
  },
  {
   "cell_type": "code",
   "execution_count": 31,
   "id": "8c4e092e-34d1-4c8f-9ff7-8ec218d77dc7",
   "metadata": {},
   "outputs": [],
   "source": [
    "class Father: \n",
    "    def father_character(self):\n",
    "        return \"angry\", \"moodswings\",\"caring\"\n",
    "        "
   ]
  },
  {
   "cell_type": "code",
   "execution_count": 32,
   "id": "95caa0a1-0999-4cec-bdef-e09106402cf3",
   "metadata": {},
   "outputs": [],
   "source": [
    "class Mother:\n",
    "    def mother_charcter(self):\n",
    "        return \"humble\"\n",
    "       \n",
    "        "
   ]
  },
  {
   "cell_type": "code",
   "execution_count": 33,
   "id": "df41b060-a8bf-47c2-8e92-d5ff30540d66",
   "metadata": {},
   "outputs": [],
   "source": [
    "class son(Father, Mother):\n",
    "    pass"
   ]
  },
  {
   "cell_type": "code",
   "execution_count": 34,
   "id": "3f087a0e-7b56-471c-902f-8782346b16de",
   "metadata": {},
   "outputs": [],
   "source": [
    "mohan=son() #combination of mother and father"
   ]
  },
  {
   "cell_type": "code",
   "execution_count": 35,
   "id": "5e58427d-f95d-477c-9772-4b2cc398d7d5",
   "metadata": {},
   "outputs": [
    {
     "data": {
      "text/plain": [
       "('angry', 'moodswings', 'caring')"
      ]
     },
     "execution_count": 35,
     "metadata": {},
     "output_type": "execute_result"
    }
   ],
   "source": [
    "mohan.father_character()"
   ]
  },
  {
   "cell_type": "code",
   "execution_count": 36,
   "id": "a852aa11-2be4-4a82-aa46-9dbb2f8a0997",
   "metadata": {},
   "outputs": [
    {
     "data": {
      "text/plain": [
       "'humble'"
      ]
     },
     "execution_count": 36,
     "metadata": {},
     "output_type": "execute_result"
    }
   ],
   "source": [
    "mohan.mother_charcter()"
   ]
  },
  {
   "cell_type": "markdown",
   "id": "61d0a6a0-ccce-4b7d-b91b-f2172a4889b2",
   "metadata": {},
   "source": [
    "Q4. What are getter and setter in python? Create a class and create a getter and a setter method in this\n",
    "class."
   ]
  },
  {
   "cell_type": "code",
   "execution_count": null,
   "id": "7f50ea84-eb59-4205-8768-c1bc5d9863b2",
   "metadata": {},
   "outputs": [],
   "source": [
    "setting the value using property decorator -- means accessing the private variable for external users whatever is neccessary\n",
    "getter is getting the value ..\n",
    "property of decorator is binded with setter,getter, deleter all this operation is performed using property of decorator."
   ]
  },
  {
   "cell_type": "code",
   "execution_count": 37,
   "id": "1378c7a9-6634-4e7d-bf7e-7087da4d4ef4",
   "metadata": {},
   "outputs": [],
   "source": [
    "class pwskills:\n",
    "    \n",
    "    def __init__(self,course_price,course_name):\n",
    "        self.__course_price=course_price #declaring private variable , to access this or modify something in that we use property of decorator method \n",
    "        self.course_name=course_name\n",
    "        \n",
    "    @property\n",
    "    def course_price_acess(self):\n",
    "        return self.__course_price\n",
    "    \n",
    "    @course_price_acess.setter  #setting the value ,.. modifying the value \n",
    "    def course_price_set(self,price):\n",
    "        if price<3500:\n",
    "            pass\n",
    "        else:\n",
    "            self.__course_price=price\n",
    "            \n",
    "    @course_price_acess.getter  #getting the value.\n",
    "    def course_price_get(self):\n",
    "        return self.__course_price\n",
    "    \n",
    "    @course_price_acess.deleter\n",
    "    def course_price_delete(self):\n",
    "        del self.__course_price"
   ]
  },
  {
   "cell_type": "code",
   "execution_count": 38,
   "id": "718a4edf-92f6-4b34-a048-5446d344b942",
   "metadata": {},
   "outputs": [],
   "source": [
    "pw=pwskills(3500,\"data science\")"
   ]
  },
  {
   "cell_type": "code",
   "execution_count": 39,
   "id": "781f6d26-fffb-4180-a1f6-73ea10000029",
   "metadata": {},
   "outputs": [
    {
     "data": {
      "text/plain": [
       "'data science'"
      ]
     },
     "execution_count": 39,
     "metadata": {},
     "output_type": "execute_result"
    }
   ],
   "source": [
    "pw.course_name"
   ]
  },
  {
   "cell_type": "code",
   "execution_count": 40,
   "id": "6128f7a2-c96a-4209-a1d1-34992b53797b",
   "metadata": {},
   "outputs": [
    {
     "data": {
      "text/plain": [
       "3500"
      ]
     },
     "execution_count": 40,
     "metadata": {},
     "output_type": "execute_result"
    }
   ],
   "source": [
    "pw.course_price_acess"
   ]
  },
  {
   "cell_type": "code",
   "execution_count": 41,
   "id": "984fcba0-4274-4519-be98-7eb4e98ab4c1",
   "metadata": {},
   "outputs": [],
   "source": [
    "pw.course_price_set=80000"
   ]
  },
  {
   "cell_type": "code",
   "execution_count": 42,
   "id": "be2020cb-96b6-47ed-862b-84287ae51306",
   "metadata": {},
   "outputs": [
    {
     "data": {
      "text/plain": [
       "80000"
      ]
     },
     "execution_count": 42,
     "metadata": {},
     "output_type": "execute_result"
    }
   ],
   "source": [
    "pw.course_price_get"
   ]
  },
  {
   "cell_type": "code",
   "execution_count": 43,
   "id": "f1a92ca0-ec68-497c-9ab5-2876e242169e",
   "metadata": {},
   "outputs": [],
   "source": [
    "del pw.course_price_delete"
   ]
  },
  {
   "cell_type": "code",
   "execution_count": 44,
   "id": "048a54e3-9aed-49fa-87bc-ec7b7d4ce46d",
   "metadata": {},
   "outputs": [
    {
     "ename": "AttributeError",
     "evalue": "'pwskills' object has no attribute '_pwskills__course_price'",
     "output_type": "error",
     "traceback": [
      "\u001b[0;31m---------------------------------------------------------------------------\u001b[0m",
      "\u001b[0;31mAttributeError\u001b[0m                            Traceback (most recent call last)",
      "Cell \u001b[0;32mIn[44], line 1\u001b[0m\n\u001b[0;32m----> 1\u001b[0m \u001b[43mpw\u001b[49m\u001b[38;5;241;43m.\u001b[39;49m\u001b[43mcourse_price_acess\u001b[49m\n",
      "Cell \u001b[0;32mIn[37], line 9\u001b[0m, in \u001b[0;36mpwskills.course_price_acess\u001b[0;34m(self)\u001b[0m\n\u001b[1;32m      7\u001b[0m \u001b[38;5;129m@property\u001b[39m\n\u001b[1;32m      8\u001b[0m \u001b[38;5;28;01mdef\u001b[39;00m \u001b[38;5;21mcourse_price_acess\u001b[39m(\u001b[38;5;28mself\u001b[39m):\n\u001b[0;32m----> 9\u001b[0m     \u001b[38;5;28;01mreturn\u001b[39;00m \u001b[38;5;28;43mself\u001b[39;49m\u001b[38;5;241;43m.\u001b[39;49m\u001b[43m__course_price\u001b[49m\n",
      "\u001b[0;31mAttributeError\u001b[0m: 'pwskills' object has no attribute '_pwskills__course_price'"
     ]
    }
   ],
   "source": [
    "pw.course_price_acess"
   ]
  },
  {
   "cell_type": "markdown",
   "id": "7b9bc6b2-71d6-4ea2-a0e7-f492f71295cc",
   "metadata": {},
   "source": [
    "Q5.What is method overriding in python? Write a python code to demonstrate method overriding."
   ]
  },
  {
   "cell_type": "code",
   "execution_count": null,
   "id": "09d24834-4b11-4989-aaa1-61c612b442d6",
   "metadata": {},
   "outputs": [],
   "source": [
    "method overriding -- overriding the methods of parent class in child class . for example:"
   ]
  },
  {
   "cell_type": "code",
   "execution_count": 5,
   "id": "c9896baa-8e2f-4431-b5cb-674e43786162",
   "metadata": {},
   "outputs": [],
   "source": [
    "class pwskills:\n",
    "    def __init__(self,name,email):\n",
    "        self.name=name\n",
    "        self.email=email\n",
    "    @classmethod\n",
    "    def details(cls,name,email):\n",
    "        return cls(name,email)\n",
    "    def student_details(self):\n",
    "        print(self.name,self.email)\n"
   ]
  },
  {
   "cell_type": "code",
   "execution_count": 8,
   "id": "d04af892-7dfa-4e80-bec3-3c87aa38b0fe",
   "metadata": {},
   "outputs": [],
   "source": [
    "pw=pwskills.details(\"rukz\",\"rukz@gmail.com\")"
   ]
  },
  {
   "cell_type": "code",
   "execution_count": 9,
   "id": "27a1b0bc-cda8-43cf-9e0a-9301884cc3fe",
   "metadata": {},
   "outputs": [
    {
     "data": {
      "text/plain": [
       "'rukz@gmail.com'"
      ]
     },
     "execution_count": 9,
     "metadata": {},
     "output_type": "execute_result"
    }
   ],
   "source": [
    "pw.email"
   ]
  },
  {
   "cell_type": "code",
   "execution_count": 10,
   "id": "581cb4e5-a217-495d-9c82-de27cd02c83b",
   "metadata": {},
   "outputs": [
    {
     "data": {
      "text/plain": [
       "'rukz'"
      ]
     },
     "execution_count": 10,
     "metadata": {},
     "output_type": "execute_result"
    }
   ],
   "source": [
    "pw.name"
   ]
  },
  {
   "cell_type": "code",
   "execution_count": 11,
   "id": "124e27bd-9674-43d3-8e88-a7bb13022e04",
   "metadata": {},
   "outputs": [
    {
     "name": "stdout",
     "output_type": "stream",
     "text": [
      "rukz rukz@gmail.com\n"
     ]
    }
   ],
   "source": [
    "pw.student_details()"
   ]
  },
  {
   "cell_type": "markdown",
   "id": "85c459a1-c5d5-42fc-a8ee-5a014adf6231",
   "metadata": {},
   "source": [
    "using class method ,we override __init__ function,no need to create  object for this, directly we can access class using class method"
   ]
  },
  {
   "cell_type": "code",
   "execution_count": 1,
   "id": "64cdd534-8404-42ab-a4ec-bec3e695805b",
   "metadata": {},
   "outputs": [],
   "source": [
    "#method overriding examples\n",
    "class Animal:\n",
    "    def make_sound(self):\n",
    "        return \"generic sound\"\n",
    "class Dogy:\n",
    "    def make_sound(self):\n",
    "        return \"woof!\"\n",
    "class Cat:\n",
    "    def make_sound(self):\n",
    "        return \"meeow\"\n",
    "d=Dogy()\n",
    "c=Cat()"
   ]
  },
  {
   "cell_type": "code",
   "execution_count": 2,
   "id": "1cbf2453-f863-4a3a-b736-51dadb168975",
   "metadata": {},
   "outputs": [
    {
     "data": {
      "text/plain": [
       "'woof!'"
      ]
     },
     "execution_count": 2,
     "metadata": {},
     "output_type": "execute_result"
    }
   ],
   "source": [
    "d.make_sound()"
   ]
  },
  {
   "cell_type": "code",
   "execution_count": 3,
   "id": "739a2d92-df0e-4cf2-b999-3b7fadb2c171",
   "metadata": {},
   "outputs": [
    {
     "data": {
      "text/plain": [
       "'meeow'"
      ]
     },
     "execution_count": 3,
     "metadata": {},
     "output_type": "execute_result"
    }
   ],
   "source": [
    "c.make_sound()"
   ]
  },
  {
   "cell_type": "code",
   "execution_count": null,
   "id": "8dbbbbf2-ca43-4f18-bc05-a58701a80a29",
   "metadata": {},
   "outputs": [],
   "source": []
  }
 ],
 "metadata": {
  "kernelspec": {
   "display_name": "Python 3 (ipykernel)",
   "language": "python",
   "name": "python3"
  },
  "language_info": {
   "codemirror_mode": {
    "name": "ipython",
    "version": 3
   },
   "file_extension": ".py",
   "mimetype": "text/x-python",
   "name": "python",
   "nbconvert_exporter": "python",
   "pygments_lexer": "ipython3",
   "version": "3.10.8"
  }
 },
 "nbformat": 4,
 "nbformat_minor": 5
}
