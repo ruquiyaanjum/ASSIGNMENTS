{
 "cells": [
  {
   "cell_type": "markdown",
   "id": "3338199e-679c-434a-b5db-00120d0df9d5",
   "metadata": {},
   "source": [
    "Q1. Which keyword is used to create a function? Create a function to return a list of odd numbers in the\n",
    "range of 1 to 25."
   ]
  },
  {
   "cell_type": "markdown",
   "id": "8c97d4b4-fecf-4d51-b987-fd66bca1306e",
   "metadata": {},
   "source": [
    "The def keyword is used to create a function . \n",
    "for example \n",
    "def test():\n",
    "    pass\n",
    "test()\n",
    "  "
   ]
  },
  {
   "cell_type": "code",
   "execution_count": 3,
   "id": "04d5d124-44ea-466a-875d-a7f37d0b7c0e",
   "metadata": {},
   "outputs": [
    {
     "data": {
      "text/plain": [
       "[1, 3, 5, 7, 9, 11, 13, 15, 17, 19, 21, 23, 25]"
      ]
     },
     "execution_count": 3,
     "metadata": {},
     "output_type": "execute_result"
    }
   ],
   "source": [
    "#range of 1 to 25 return odd numbers using function\n",
    "def odd_range():\n",
    "    l1=[]\n",
    "    for i in range(1,26):\n",
    "        if i%2!=0:\n",
    "            l1.append(i)\n",
    "    return l1\n",
    "odd_range()   \n",
    "    "
   ]
  },
  {
   "cell_type": "markdown",
   "id": "89b44a70-9d50-4e42-b4af-9cc2a340a278",
   "metadata": {},
   "source": [
    "Q2. Why *args and **kwargs is used in some functions? Create a function each for *args and **kwargs\n",
    "to demonstrate their use."
   ]
  },
  {
   "cell_type": "code",
   "execution_count": 8,
   "id": "7130f322-aea6-4841-97d3-b176f87952ba",
   "metadata": {},
   "outputs": [
    {
     "data": {
      "text/plain": [
       "('sudh', 8, 99, 99.88, 'pwskills', [9, 9, 9, 9, 8, 7, 9], (5, 6, 7, 88, 99))"
      ]
     },
     "execution_count": 8,
     "metadata": {},
     "output_type": "execute_result"
    }
   ],
   "source": [
    "#*args function is used when we need multiple data , data can be 100,200... etc and adding in parameters of #100's of data is difficult.\n",
    "#user can declare the data  means sends the data as many they want. \n",
    "#for example:\n",
    "def argss(*args):\n",
    "    return args\n",
    "argss(\"sudh\",8,99,99.88,\"pwskills\",[9,9,9,9,8,7,9],(5,6,7,88,99))\n",
    "#('sudh', 8, 9, 9, 9, [9, 9, 9, 9, 8, 7, 9], (5, 6, 7, 88, 99)) tuple format the data is\n",
    "#type(argss())   #tuple"
   ]
  },
  {
   "cell_type": "code",
   "execution_count": 13,
   "id": "2ef056b1-249b-4ea9-a9e2-b381b74e1bdb",
   "metadata": {},
   "outputs": [
    {
     "data": {
      "text/plain": [
       "{'course': 'data science', 'batch': 'hindi', 'cost': 3500}"
      ]
     },
     "execution_count": 13,
     "metadata": {},
     "output_type": "execute_result"
    }
   ],
   "source": [
    "#**kwargs function is a dictionary format means key value pair format.\n",
    "#u can send data as many u want , based on key value pair. multiple data can be send using key value pair.\n",
    "#type is dict ..\n",
    "def test_kwargs(**kwargs):\n",
    "    return kwargs\n",
    "test_kwargs(course=\"data science\",batch=\"hindi\",cost=3500)"
   ]
  },
  {
   "cell_type": "code",
   "execution_count": 15,
   "id": "902956a5-131a-4141-ba0e-aa438445793d",
   "metadata": {},
   "outputs": [
    {
     "data": {
      "text/plain": [
       "dict"
      ]
     },
     "execution_count": 15,
     "metadata": {},
     "output_type": "execute_result"
    }
   ],
   "source": [
    "type(test_kwargs())   #dictionary "
   ]
  },
  {
   "cell_type": "markdown",
   "id": "a2d69b49-49d8-4823-88ac-4315607eab71",
   "metadata": {},
   "source": [
    "Q3. What is an iterator in python? Name the method used to initialise the iterator object and the method\n",
    "used for iteration. Use these methods to print the first five elements of the given list [2, 4, 6, 8, 10, 12, 14,\n",
    "16, 18, 20]."
   ]
  },
  {
   "cell_type": "markdown",
   "id": "d6402fc0-bf31-46b0-8a49-ec1ac77cd41d",
   "metadata": {},
   "source": [
    "Iterator in python is generator which is used to generate a data one by one.\n",
    "the method to intialise the iterator object --- iter() and next , also yield is used..\n",
    "using yield existing keyword. yield is a generator. like return but return stop the execution. yield pause the execution.\n",
    "Iterator --- iter() and  --- next().\n",
    "iterables --- convert to iter() -- next()."
   ]
  },
  {
   "cell_type": "code",
   "execution_count": 17,
   "id": "44501f46-8144-4817-ad4e-b157dd82e165",
   "metadata": {},
   "outputs": [
    {
     "ename": "TypeError",
     "evalue": "'str' object is not an iterator",
     "output_type": "error",
     "traceback": [
      "\u001b[0;31m---------------------------------------------------------------------------\u001b[0m",
      "\u001b[0;31mTypeError\u001b[0m                                 Traceback (most recent call last)",
      "Cell \u001b[0;32mIn[17], line 2\u001b[0m\n\u001b[1;32m      1\u001b[0m s\u001b[38;5;241m=\u001b[39m\u001b[38;5;124m\"\u001b[39m\u001b[38;5;124mpwskills\u001b[39m\u001b[38;5;124m\"\u001b[39m\n\u001b[0;32m----> 2\u001b[0m \u001b[38;5;28;43mnext\u001b[39;49m\u001b[43m(\u001b[49m\u001b[43ms\u001b[49m\u001b[43m)\u001b[49m\n",
      "\u001b[0;31mTypeError\u001b[0m: 'str' object is not an iterator"
     ]
    }
   ],
   "source": [
    "s=\"pwskills\"\n",
    "next(s)"
   ]
  },
  {
   "cell_type": "code",
   "execution_count": 19,
   "id": "93a60189-b6c9-4576-97a4-c7f35f09e32a",
   "metadata": {},
   "outputs": [
    {
     "data": {
      "text/plain": [
       "'p'"
      ]
     },
     "execution_count": 19,
     "metadata": {},
     "output_type": "execute_result"
    }
   ],
   "source": [
    "s=\"pwskills\"\n",
    "s1=iter(s)\n",
    "next(s1)  #iterables to iter then next"
   ]
  },
  {
   "cell_type": "code",
   "execution_count": 22,
   "id": "0d7ab7ef-98bf-4ace-ac8f-a778c13a5e9f",
   "metadata": {},
   "outputs": [
    {
     "name": "stdout",
     "output_type": "stream",
     "text": [
      "2\n",
      "4\n",
      "6\n",
      "8\n",
      "10\n"
     ]
    }
   ],
   "source": [
    "list1= [2, 4, 6, 8, 10, 12, 14,16, 18, 20]\n",
    "l1=iter(list1)\n",
    "for i in range(5):\n",
    "    print(next(l1))   #fisrt five element in a given list"
   ]
  },
  {
   "cell_type": "markdown",
   "id": "e30257f8-8827-4ced-8483-df777fa86ee2",
   "metadata": {},
   "source": [
    "Q4. What is a generator function in python? Why yield keyword is used? Give an example of a generator\n",
    "function."
   ]
  },
  {
   "cell_type": "markdown",
   "id": "4e9c0ce9-0197-4d08-9649-a962f8fbcf4f",
   "metadata": {},
   "source": [
    "generator function generate a data one by one using yield  keyword.\n",
    "and iter() and next() is used to recieve data one by one.\n",
    "iter() -- iterator\n",
    "next() -- pointing(pointer) to the next data.. one by one\n",
    "\n",
    "yield keyword is used to return a data one by one . it is similar like return , but return stop the execution once it return  the data, on the other hand yield pause the exceution.\n",
    "\n",
    "example:\n",
    "fibonacci series -- 0,1,1,2,3,5,8...."
   ]
  },
  {
   "cell_type": "code",
   "execution_count": 23,
   "id": "441e9f5b-762f-4620-92de-8d0a4992d55f",
   "metadata": {},
   "outputs": [
    {
     "name": "stdout",
     "output_type": "stream",
     "text": [
      "0\n",
      "1\n",
      "1\n",
      "2\n",
      "3\n",
      "5\n",
      "8\n",
      "13\n",
      "21\n",
      "34\n"
     ]
    }
   ],
   "source": [
    "def fib(n):\n",
    "    a,b=0,1\n",
    "    for i in range(n):\n",
    "        yield a\n",
    "        a,b=b,a+b\n",
    "for i in fib(10):\n",
    "    print(i)\n",
    "#example of generator ..using yield keyword "
   ]
  },
  {
   "cell_type": "markdown",
   "id": "0778be79-61f5-49cc-8904-6dc8d7fb67f3",
   "metadata": {},
   "source": [
    "Q5. Create a generator function for prime numbers less than 1000. Use the next() method to print the\n",
    "first 20 prime numbers."
   ]
  },
  {
   "cell_type": "code",
   "execution_count": 69,
   "id": "13534b31-ab1b-4040-95fe-7a26f2f5302a",
   "metadata": {},
   "outputs": [
    {
     "name": "stdout",
     "output_type": "stream",
     "text": [
      "1\n",
      "2\n",
      "3\n",
      "5\n",
      "7\n",
      "11\n",
      "13\n",
      "17\n",
      "19\n",
      "23\n",
      "29\n",
      "31\n",
      "37\n",
      "41\n",
      "43\n",
      "47\n",
      "53\n",
      "59\n",
      "61\n",
      "67\n"
     ]
    }
   ],
   "source": [
    "#prime number less than 1000\n",
    "\n",
    "def prime(n):\n",
    "    if n<1000:\n",
    "        for num in range(1,n):\n",
    "            for i in range(2,num):\n",
    "                if num%i==0:\n",
    "                    break\n",
    "            else:\n",
    "                yield num\n",
    "l1=[]               \n",
    "for i in prime(999):\n",
    "    l1.append(i)\n",
    "l1=iter(l1)\n",
    "for j in range(20):\n",
    "           print(next(l1))\n"
   ]
  },
  {
   "cell_type": "markdown",
   "id": "d5da444d-00f0-41d6-b2a7-f5a83574ab72",
   "metadata": {},
   "source": [
    "Q6. Write a python program to print the first 10 Fibonacci numbers using a while loop."
   ]
  },
  {
   "cell_type": "code",
   "execution_count": 7,
   "id": "34d25523-c2fc-4dc4-8b9b-365b908e1a5b",
   "metadata": {},
   "outputs": [
    {
     "name": "stdout",
     "output_type": "stream",
     "text": [
      "0\n",
      "1\n",
      "1\n",
      "2\n",
      "3\n",
      "5\n",
      "8\n",
      "13\n",
      "21\n",
      "34\n"
     ]
    }
   ],
   "source": [
    "def fib():\n",
    "    a,b=0,1\n",
    "    while True:\n",
    "        yield a\n",
    "        a,b=b,a+b\n",
    "fib1=fib()\n",
    "for i in range(10):\n",
    "    print(next(fib1))\n"
   ]
  },
  {
   "cell_type": "markdown",
   "id": "e699bde0-5708-45e8-bf02-7e24142e254d",
   "metadata": {},
   "source": [
    "Q7. Write a List Comprehension to iterate through the given string: ‘pwskills’.\n",
    "Expected output: ['p', 'w', 's', 'k', 'i', 'l', 'l', 's']"
   ]
  },
  {
   "cell_type": "code",
   "execution_count": 15,
   "id": "a14e544d-5866-44f6-a21d-a399070f4999",
   "metadata": {},
   "outputs": [
    {
     "data": {
      "text/plain": [
       "['p', 'w', 's', 'k', 'i', 'l', 'l', 's']"
      ]
     },
     "execution_count": 15,
     "metadata": {},
     "output_type": "execute_result"
    }
   ],
   "source": [
    "s=\"pwskills\"\n",
    "l1=[]\n",
    "for i in s:\n",
    "    l1.append(i)\n",
    "l1\n",
    "#l1=iter(l1)\n",
    "#for i in range(len(s)):\n",
    "#    print(list(next(l1)))"
   ]
  },
  {
   "cell_type": "markdown",
   "id": "3cd97257-ce35-420d-a187-b898dba1943a",
   "metadata": {},
   "source": [
    "Q8. Write a python program to check whether a given number is Palindrome or not using a while loop."
   ]
  },
  {
   "cell_type": "code",
   "execution_count": 1,
   "id": "3652f1dc-0d3b-45b3-93f4-154996e18bfc",
   "metadata": {},
   "outputs": [
    {
     "name": "stdout",
     "output_type": "stream",
     "text": [
      "121  is a PALINDROME\n"
     ]
    }
   ],
   "source": [
    "def palindrome(n):\n",
    "    n=str(n)\n",
    "    if n[::-1]==n:\n",
    "        print(n,\" is a PALINDROME\")\n",
    "    else:\n",
    "        print(n,\" is NOT PALINDROME\")\n",
    "palindrome(121) "
   ]
  },
  {
   "cell_type": "code",
   "execution_count": 20,
   "id": "e176c23e-37fb-4511-a84a-a1d6a2e7d6d6",
   "metadata": {},
   "outputs": [
    {
     "name": "stdout",
     "output_type": "stream",
     "text": [
      "567  is NOT PALINDROME\n"
     ]
    }
   ],
   "source": [
    "palindrome(567)"
   ]
  },
  {
   "cell_type": "code",
   "execution_count": 4,
   "id": "940d74e0-4e9f-4a0f-868e-2f4e90684c3f",
   "metadata": {},
   "outputs": [
    {
     "name": "stdin",
     "output_type": "stream",
     "text": [
      "enter a number: 121\n"
     ]
    },
    {
     "name": "stdout",
     "output_type": "stream",
     "text": [
      "the number is palindrome\n"
     ]
    }
   ],
   "source": [
    "n=int(input(\"enter a number:\"))\n",
    "temp=n\n",
    "rev=0\n",
    "while n>0:\n",
    "    dig=n%10\n",
    "    rev=rev*10+dig\n",
    "    n=n//10\n",
    "if temp==rev:\n",
    "    print(\"the number is palindrome\")\n",
    "else:\n",
    "    print(\"the number is not palindrome\")\n",
    "        "
   ]
  },
  {
   "cell_type": "markdown",
   "id": "99ed5bb5-2160-4cf3-8514-5de6a28ee94d",
   "metadata": {},
   "source": [
    "Q9. Write a code to print odd numbers from 1 to 100 using list comprehension.\n",
    "Note: Use a list comprehension to create a list from 1 to 100 and use another List comprehension to filter\n",
    "out odd numbers."
   ]
  },
  {
   "cell_type": "code",
   "execution_count": 11,
   "id": "02d25934-7928-41c8-bc09-5e3a34130dfc",
   "metadata": {},
   "outputs": [
    {
     "data": {
      "text/plain": [
       "[1,\n",
       " 3,\n",
       " 5,\n",
       " 7,\n",
       " 9,\n",
       " 11,\n",
       " 13,\n",
       " 15,\n",
       " 17,\n",
       " 19,\n",
       " 21,\n",
       " 23,\n",
       " 25,\n",
       " 27,\n",
       " 29,\n",
       " 31,\n",
       " 33,\n",
       " 35,\n",
       " 37,\n",
       " 39,\n",
       " 41,\n",
       " 43,\n",
       " 45,\n",
       " 47,\n",
       " 49,\n",
       " 51,\n",
       " 53,\n",
       " 55,\n",
       " 57,\n",
       " 59,\n",
       " 61,\n",
       " 63,\n",
       " 65,\n",
       " 67,\n",
       " 69,\n",
       " 71,\n",
       " 73,\n",
       " 75,\n",
       " 77,\n",
       " 79,\n",
       " 81,\n",
       " 83,\n",
       " 85,\n",
       " 87,\n",
       " 89,\n",
       " 91,\n",
       " 93,\n",
       " 95,\n",
       " 97,\n",
       " 99]"
      ]
     },
     "execution_count": 11,
     "metadata": {},
     "output_type": "execute_result"
    }
   ],
   "source": [
    "def odd_num():\n",
    "    l=[]\n",
    "    l1=[]\n",
    "    for i in range(1,101):\n",
    "        l.append(i)\n",
    "    for j in l:\n",
    "        if j%2!=0:\n",
    "            l1.append(j)\n",
    "    return l1\n",
    "odd_num()\n",
    "\n",
    "        \n",
    "        "
   ]
  },
  {
   "cell_type": "code",
   "execution_count": 17,
   "id": "9da52219-eb98-4464-846f-d096796a68da",
   "metadata": {},
   "outputs": [],
   "source": [
    "l=[]\n",
    "for i in range(1,101):\n",
    "    l.append(i)\n"
   ]
  },
  {
   "cell_type": "code",
   "execution_count": 18,
   "id": "c14ca56f-a72f-43e9-9a87-1f6e5fda8ddc",
   "metadata": {},
   "outputs": [
    {
     "data": {
      "text/plain": [
       "[1,\n",
       " 3,\n",
       " 5,\n",
       " 7,\n",
       " 9,\n",
       " 11,\n",
       " 13,\n",
       " 15,\n",
       " 17,\n",
       " 19,\n",
       " 21,\n",
       " 23,\n",
       " 25,\n",
       " 27,\n",
       " 29,\n",
       " 31,\n",
       " 33,\n",
       " 35,\n",
       " 37,\n",
       " 39,\n",
       " 41,\n",
       " 43,\n",
       " 45,\n",
       " 47,\n",
       " 49,\n",
       " 51,\n",
       " 53,\n",
       " 55,\n",
       " 57,\n",
       " 59,\n",
       " 61,\n",
       " 63,\n",
       " 65,\n",
       " 67,\n",
       " 69,\n",
       " 71,\n",
       " 73,\n",
       " 75,\n",
       " 77,\n",
       " 79,\n",
       " 81,\n",
       " 83,\n",
       " 85,\n",
       " 87,\n",
       " 89,\n",
       " 91,\n",
       " 93,\n",
       " 95,\n",
       " 97,\n",
       " 99]"
      ]
     },
     "execution_count": 18,
     "metadata": {},
     "output_type": "execute_result"
    }
   ],
   "source": [
    "list(filter(lambda x:x%2!=0,l))"
   ]
  },
  {
   "cell_type": "code",
   "execution_count": null,
   "id": "413f2e24-af89-43dd-9f39-9da9d6c9d35d",
   "metadata": {},
   "outputs": [],
   "source": []
  }
 ],
 "metadata": {
  "kernelspec": {
   "display_name": "Python 3 (ipykernel)",
   "language": "python",
   "name": "python3"
  },
  "language_info": {
   "codemirror_mode": {
    "name": "ipython",
    "version": 3
   },
   "file_extension": ".py",
   "mimetype": "text/x-python",
   "name": "python",
   "nbconvert_exporter": "python",
   "pygments_lexer": "ipython3",
   "version": "3.10.8"
  }
 },
 "nbformat": 4,
 "nbformat_minor": 5
}
