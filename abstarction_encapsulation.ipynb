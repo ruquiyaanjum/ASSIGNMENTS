{
 "cells": [
  {
   "cell_type": "markdown",
   "id": "3f83b9bb-a312-4f43-b9d9-3c7bfb1bef5d",
   "metadata": {},
   "source": [
    "Q1. What is Abstraction in OOps? Explain with an example."
   ]
  },
  {
   "cell_type": "code",
   "execution_count": 39,
   "id": "04774407-0d98-4e82-8979-850267861e44",
   "metadata": {},
   "outputs": [
    {
     "data": {
      "text/plain": [
       "'this is assignment for data science'"
      ]
     },
     "execution_count": 39,
     "metadata": {},
     "output_type": "execute_result"
    }
   ],
   "source": [
    "\"\"\"\n",
    "Abstarction -- hiding the implementation details of object. showing only neccessary features to the usera.\n",
    "abstactclass -- helps used for creating a blueprint or skeleton.import abc modules to use abstractmethods..\n",
    "\"\"\"\n",
    "#example\n",
    " \n",
    "class pwskills:\n",
    "    \"\"\"blueprint\"\"\"\n",
    "    \n",
    "\n",
    "    def student_details(self):\n",
    "        pass\n",
    "    \n",
    "\n",
    "    def student_assignment(self):\n",
    "        pass\n",
    "    \n",
    "    \n",
    "    def student_marks(self):\n",
    "        pass\n",
    "    \n",
    "class student_Details(pwskills):\n",
    "    \"\"\"accessing the abstactmethod for this class\"\"\"\n",
    "    \n",
    "    def student_details(self):\n",
    "        return \"this is student details\"\n",
    "    \n",
    "    def student_assignment(self):\n",
    "        return \"assignment of students\"\n",
    "    \n",
    "class data_science(pwskills):\n",
    "    \"\"\"accessing the abstactmethod for this class\"\"\"\n",
    "    \n",
    "    def student_details(self):\n",
    "        return \"this is student details for data science\"\n",
    "    \n",
    "    def student_assignment(self):\n",
    "        return \"this is assignment for data science\"\n",
    "    \n",
    "ds=data_science()\n",
    "sd=student_Details()\n",
    "\n",
    "ds.student_assignment()"
   ]
  },
  {
   "cell_type": "markdown",
   "id": "52d4997c-3aef-475a-8f0e-1698626c8b1a",
   "metadata": {},
   "source": [
    "Q2. Differentiate between Abstraction and Encapsulation. Explain with an example."
   ]
  },
  {
   "cell_type": "markdown",
   "id": "1b327bfa-7dcb-4d4b-a6fb-81c5ce300a4f",
   "metadata": {},
   "source": [
    "\n",
    "Abstarction : hiding the implementation and showing neccessary features to the users, abstarct class is used for creating a blueprint or skeleton. import abc for using abstract method.\n",
    "\n",
    "Encapsulation : binding the implementation (bunding the data ). (ex: capsules or tablets), hiding the data from users. using __ \"double underscore\" private variable.._single underscore is protected."
   ]
  },
  {
   "cell_type": "code",
   "execution_count": 37,
   "id": "d9f31e16-45f7-43ae-859c-6ed65a11367e",
   "metadata": {},
   "outputs": [
    {
     "name": "stdout",
     "output_type": "stream",
     "text": [
      "Toyota\n",
      "Engine started\n",
      "Engine stopped\n"
     ]
    }
   ],
   "source": [
    "class Car:\n",
    "    def __init__(self, make, model, year):\n",
    "        self._make = make        # Encapsulation: Attributes are encapsulated within the class\n",
    "        self._model = model\n",
    "        self._year = year\n",
    "        self._engine_running = False   # Encapsulation: Internal state is encapsulated\n",
    "    \n",
    "    def start_engine(self):     # Abstraction: Interface hides the implementation details\n",
    "        if not self._engine_running:\n",
    "            print(\"Engine started\")\n",
    "            self._engine_running = True\n",
    "        else:\n",
    "            print(\"Engine is already running\")\n",
    "    \n",
    "    def stop_engine(self):      # Abstraction: Interface hides the implementation details\n",
    "        if self._engine_running:\n",
    "            print(\"Engine stopped\")\n",
    "            self._engine_running = False\n",
    "        else:\n",
    "            print(\"Engine is already stopped\")\n",
    "\n",
    "# Usage\n",
    "my_car = Car(\"Toyota\", \"Camry\", 2022)\n",
    "\n",
    "# Accessing attributes directly (not encapsulated)\n",
    "print(my_car._make)  # Output: Toyota\n",
    "\n",
    "# Starting the engine (abstraction)\n",
    "my_car.start_engine()  # Output: Engine started\n",
    "\n",
    "# Trying to access and modify the internal state directly (not encapsulated)\n",
    "my_car._engine_running = True  # Not recommended, violates encapsulation\n",
    "\n",
    "# Stopping the engine (abstraction)\n",
    "my_car.stop_engine()  # Output: Engine stopped\n"
   ]
  },
  {
   "cell_type": "markdown",
   "id": "c8528faa-2062-4c14-82ed-b34ca2fbe7ae",
   "metadata": {},
   "source": [
    "Q3. What is abc module in python? Why is it used?"
   ]
  },
  {
   "cell_type": "code",
   "execution_count": null,
   "id": "e89e8ae0-b01a-4b83-97fb-47c0cd5ff9c3",
   "metadata": {},
   "outputs": [],
   "source": [
    "Abstarction -- hiding the implementation details of object. showing only neccessary features to the usera.\n",
    "abstactclass -- helps used for creating a blueprint or skeleton.import abc modules to use abstractmethods.."
   ]
  },
  {
   "cell_type": "code",
   "execution_count": 40,
   "id": "fc33bd4e-be9e-4713-8a97-86ba6e08fe4f",
   "metadata": {},
   "outputs": [
    {
     "data": {
      "text/plain": [
       "'this is assignment for data science'"
      ]
     },
     "execution_count": 40,
     "metadata": {},
     "output_type": "execute_result"
    }
   ],
   "source": [
    "\"\"\"\n",
    "Abstarction -- hiding the implementation details of object. showing only neccessary features to the usera.\n",
    "abstactclass -- helps used for creating a blueprint or skeleton.import abc modules to use abstractmethods..\n",
    "\"\"\"\n",
    "#example\n",
    "import abc   \n",
    "class pwskills:\n",
    "    \"\"\"blueprint\"\"\"\n",
    "    \n",
    "    @abc.abstractmethod\n",
    "    def student_details(self):\n",
    "        pass\n",
    "    \n",
    "    @abc.abstractclassmethod\n",
    "    def student_assignment(self):\n",
    "        pass\n",
    "    \n",
    "    @abc.abstractmethod\n",
    "    def student_marks(self):\n",
    "        pass\n",
    "    \n",
    "class student_Details(pwskills):\n",
    "    \"\"\"accessing the abstactmethod for this class\"\"\"\n",
    "    \n",
    "    def student_details(self):\n",
    "        return \"this is student details\"\n",
    "    \n",
    "    def student_assignment(self):\n",
    "        return \"assignment of students\"\n",
    "    \n",
    "class data_science(pwskills):\n",
    "    \"\"\"accessing the abstactmethod for this class\"\"\"\n",
    "    \n",
    "    def student_details(self):\n",
    "        return \"this is student details for data science\"\n",
    "    \n",
    "    def student_assignment(self):\n",
    "        return \"this is assignment for data science\"\n",
    "    \n",
    "ds=data_science()\n",
    "sd=student_Details()\n",
    "\n",
    "ds.student_assignment()"
   ]
  },
  {
   "cell_type": "markdown",
   "id": "459f8448-370e-4355-9e0e-48215dabf8be",
   "metadata": {},
   "source": [
    "Q4. How can we achieve data abstraction?"
   ]
  },
  {
   "cell_type": "markdown",
   "id": "34a490e2-c429-4d97-9c01-19aebcd2443d",
   "metadata": {},
   "source": [
    "Data abstraction in programming refers to the process of hiding the implementation details of data and showing only the essential features or functionalities. In object-oriented programming, data abstraction is typically achieved through the use of classes and objects. \n",
    "Encapsulation\n",
    "Abstraction with Abstract Base Classes (ABCs)"
   ]
  },
  {
   "cell_type": "code",
   "execution_count": 41,
   "id": "b19bd03f-7bd1-4fa0-b3b5-18556007b0d5",
   "metadata": {},
   "outputs": [
    {
     "name": "stdout",
     "output_type": "stream",
     "text": [
      "Area of Rectangle: 20\n",
      "5\n"
     ]
    }
   ],
   "source": [
    "from abc import ABC, abstractmethod\n",
    "\n",
    "class Shape(ABC):\n",
    "    @abstractmethod\n",
    "    def area(self):\n",
    "        pass\n",
    "\n",
    "class Rectangle(Shape):\n",
    "    def __init__(self, width, height):\n",
    "        self._width = width   # Encapsulation: Attributes are encapsulated\n",
    "        self._height = height\n",
    "    \n",
    "    def area(self):\n",
    "        return self._width * self._height\n",
    "\n",
    "# Usage\n",
    "rectangle = Rectangle(5, 4)\n",
    "print(\"Area of Rectangle:\", rectangle.area())  # Output: Area of Rectangle: 20\n",
    "\n",
    "# Trying to access the attributes directly from outside the class (not recommended)\n",
    "print(rectangle._width)   # Output: 5 (but not recommended, violates encapsulation)\n"
   ]
  },
  {
   "cell_type": "markdown",
   "id": "832c99f7-b6b5-4af8-a9a3-89c02f948fa1",
   "metadata": {},
   "source": [
    "Q5. Can we create an instance of an abstract class? Explain your answer."
   ]
  },
  {
   "cell_type": "code",
   "execution_count": null,
   "id": "d050a0fa-bf47-4f9d-8693-e336c44ef6e2",
   "metadata": {},
   "outputs": [],
   "source": [
    "No, you cannot create an instance of an abstract class directly in Python. Abstract classes are meant to be subclasses and serve as templates or blueprints for other classes. They typically contain one or more abstract methods that are meant to be implemented by concrete subclasses.\n",
    "\n",
    "Attempting to instantiate an abstract class directly would result in a TypeError because abstract classes are incomplete and not meant to be instantiated. They lack implementations for one or more methods, which makes them incomplete for direct instantiation.\n",
    "\n",
    "Here's an example to illustrate this:"
   ]
  },
  {
   "cell_type": "code",
   "execution_count": 42,
   "id": "cc40f62b-f609-48b9-afbc-8a0108bbb744",
   "metadata": {},
   "outputs": [
    {
     "name": "stdout",
     "output_type": "stream",
     "text": [
      "TypeError: Can't instantiate abstract class AbstractClass with abstract method abstract_method\n"
     ]
    }
   ],
   "source": [
    "from abc import ABC, abstractmethod\n",
    "\n",
    "class AbstractClass(ABC):\n",
    "    @abstractmethod\n",
    "    def abstract_method(self):\n",
    "        pass\n",
    "\n",
    "# Attempting to instantiate an abstract class\n",
    "try:\n",
    "    obj = AbstractClass()\n",
    "except TypeError as e:\n",
    "    print(\"TypeError:\", e)  # Output: TypeError: Can't instantiate abstract class AbstractClass with abstract methods abstract_method\n"
   ]
  },
  {
   "cell_type": "code",
   "execution_count": null,
   "id": "97c377f7-eed2-4d71-9206-128f49ec0b8a",
   "metadata": {},
   "outputs": [],
   "source": []
  }
 ],
 "metadata": {
  "kernelspec": {
   "display_name": "Python 3 (ipykernel)",
   "language": "python",
   "name": "python3"
  },
  "language_info": {
   "codemirror_mode": {
    "name": "ipython",
    "version": 3
   },
   "file_extension": ".py",
   "mimetype": "text/x-python",
   "name": "python",
   "nbconvert_exporter": "python",
   "pygments_lexer": "ipython3",
   "version": "3.10.8"
  }
 },
 "nbformat": 4,
 "nbformat_minor": 5
}
