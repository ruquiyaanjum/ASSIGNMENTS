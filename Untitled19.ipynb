{
  "nbformat": 4,
  "nbformat_minor": 0,
  "metadata": {
    "colab": {
      "provenance": [],
      "authorship_tag": "ABX9TyMiLbmPcFKwYLWjqxLTDTRn",
      "include_colab_link": true
    },
    "kernelspec": {
      "name": "python3",
      "display_name": "Python 3"
    },
    "language_info": {
      "name": "python"
    }
  },
  "cells": [
    {
      "cell_type": "markdown",
      "metadata": {
        "id": "view-in-github",
        "colab_type": "text"
      },
      "source": [
        "<a href=\"https://colab.research.google.com/github/ruquiyaanjum/ASSIGNMENTS/blob/main/Untitled19.ipynb\" target=\"_parent\"><img src=\"https://colab.research.google.com/assets/colab-badge.svg\" alt=\"Open In Colab\"/></a>"
      ]
    },
    {
      "cell_type": "markdown",
      "source": [
        "**Data Structure Assignment**"
      ],
      "metadata": {
        "id": "5R-fo6RcFwrC"
      }
    },
    {
      "cell_type": "markdown",
      "source": [
        "**1.Discuss string slicing and provide examples?**\n",
        "\n"
      ],
      "metadata": {
        "id": "OisFLDf1GOCE"
      }
    },
    {
      "cell_type": "markdown",
      "source": [
        "**string slicing :** Extract a specific part of a string. (substring)\n",
        "\n",
        "*   string[start:end:step] - (inclusive,exclusive,optional)\n",
        "\n",
        "*   ex: name = \"arjun\"\n",
        "        name[0:2] # o/p : \"ar\", by default step size is 1\n"
      ],
      "metadata": {
        "id": "lt5EzuzaG5AF"
      }
    },
    {
      "cell_type": "code",
      "source": [
        "#Examples :\n",
        "name = \"Arjun Kapoor\"\n",
        "name[0:2]"
      ],
      "metadata": {
        "colab": {
          "base_uri": "https://localhost:8080/",
          "height": 36
        },
        "id": "9d5BmPdBGY0E",
        "outputId": "e21402fd-238f-47e5-ce61-b15f1decc685"
      },
      "execution_count": 1,
      "outputs": [
        {
          "output_type": "execute_result",
          "data": {
            "text/plain": [
              "'Ar'"
            ],
            "application/vnd.google.colaboratory.intrinsic+json": {
              "type": "string"
            }
          },
          "metadata": {},
          "execution_count": 1
        }
      ]
    },
    {
      "cell_type": "code",
      "source": [
        "name[:-3]"
      ],
      "metadata": {
        "colab": {
          "base_uri": "https://localhost:8080/",
          "height": 36
        },
        "id": "9moVRiASH98U",
        "outputId": "537fecfc-103c-47cf-c307-39295ecc67b3"
      },
      "execution_count": 2,
      "outputs": [
        {
          "output_type": "execute_result",
          "data": {
            "text/plain": [
              "'Arjun Kap'"
            ],
            "application/vnd.google.colaboratory.intrinsic+json": {
              "type": "string"
            }
          },
          "metadata": {},
          "execution_count": 2
        }
      ]
    },
    {
      "cell_type": "code",
      "source": [
        "name[::-1] #reverse"
      ],
      "metadata": {
        "colab": {
          "base_uri": "https://localhost:8080/",
          "height": 36
        },
        "id": "6MDjcssXIBye",
        "outputId": "a67eed53-67d2-48a9-def0-967693e419f8"
      },
      "execution_count": 3,
      "outputs": [
        {
          "output_type": "execute_result",
          "data": {
            "text/plain": [
              "'roopaK nujrA'"
            ],
            "application/vnd.google.colaboratory.intrinsic+json": {
              "type": "string"
            }
          },
          "metadata": {},
          "execution_count": 3
        }
      ]
    },
    {
      "cell_type": "code",
      "source": [
        "name[::2] #step size is 2 .. jumps by 2"
      ],
      "metadata": {
        "colab": {
          "base_uri": "https://localhost:8080/",
          "height": 36
        },
        "id": "OVOQPK6bIFDe",
        "outputId": "80d295b8-2d63-4df0-9acc-2c443edab12b"
      },
      "execution_count": 4,
      "outputs": [
        {
          "output_type": "execute_result",
          "data": {
            "text/plain": [
              "'AjnKpo'"
            ],
            "application/vnd.google.colaboratory.intrinsic+json": {
              "type": "string"
            }
          },
          "metadata": {},
          "execution_count": 4
        }
      ]
    },
    {
      "cell_type": "code",
      "source": [
        "name[-2:]"
      ],
      "metadata": {
        "colab": {
          "base_uri": "https://localhost:8080/",
          "height": 36
        },
        "id": "N_EXKYdMIMBT",
        "outputId": "15567410-c5de-45da-8549-e34d60ffe801"
      },
      "execution_count": 5,
      "outputs": [
        {
          "output_type": "execute_result",
          "data": {
            "text/plain": [
              "'or'"
            ],
            "application/vnd.google.colaboratory.intrinsic+json": {
              "type": "string"
            }
          },
          "metadata": {},
          "execution_count": 5
        }
      ]
    },
    {
      "cell_type": "markdown",
      "source": [
        "**2. Explain the key features of lists in Python?**"
      ],
      "metadata": {
        "id": "vmH3ny2yI3_J"
      }
    },
    {
      "cell_type": "markdown",
      "source": [
        "**Key feature of list in python**:\n",
        "\n",
        "\n",
        "*   ***Ordered :*** List is a ordered collection of data (based on index data stored), first data is index at 0, second 1 and so on.\n",
        "*   ***mutable (Changeable) :*** List is a mutable data structure (after creating a list, we can change the data based on index). Perform adding, modifying, removing data.\n",
        "\n",
        "*  ***Allow Duplicate :***  similar data can be available in list. ex: [1,1,2,2]\n",
        "*   ***Hetrogeneous data :*** List store hetrogeneous data (all  type of data can be stored in list) ex: [1,3.4,True,\"arjun\",8+9j]\n",
        "\n",
        "*  ***Easy to use :***  python has many built in libraries for adding, removing, deleting list.\n",
        "*   ***Dynamic size :*** No need to define size of list, we can add, modify, delete data based on requirements."
      ],
      "metadata": {
        "id": "UML_jSpxJI5R"
      }
    },
    {
      "cell_type": "code",
      "source": [
        "data = [\"apple\",\"orange\",\"mango\"]\n",
        "data[0]"
      ],
      "metadata": {
        "colab": {
          "base_uri": "https://localhost:8080/",
          "height": 36
        },
        "id": "mSSIx1TgITsA",
        "outputId": "0c44d03f-8e03-43b5-a46a-501a65877c27"
      },
      "execution_count": 6,
      "outputs": [
        {
          "output_type": "execute_result",
          "data": {
            "text/plain": [
              "'apple'"
            ],
            "application/vnd.google.colaboratory.intrinsic+json": {
              "type": "string"
            }
          },
          "metadata": {},
          "execution_count": 6
        }
      ]
    },
    {
      "cell_type": "code",
      "source": [
        "data[0]=\"bannana\" #modifying data at 0th index"
      ],
      "metadata": {
        "id": "rzOeGyA7MC26"
      },
      "execution_count": 7,
      "outputs": []
    },
    {
      "cell_type": "code",
      "source": [
        "data"
      ],
      "metadata": {
        "colab": {
          "base_uri": "https://localhost:8080/"
        },
        "id": "MnVmqjSlMFYI",
        "outputId": "58615dc8-996b-4b93-c948-38b6332e52c8"
      },
      "execution_count": 8,
      "outputs": [
        {
          "output_type": "execute_result",
          "data": {
            "text/plain": [
              "['bannana', 'orange', 'mango']"
            ]
          },
          "metadata": {},
          "execution_count": 8
        }
      ]
    },
    {
      "cell_type": "code",
      "source": [
        "data[-1] #accesing data based on index"
      ],
      "metadata": {
        "colab": {
          "base_uri": "https://localhost:8080/",
          "height": 36
        },
        "id": "jXfZpDxxMFvb",
        "outputId": "2a17cb92-0644-489e-e3c5-62e69cd75f90"
      },
      "execution_count": 9,
      "outputs": [
        {
          "output_type": "execute_result",
          "data": {
            "text/plain": [
              "'mango'"
            ],
            "application/vnd.google.colaboratory.intrinsic+json": {
              "type": "string"
            }
          },
          "metadata": {},
          "execution_count": 9
        }
      ]
    },
    {
      "cell_type": "code",
      "source": [
        "data.append(\"monkey\") #add the data to last\n",
        "data"
      ],
      "metadata": {
        "colab": {
          "base_uri": "https://localhost:8080/"
        },
        "id": "6yv6G9kUMKeS",
        "outputId": "05f05062-eff3-459d-a754-6491b2518c76"
      },
      "execution_count": 10,
      "outputs": [
        {
          "output_type": "execute_result",
          "data": {
            "text/plain": [
              "['bannana', 'orange', 'mango', 'monkey']"
            ]
          },
          "metadata": {},
          "execution_count": 10
        }
      ]
    },
    {
      "cell_type": "code",
      "source": [
        "data.pop() #remove last data by default\n",
        "data"
      ],
      "metadata": {
        "colab": {
          "base_uri": "https://localhost:8080/"
        },
        "id": "6ycR0PO9MWXp",
        "outputId": "5ea95911-9125-495a-8637-2372c96b2b96"
      },
      "execution_count": 11,
      "outputs": [
        {
          "output_type": "execute_result",
          "data": {
            "text/plain": [
              "['bannana', 'orange', 'mango']"
            ]
          },
          "metadata": {},
          "execution_count": 11
        }
      ]
    },
    {
      "cell_type": "code",
      "source": [
        "data.remove(\"mango\")\n",
        "data"
      ],
      "metadata": {
        "colab": {
          "base_uri": "https://localhost:8080/"
        },
        "id": "J8qZDMDcMaqs",
        "outputId": "e616b082-fc45-4787-f7e6-cbda04654826"
      },
      "execution_count": 12,
      "outputs": [
        {
          "output_type": "execute_result",
          "data": {
            "text/plain": [
              "['bannana', 'orange']"
            ]
          },
          "metadata": {},
          "execution_count": 12
        }
      ]
    },
    {
      "cell_type": "code",
      "source": [
        "data.insert(0,\"ppp\")\n",
        "data"
      ],
      "metadata": {
        "colab": {
          "base_uri": "https://localhost:8080/"
        },
        "id": "Pb0jtiMBMfqj",
        "outputId": "1a4a4ec9-36b6-404d-ba76-23b3377990d5"
      },
      "execution_count": 13,
      "outputs": [
        {
          "output_type": "execute_result",
          "data": {
            "text/plain": [
              "['ppp', 'bannana', 'orange']"
            ]
          },
          "metadata": {},
          "execution_count": 13
        }
      ]
    },
    {
      "cell_type": "markdown",
      "source": [
        "**3. Describe how to access, modify, and delete elements in a list with examples?**"
      ],
      "metadata": {
        "id": "ZDculdZMMr5T"
      }
    },
    {
      "cell_type": "code",
      "source": [
        "#1. Access the list using index (foward index -- 0,1,2... & backward index -- -1,-2,-3...)\n",
        "\n",
        "data = [\"apple\",1,8.9,99,True,(7,8),9+8j,[9,8,8]]\n",
        "data"
      ],
      "metadata": {
        "colab": {
          "base_uri": "https://localhost:8080/"
        },
        "id": "Cwv-NiSzMlNF",
        "outputId": "5bb3f28e-5f69-4ed8-fd6b-4db0d71ea5cd"
      },
      "execution_count": 14,
      "outputs": [
        {
          "output_type": "execute_result",
          "data": {
            "text/plain": [
              "['apple', 1, 8.9, 99, True, (7, 8), (9+8j), [9, 8, 8]]"
            ]
          },
          "metadata": {},
          "execution_count": 14
        }
      ]
    },
    {
      "cell_type": "code",
      "source": [
        "data[0]"
      ],
      "metadata": {
        "colab": {
          "base_uri": "https://localhost:8080/",
          "height": 36
        },
        "id": "qauMkwk-NeFJ",
        "outputId": "88a45c05-2950-44ab-efee-02a8955f1957"
      },
      "execution_count": 15,
      "outputs": [
        {
          "output_type": "execute_result",
          "data": {
            "text/plain": [
              "'apple'"
            ],
            "application/vnd.google.colaboratory.intrinsic+json": {
              "type": "string"
            }
          },
          "metadata": {},
          "execution_count": 15
        }
      ]
    },
    {
      "cell_type": "code",
      "source": [
        "data[-1]"
      ],
      "metadata": {
        "colab": {
          "base_uri": "https://localhost:8080/"
        },
        "id": "FEcN6sRzNfPr",
        "outputId": "f1a814f3-fef9-4725-b50b-f46556dbbbc8"
      },
      "execution_count": 16,
      "outputs": [
        {
          "output_type": "execute_result",
          "data": {
            "text/plain": [
              "[9, 8, 8]"
            ]
          },
          "metadata": {},
          "execution_count": 16
        }
      ]
    },
    {
      "cell_type": "code",
      "source": [
        "data[-1][1]"
      ],
      "metadata": {
        "colab": {
          "base_uri": "https://localhost:8080/"
        },
        "id": "qtQGWiI3NgkY",
        "outputId": "28b3fd39-b77a-43e1-ad3b-9a08136e4c27"
      },
      "execution_count": 17,
      "outputs": [
        {
          "output_type": "execute_result",
          "data": {
            "text/plain": [
              "8"
            ]
          },
          "metadata": {},
          "execution_count": 17
        }
      ]
    },
    {
      "cell_type": "code",
      "source": [
        "data[-3][0]"
      ],
      "metadata": {
        "colab": {
          "base_uri": "https://localhost:8080/"
        },
        "id": "v1DyCR-xNjNL",
        "outputId": "121d9818-91e6-4b80-f290-a7f40416a118"
      },
      "execution_count": 19,
      "outputs": [
        {
          "output_type": "execute_result",
          "data": {
            "text/plain": [
              "7"
            ]
          },
          "metadata": {},
          "execution_count": 19
        }
      ]
    },
    {
      "cell_type": "code",
      "source": [
        "data[-2].real"
      ],
      "metadata": {
        "colab": {
          "base_uri": "https://localhost:8080/"
        },
        "id": "AtJ9ouhVNlVa",
        "outputId": "08e79d0d-3350-41b7-e1db-a491598b2e00"
      },
      "execution_count": 21,
      "outputs": [
        {
          "output_type": "execute_result",
          "data": {
            "text/plain": [
              "9.0"
            ]
          },
          "metadata": {},
          "execution_count": 21
        }
      ]
    },
    {
      "cell_type": "code",
      "source": [
        "data[-2].imag"
      ],
      "metadata": {
        "colab": {
          "base_uri": "https://localhost:8080/"
        },
        "id": "9UVVxpsCNoS7",
        "outputId": "3161a253-1586-4fae-e4c8-fd3dc4fee919"
      },
      "execution_count": 22,
      "outputs": [
        {
          "output_type": "execute_result",
          "data": {
            "text/plain": [
              "8.0"
            ]
          },
          "metadata": {},
          "execution_count": 22
        }
      ]
    },
    {
      "cell_type": "code",
      "source": [
        "#2. modifying element based on index (changing the data of list after creating)\n",
        "data[-1][1] = \"data modified\""
      ],
      "metadata": {
        "id": "J5dGmbCvNrxz"
      },
      "execution_count": 25,
      "outputs": []
    },
    {
      "cell_type": "code",
      "source": [
        "data"
      ],
      "metadata": {
        "colab": {
          "base_uri": "https://localhost:8080/"
        },
        "id": "XpzDxaCnOF9l",
        "outputId": "cb97f017-ad71-4d79-8f86-b2467f16e60d"
      },
      "execution_count": 26,
      "outputs": [
        {
          "output_type": "execute_result",
          "data": {
            "text/plain": [
              "['apple', 1, 8.9, 99, True, (7, 8), (9+8j), [9, 'data modified', 8]]"
            ]
          },
          "metadata": {},
          "execution_count": 26
        }
      ]
    },
    {
      "cell_type": "code",
      "source": [
        "data[-2] = False"
      ],
      "metadata": {
        "id": "rVRGTNHWOLhB"
      },
      "execution_count": 28,
      "outputs": []
    },
    {
      "cell_type": "code",
      "source": [
        "data"
      ],
      "metadata": {
        "colab": {
          "base_uri": "https://localhost:8080/"
        },
        "id": "AcEpKTLNOQFD",
        "outputId": "5dfd9dd0-5679-4660-84b6-f8809e6e72af"
      },
      "execution_count": 29,
      "outputs": [
        {
          "output_type": "execute_result",
          "data": {
            "text/plain": [
              "['apple', 1, 8.9, 99, True, (7, 8), False, [9, 'data modified', 8]]"
            ]
          },
          "metadata": {},
          "execution_count": 29
        }
      ]
    },
    {
      "cell_type": "code",
      "source": [
        "data[0] = \"orange\"\n",
        "data"
      ],
      "metadata": {
        "colab": {
          "base_uri": "https://localhost:8080/"
        },
        "id": "vLQZDvjNOTWP",
        "outputId": "59938e57-7bfc-4155-8941-dccf7fe4d47f"
      },
      "execution_count": 30,
      "outputs": [
        {
          "output_type": "execute_result",
          "data": {
            "text/plain": [
              "['orange', 1, 8.9, 99, True, (7, 8), False, [9, 'data modified', 8]]"
            ]
          },
          "metadata": {},
          "execution_count": 30
        }
      ]
    },
    {
      "cell_type": "code",
      "source": [
        "#3. removing the data by value using remove function or del function based on index on list\n",
        "data.remove(1)\n",
        "data"
      ],
      "metadata": {
        "colab": {
          "base_uri": "https://localhost:8080/"
        },
        "id": "1nEPldpBOZM9",
        "outputId": "b89053bd-ff28-4344-b5c7-c0d4f087711c"
      },
      "execution_count": 31,
      "outputs": [
        {
          "output_type": "execute_result",
          "data": {
            "text/plain": [
              "['orange', 8.9, 99, True, (7, 8), False, [9, 'data modified', 8]]"
            ]
          },
          "metadata": {},
          "execution_count": 31
        }
      ]
    },
    {
      "cell_type": "code",
      "source": [
        "data.pop(0)\n",
        "data"
      ],
      "metadata": {
        "colab": {
          "base_uri": "https://localhost:8080/"
        },
        "id": "DGm-9SIQOqwf",
        "outputId": "4ec4f4ca-cb1b-4e97-e1c0-084818ae422d"
      },
      "execution_count": 32,
      "outputs": [
        {
          "output_type": "execute_result",
          "data": {
            "text/plain": [
              "[8.9, 99, True, (7, 8), False, [9, 'data modified', 8]]"
            ]
          },
          "metadata": {},
          "execution_count": 32
        }
      ]
    },
    {
      "cell_type": "code",
      "source": [
        "del data[0:2]\n",
        "data"
      ],
      "metadata": {
        "colab": {
          "base_uri": "https://localhost:8080/"
        },
        "id": "LFzUAEBvOuL8",
        "outputId": "ab55e728-30e9-4ee1-cd19-8a91fa949405"
      },
      "execution_count": 33,
      "outputs": [
        {
          "output_type": "execute_result",
          "data": {
            "text/plain": [
              "[True, (7, 8), False, [9, 'data modified', 8]]"
            ]
          },
          "metadata": {},
          "execution_count": 33
        }
      ]
    },
    {
      "cell_type": "markdown",
      "source": [
        "**4. Compare and contrast tuples and lists with examples?**"
      ],
      "metadata": {
        "id": "EpSX-vLYRCg7"
      }
    },
    {
      "cell_type": "markdown",
      "source": [
        "***List :***\n",
        "\n",
        "*  changeable collection of data.\n",
        "*  created with square brakets [].\n",
        "\n",
        "*  mutable (change the data).\n",
        "*  dynamic size (you can add data).\n",
        "*  slightly slower because it can change.\n",
        "*  ex: shopping list.\n",
        "\n",
        "***Tuple :***\n",
        "\n",
        "* unchangeable collection of data.\n",
        "* Created with ().\n",
        "* immutable (cannot change data).\n",
        "* fixed size.\n",
        "* faster than list because it is not changeable.\n",
        "* ex: Adhar Card, ATM card"
      ],
      "metadata": {
        "id": "rQE7y8GpO5Pv"
      }
    },
    {
      "cell_type": "code",
      "source": [
        "data = [\"apple\",'bannana',\"orange\",\"monkey\"]\n",
        "data[0]=\"rukmini\"\n",
        "data.append(\"grapes\")  #mutable (modifying)\n",
        "data"
      ],
      "metadata": {
        "colab": {
          "base_uri": "https://localhost:8080/"
        },
        "id": "uD51JpVyOyfi",
        "outputId": "48eb1b23-83b3-43ae-c225-bcc912a390f6"
      },
      "execution_count": 35,
      "outputs": [
        {
          "output_type": "execute_result",
          "data": {
            "text/plain": [
              "['rukmini', 'bannana', 'orange', 'monkey', 'grapes']"
            ]
          },
          "metadata": {},
          "execution_count": 35
        }
      ]
    },
    {
      "cell_type": "code",
      "source": [
        "data = (\"apple\",'bannana',\"orange\",\"monkey\")\n",
        "data[0] = \"grapes\" #immutable (not changeable)"
      ],
      "metadata": {
        "colab": {
          "base_uri": "https://localhost:8080/",
          "height": 176
        },
        "id": "fspYLLhkRe0M",
        "outputId": "9df48364-4cdf-402c-d620-ea529031930a"
      },
      "execution_count": 37,
      "outputs": [
        {
          "output_type": "error",
          "ename": "TypeError",
          "evalue": "'tuple' object does not support item assignment",
          "traceback": [
            "\u001b[0;31m---------------------------------------------------------------------------\u001b[0m",
            "\u001b[0;31mTypeError\u001b[0m                                 Traceback (most recent call last)",
            "\u001b[0;32m<ipython-input-37-0544ca099f60>\u001b[0m in \u001b[0;36m<cell line: 2>\u001b[0;34m()\u001b[0m\n\u001b[1;32m      1\u001b[0m \u001b[0mdata\u001b[0m \u001b[0;34m=\u001b[0m \u001b[0;34m(\u001b[0m\u001b[0;34m\"apple\"\u001b[0m\u001b[0;34m,\u001b[0m\u001b[0;34m'bannana'\u001b[0m\u001b[0;34m,\u001b[0m\u001b[0;34m\"orange\"\u001b[0m\u001b[0;34m,\u001b[0m\u001b[0;34m\"monkey\"\u001b[0m\u001b[0;34m)\u001b[0m\u001b[0;34m\u001b[0m\u001b[0;34m\u001b[0m\u001b[0m\n\u001b[0;32m----> 2\u001b[0;31m \u001b[0mdata\u001b[0m\u001b[0;34m[\u001b[0m\u001b[0;36m0\u001b[0m\u001b[0;34m]\u001b[0m \u001b[0;34m=\u001b[0m \u001b[0;34m\"grapes\"\u001b[0m \u001b[0;31m#immutable (not changeable)\u001b[0m\u001b[0;34m\u001b[0m\u001b[0;34m\u001b[0m\u001b[0m\n\u001b[0m\u001b[1;32m      3\u001b[0m \u001b[0mdata\u001b[0m\u001b[0;34m\u001b[0m\u001b[0;34m\u001b[0m\u001b[0m\n",
            "\u001b[0;31mTypeError\u001b[0m: 'tuple' object does not support item assignment"
          ]
        }
      ]
    },
    {
      "cell_type": "code",
      "source": [
        "data"
      ],
      "metadata": {
        "colab": {
          "base_uri": "https://localhost:8080/"
        },
        "id": "w0YOQpzSRpg6",
        "outputId": "b2d9c5cb-ba11-4c09-c018-41cf9594f774"
      },
      "execution_count": 38,
      "outputs": [
        {
          "output_type": "execute_result",
          "data": {
            "text/plain": [
              "('apple', 'bannana', 'orange', 'monkey')"
            ]
          },
          "metadata": {},
          "execution_count": 38
        }
      ]
    },
    {
      "cell_type": "markdown",
      "source": [
        "5. **Describe the key features of sets and provide examples of their use?**\n"
      ],
      "metadata": {
        "id": "rEKVoO7AR8-w"
      }
    },
    {
      "cell_type": "markdown",
      "source": [
        "**Key features of sets in python :**\n",
        "*   ***Unordered :*** sets is unordered collection of data (no indexing concept is there).\n",
        "*   ***Unique data :*** sets contains only unique data. ex: a= {1,1} #o/p {1}\n",
        "\n",
        "*  **Mutable :** set is mutable . you can change data (modifying data), add, remove.\n",
        "*  **Fast Membership Testing :** checking the data is present in list."
      ],
      "metadata": {
        "id": "dxjNWAVvSZZM"
      }
    },
    {
      "cell_type": "code",
      "source": [
        "#inside set must be immutable data if you are creating inside tuples\n",
        "#immutable data structure has stable hash value ex: tuple\n",
        "s = {1,2.2,True,(9,8),\"rukz\",8+9j} #creating a set\n",
        "s"
      ],
      "metadata": {
        "colab": {
          "base_uri": "https://localhost:8080/"
        },
        "id": "C2iRb6g5RzwS",
        "outputId": "d3fd6ee9-b92e-48d3-8bf6-17e3e3257c7f"
      },
      "execution_count": 39,
      "outputs": [
        {
          "output_type": "execute_result",
          "data": {
            "text/plain": [
              "{(8+9j), (9, 8), 1, 2.2, 'rukz'}"
            ]
          },
          "metadata": {},
          "execution_count": 39
        }
      ]
    },
    {
      "cell_type": "code",
      "source": [
        "type(s) #checking the type of data"
      ],
      "metadata": {
        "colab": {
          "base_uri": "https://localhost:8080/"
        },
        "id": "tkR_5am2UQU3",
        "outputId": "d2ef787f-a4d0-41bd-cf7b-8a2174431b7c"
      },
      "execution_count": 40,
      "outputs": [
        {
          "output_type": "execute_result",
          "data": {
            "text/plain": [
              "set"
            ]
          },
          "metadata": {},
          "execution_count": 40
        }
      ]
    },
    {
      "cell_type": "code",
      "source": [
        "s.add(\"orange\") #add to set randomly\n",
        "s"
      ],
      "metadata": {
        "colab": {
          "base_uri": "https://localhost:8080/"
        },
        "id": "P4tSpuhBURdw",
        "outputId": "fceb1806-1541-4b5e-d952-6d096f2a8037"
      },
      "execution_count": 41,
      "outputs": [
        {
          "output_type": "execute_result",
          "data": {
            "text/plain": [
              "{(8+9j), (9, 8), 1, 2.2, 'orange', 'rukz'}"
            ]
          },
          "metadata": {},
          "execution_count": 41
        }
      ]
    },
    {
      "cell_type": "code",
      "source": [
        "s.remove(1) #remove randomly\n",
        "s"
      ],
      "metadata": {
        "colab": {
          "base_uri": "https://localhost:8080/"
        },
        "id": "SYeLl2pSUbXV",
        "outputId": "444776a8-45fc-42be-8a94-4f2765d390ae"
      },
      "execution_count": 42,
      "outputs": [
        {
          "output_type": "execute_result",
          "data": {
            "text/plain": [
              "{(8+9j), (9, 8), 2.2, 'orange', 'rukz'}"
            ]
          },
          "metadata": {},
          "execution_count": 42
        }
      ]
    },
    {
      "cell_type": "code",
      "source": [
        "s.add(2.2) #no duplicate\n",
        "s"
      ],
      "metadata": {
        "colab": {
          "base_uri": "https://localhost:8080/"
        },
        "id": "rB9syEucUkCo",
        "outputId": "c5a156dd-cfa5-4b78-d8a6-fa32350f3943"
      },
      "execution_count": 43,
      "outputs": [
        {
          "output_type": "execute_result",
          "data": {
            "text/plain": [
              "{(8+9j), (9, 8), 2.2, 'orange', 'rukz'}"
            ]
          },
          "metadata": {},
          "execution_count": 43
        }
      ]
    },
    {
      "cell_type": "code",
      "source": [
        "2.2 in s"
      ],
      "metadata": {
        "colab": {
          "base_uri": "https://localhost:8080/"
        },
        "id": "w-eGGYOMUqb-",
        "outputId": "f48cc7ec-ab43-44bf-b833-4a72468e1a7d"
      },
      "execution_count": 44,
      "outputs": [
        {
          "output_type": "execute_result",
          "data": {
            "text/plain": [
              "True"
            ]
          },
          "metadata": {},
          "execution_count": 44
        }
      ]
    },
    {
      "cell_type": "code",
      "source": [
        "1 not in s"
      ],
      "metadata": {
        "colab": {
          "base_uri": "https://localhost:8080/"
        },
        "id": "zGUMM6veUuM3",
        "outputId": "5b23c02e-58f6-427b-c4f6-c56304f66904"
      },
      "execution_count": 45,
      "outputs": [
        {
          "output_type": "execute_result",
          "data": {
            "text/plain": [
              "True"
            ]
          },
          "metadata": {},
          "execution_count": 45
        }
      ]
    },
    {
      "cell_type": "code",
      "source": [
        "#easy to use, fast checking item in set using membership testing."
      ],
      "metadata": {
        "id": "-fUcoAyaUvhJ"
      },
      "execution_count": null,
      "outputs": []
    },
    {
      "cell_type": "markdown",
      "source": [
        "**6. Discuss the use cases of tuples and sets in Python programming?**"
      ],
      "metadata": {
        "id": "5RHt5UY9U53V"
      }
    },
    {
      "cell_type": "code",
      "source": [
        "#use case of tuples\n",
        "#1. fixed collection -- immutable data. once created we cannot modify the data\n",
        "t = (10,20)\n",
        "t"
      ],
      "metadata": {
        "colab": {
          "base_uri": "https://localhost:8080/"
        },
        "id": "twK5mstkVJcU",
        "outputId": "59e40be2-1f91-4bee-9981-061fe5833858"
      },
      "execution_count": 46,
      "outputs": [
        {
          "output_type": "execute_result",
          "data": {
            "text/plain": [
              "(10, 20)"
            ]
          },
          "metadata": {},
          "execution_count": 46
        }
      ]
    },
    {
      "cell_type": "code",
      "source": [
        "#2. returning multiple values using tuple\n",
        "def get_info():\n",
        "  return(\"rukz\",24)\n",
        "name,age=get_info()\n",
        "name"
      ],
      "metadata": {
        "colab": {
          "base_uri": "https://localhost:8080/",
          "height": 36
        },
        "id": "CAfFXiT6XMrm",
        "outputId": "c98fa74a-f3c7-485c-efdc-4fe56be861a5"
      },
      "execution_count": 48,
      "outputs": [
        {
          "output_type": "execute_result",
          "data": {
            "text/plain": [
              "'rukz'"
            ],
            "application/vnd.google.colaboratory.intrinsic+json": {
              "type": "string"
            }
          },
          "metadata": {},
          "execution_count": 48
        }
      ]
    },
    {
      "cell_type": "code",
      "source": [
        "age"
      ],
      "metadata": {
        "colab": {
          "base_uri": "https://localhost:8080/"
        },
        "id": "F6Vm5GfMXhaV",
        "outputId": "237a105e-d8e1-467e-f8ae-6d72c080922f"
      },
      "execution_count": 49,
      "outputs": [
        {
          "output_type": "execute_result",
          "data": {
            "text/plain": [
              "24"
            ]
          },
          "metadata": {},
          "execution_count": 49
        }
      ]
    },
    {
      "cell_type": "code",
      "source": [
        "#3. using as dictionary keys #immutable data structure has a stable hash type.\n",
        "t = {(1,2,3):\"arjun\"}\n",
        "t"
      ],
      "metadata": {
        "colab": {
          "base_uri": "https://localhost:8080/"
        },
        "id": "mnrnMK4aXlH6",
        "outputId": "a7c065b0-a1a4-4173-9a63-2d56437d8b02"
      },
      "execution_count": 50,
      "outputs": [
        {
          "output_type": "execute_result",
          "data": {
            "text/plain": [
              "{(1, 2, 3): 'arjun'}"
            ]
          },
          "metadata": {},
          "execution_count": 50
        }
      ]
    },
    {
      "cell_type": "code",
      "source": [
        "t[(1,2,3)]"
      ],
      "metadata": {
        "colab": {
          "base_uri": "https://localhost:8080/",
          "height": 36
        },
        "id": "vFikxv7mXv7j",
        "outputId": "4769287a-e4d0-45ad-9c30-fea608560ec0"
      },
      "execution_count": 51,
      "outputs": [
        {
          "output_type": "execute_result",
          "data": {
            "text/plain": [
              "'arjun'"
            ],
            "application/vnd.google.colaboratory.intrinsic+json": {
              "type": "string"
            }
          },
          "metadata": {},
          "execution_count": 51
        }
      ]
    },
    {
      "cell_type": "code",
      "source": [
        "#use case of sets\n",
        "#1. unique data, unordered(no index)\n",
        "s = {\"apple\",1,\"orange\",\"grapes\"}\n",
        "s"
      ],
      "metadata": {
        "colab": {
          "base_uri": "https://localhost:8080/"
        },
        "id": "HgZ3odnQXxV-",
        "outputId": "3bb63c8d-96af-4c52-b459-0a6f260eb14e"
      },
      "execution_count": 52,
      "outputs": [
        {
          "output_type": "execute_result",
          "data": {
            "text/plain": [
              "{1, 'apple', 'grapes', 'orange'}"
            ]
          },
          "metadata": {},
          "execution_count": 52
        }
      ]
    },
    {
      "cell_type": "code",
      "source": [
        "#membership testing\n",
        "if \"apple\" in s:\n",
        "  print(\"found\")"
      ],
      "metadata": {
        "colab": {
          "base_uri": "https://localhost:8080/"
        },
        "id": "E0ieQvdHYAXD",
        "outputId": "7b2c4c47-55e3-4239-b933-be945758442a"
      },
      "execution_count": 53,
      "outputs": [
        {
          "output_type": "stream",
          "name": "stdout",
          "text": [
            "found\n"
          ]
        }
      ]
    },
    {
      "cell_type": "code",
      "source": [
        "#set operation\n",
        "s1 = {1,2,3}\n",
        "s2 = {3,4,5}\n",
        "s1|s2 #union - combine all data"
      ],
      "metadata": {
        "colab": {
          "base_uri": "https://localhost:8080/"
        },
        "id": "RIEdrjNoYIKR",
        "outputId": "15a970aa-3f36-4c1c-88a6-09fc1d0a11ae"
      },
      "execution_count": 54,
      "outputs": [
        {
          "output_type": "execute_result",
          "data": {
            "text/plain": [
              "{1, 2, 3, 4, 5}"
            ]
          },
          "metadata": {},
          "execution_count": 54
        }
      ]
    },
    {
      "cell_type": "code",
      "source": [
        "s1 & s2 #intersection # common data"
      ],
      "metadata": {
        "colab": {
          "base_uri": "https://localhost:8080/"
        },
        "id": "CAaYjdUvYRRB",
        "outputId": "23ccdf9a-db2f-47b7-a53b-ee3b9e211bd2"
      },
      "execution_count": 55,
      "outputs": [
        {
          "output_type": "execute_result",
          "data": {
            "text/plain": [
              "{3}"
            ]
          },
          "metadata": {},
          "execution_count": 55
        }
      ]
    },
    {
      "cell_type": "code",
      "source": [
        "s1 - s2 #difference -- first set only no common data in set 2.\n"
      ],
      "metadata": {
        "colab": {
          "base_uri": "https://localhost:8080/"
        },
        "id": "RwqO4XtEYSXo",
        "outputId": "1fe8474c-dc44-4a53-ada9-10c4982bead0"
      },
      "execution_count": 56,
      "outputs": [
        {
          "output_type": "execute_result",
          "data": {
            "text/plain": [
              "{1, 2}"
            ]
          },
          "metadata": {},
          "execution_count": 56
        }
      ]
    },
    {
      "cell_type": "code",
      "source": [
        "s1 ^ s2 #symmetric difference -- unique data"
      ],
      "metadata": {
        "colab": {
          "base_uri": "https://localhost:8080/"
        },
        "id": "Cag8YQ5-YeVM",
        "outputId": "c7c128c3-032e-400f-f823-5dd88ed9e332"
      },
      "execution_count": 57,
      "outputs": [
        {
          "output_type": "execute_result",
          "data": {
            "text/plain": [
              "{1, 2, 4, 5}"
            ]
          },
          "metadata": {},
          "execution_count": 57
        }
      ]
    },
    {
      "cell_type": "code",
      "source": [
        "s.add(\"8\")\n",
        "s"
      ],
      "metadata": {
        "colab": {
          "base_uri": "https://localhost:8080/"
        },
        "id": "6Tu2vdVsYjYw",
        "outputId": "9704a725-9912-44ad-8de4-adf3f07dd9f9"
      },
      "execution_count": 58,
      "outputs": [
        {
          "output_type": "execute_result",
          "data": {
            "text/plain": [
              "{1, '8', 'apple', 'grapes', 'orange'}"
            ]
          },
          "metadata": {},
          "execution_count": 58
        }
      ]
    },
    {
      "cell_type": "code",
      "source": [
        "s.remove(\"8\")"
      ],
      "metadata": {
        "id": "aH8s3ljDZKCR"
      },
      "execution_count": 59,
      "outputs": []
    },
    {
      "cell_type": "code",
      "source": [
        "s"
      ],
      "metadata": {
        "colab": {
          "base_uri": "https://localhost:8080/"
        },
        "id": "zcr1n4cxZMD4",
        "outputId": "73131645-26f1-4b5e-ac9b-165bc68ceb5f"
      },
      "execution_count": 60,
      "outputs": [
        {
          "output_type": "execute_result",
          "data": {
            "text/plain": [
              "{1, 'apple', 'grapes', 'orange'}"
            ]
          },
          "metadata": {},
          "execution_count": 60
        }
      ]
    },
    {
      "cell_type": "markdown",
      "source": [
        "***7. Describe how to add, modify, and delete items in a dictionary with examples and 8. Discuss the importance of dictionary keys being immutable and provide examples? ***"
      ],
      "metadata": {
        "id": "ytft6qwNZy0R"
      }
    },
    {
      "cell_type": "code",
      "source": [
        "#dictionary : key : value pair\n",
        "#Modify, Add, Delete data in a dictionary\n",
        "\n",
        "#1. Adding item to a dictionary\n",
        "data = {\n",
        "    \"name\":\"arun\",\n",
        "    \"email\":\"arun@gmail.com\",\n",
        "    \"number\":77888,\n",
        "    \"address\":\"bangalore\"\n",
        "}\n",
        "data,type(data)"
      ],
      "metadata": {
        "colab": {
          "base_uri": "https://localhost:8080/"
        },
        "id": "QShvj4oQZMVm",
        "outputId": "75b742ad-5b73-4863-d55f-1dec26a24902"
      },
      "execution_count": 61,
      "outputs": [
        {
          "output_type": "execute_result",
          "data": {
            "text/plain": [
              "({'name': 'arun',\n",
              "  'email': 'arun@gmail.com',\n",
              "  'number': 77888,\n",
              "  'address': 'bangalore'},\n",
              " dict)"
            ]
          },
          "metadata": {},
          "execution_count": 61
        }
      ]
    },
    {
      "cell_type": "code",
      "source": [
        "data[\"course\"] = \"DS\" #Adding data to the dictionary\n",
        "data"
      ],
      "metadata": {
        "colab": {
          "base_uri": "https://localhost:8080/"
        },
        "id": "4nvELcBkaleh",
        "outputId": "1e7dbb95-86bb-420c-a1aa-f07fe2a98ecb"
      },
      "execution_count": 62,
      "outputs": [
        {
          "output_type": "execute_result",
          "data": {
            "text/plain": [
              "{'name': 'arun',\n",
              " 'email': 'arun@gmail.com',\n",
              " 'number': 77888,\n",
              " 'address': 'bangalore',\n",
              " 'course': 'DS'}"
            ]
          },
          "metadata": {},
          "execution_count": 62
        }
      ]
    },
    {
      "cell_type": "code",
      "source": [
        "#Modifying a data\n",
        "data[\"number\"] = 9998888\n",
        "data"
      ],
      "metadata": {
        "colab": {
          "base_uri": "https://localhost:8080/"
        },
        "id": "oH4c5dZvasXZ",
        "outputId": "572cfa51-248c-4559-a575-58c91481e019"
      },
      "execution_count": 63,
      "outputs": [
        {
          "output_type": "execute_result",
          "data": {
            "text/plain": [
              "{'name': 'arun',\n",
              " 'email': 'arun@gmail.com',\n",
              " 'number': 9998888,\n",
              " 'address': 'bangalore',\n",
              " 'course': 'DS'}"
            ]
          },
          "metadata": {},
          "execution_count": 63
        }
      ]
    },
    {
      "cell_type": "code",
      "source": [
        "#deleting a data\n",
        "del data[\"course\"]\n",
        "data"
      ],
      "metadata": {
        "colab": {
          "base_uri": "https://localhost:8080/"
        },
        "id": "2mWoFJmGbFsi",
        "outputId": "3873f577-e60f-4e7d-f396-fd5d607e67ad"
      },
      "execution_count": 64,
      "outputs": [
        {
          "output_type": "execute_result",
          "data": {
            "text/plain": [
              "{'name': 'arun',\n",
              " 'email': 'arun@gmail.com',\n",
              " 'number': 9998888,\n",
              " 'address': 'bangalore'}"
            ]
          },
          "metadata": {},
          "execution_count": 64
        }
      ]
    },
    {
      "cell_type": "code",
      "source": [
        "data.pop(\"number\")\n",
        "data"
      ],
      "metadata": {
        "colab": {
          "base_uri": "https://localhost:8080/"
        },
        "id": "eEAI8rqTbOPr",
        "outputId": "4b096660-b86e-44bf-eea3-1d665b0a69d7"
      },
      "execution_count": 65,
      "outputs": [
        {
          "output_type": "execute_result",
          "data": {
            "text/plain": [
              "{'name': 'arun', 'email': 'arun@gmail.com', 'address': 'bangalore'}"
            ]
          },
          "metadata": {},
          "execution_count": 65
        }
      ]
    },
    {
      "cell_type": "markdown",
      "source": [
        "*** Dictionary Keys Must Be Immutable***\n",
        "1. consistency : if keys could change, the dictionary would get mixed up, for example if you use list as a key and change it, then dictionary would not know how to find the value anymore.\n",
        "\n",
        "2. hashing : dictionary use special method hashing to keep the track of keys.\n",
        " immutable data structure has stable hash value ex: tuple,\n",
        "inside set must be immutable data(tuple) should be store.\n",
        "only things cant change (like string, numbers & tuples) can be used as keys. list can  changed so they can't be used.\n",
        "\n",
        "\n",
        "\n"
      ],
      "metadata": {
        "id": "WVMvQnURf_yt"
      }
    },
    {
      "cell_type": "code",
      "source": [
        "#valid key (immutable)\n",
        "#using a tuple as a key\n",
        "data = {(1,2,3):\"integers\"}\n",
        "data"
      ],
      "metadata": {
        "colab": {
          "base_uri": "https://localhost:8080/"
        },
        "id": "8Mh_XV1Gg_NJ",
        "outputId": "4b5dba3a-6447-4b7b-f465-c1f5a7b0fe2e"
      },
      "execution_count": 66,
      "outputs": [
        {
          "output_type": "execute_result",
          "data": {
            "text/plain": [
              "{(1, 2, 3): 'integers'}"
            ]
          },
          "metadata": {},
          "execution_count": 66
        }
      ]
    },
    {
      "cell_type": "code",
      "source": [
        "data[(1,2,3)]"
      ],
      "metadata": {
        "colab": {
          "base_uri": "https://localhost:8080/",
          "height": 36
        },
        "id": "5819kKjdhID8",
        "outputId": "5632bca3-638d-415f-fc20-609fa4323973"
      },
      "execution_count": 67,
      "outputs": [
        {
          "output_type": "execute_result",
          "data": {
            "text/plain": [
              "'integers'"
            ],
            "application/vnd.google.colaboratory.intrinsic+json": {
              "type": "string"
            }
          },
          "metadata": {},
          "execution_count": 67
        }
      ]
    },
    {
      "cell_type": "code",
      "source": [
        "#invalid key\n",
        "#using a list as key\n",
        "data = {[1,2,3]:\"integers\"}\n",
        "data"
      ],
      "metadata": {
        "colab": {
          "base_uri": "https://localhost:8080/",
          "height": 193
        },
        "id": "cCartbe-hKM0",
        "outputId": "a4d9d6c8-c59c-4f9e-ace2-9b96f749a94e"
      },
      "execution_count": 68,
      "outputs": [
        {
          "output_type": "error",
          "ename": "TypeError",
          "evalue": "unhashable type: 'list'",
          "traceback": [
            "\u001b[0;31m---------------------------------------------------------------------------\u001b[0m",
            "\u001b[0;31mTypeError\u001b[0m                                 Traceback (most recent call last)",
            "\u001b[0;32m<ipython-input-68-a82923925966>\u001b[0m in \u001b[0;36m<cell line: 3>\u001b[0;34m()\u001b[0m\n\u001b[1;32m      1\u001b[0m \u001b[0;31m#invalid key\u001b[0m\u001b[0;34m\u001b[0m\u001b[0;34m\u001b[0m\u001b[0m\n\u001b[1;32m      2\u001b[0m \u001b[0;31m#using a list as key\u001b[0m\u001b[0;34m\u001b[0m\u001b[0;34m\u001b[0m\u001b[0m\n\u001b[0;32m----> 3\u001b[0;31m \u001b[0mdata\u001b[0m \u001b[0;34m=\u001b[0m \u001b[0;34m{\u001b[0m\u001b[0;34m[\u001b[0m\u001b[0;36m1\u001b[0m\u001b[0;34m,\u001b[0m\u001b[0;36m2\u001b[0m\u001b[0;34m,\u001b[0m\u001b[0;36m3\u001b[0m\u001b[0;34m]\u001b[0m\u001b[0;34m:\u001b[0m\u001b[0;34m\"integers\"\u001b[0m\u001b[0;34m}\u001b[0m\u001b[0;34m\u001b[0m\u001b[0;34m\u001b[0m\u001b[0m\n\u001b[0m\u001b[1;32m      4\u001b[0m \u001b[0mdata\u001b[0m\u001b[0;34m\u001b[0m\u001b[0;34m\u001b[0m\u001b[0m\n",
            "\u001b[0;31mTypeError\u001b[0m: unhashable type: 'list'"
          ]
        }
      ]
    }
  ]
}