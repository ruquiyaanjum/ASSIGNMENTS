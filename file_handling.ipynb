{
  "nbformat": 4,
  "nbformat_minor": 0,
  "metadata": {
    "colab": {
      "provenance": [],
      "authorship_tag": "ABX9TyONv0Q3YKfUeaPs7dQDS9oT",
      "include_colab_link": true
    },
    "kernelspec": {
      "name": "python3",
      "display_name": "Python 3"
    },
    "language_info": {
      "name": "python"
    }
  },
  "cells": [
    {
      "cell_type": "markdown",
      "metadata": {
        "id": "view-in-github",
        "colab_type": "text"
      },
      "source": [
        "<a href=\"https://colab.research.google.com/github/ruquiyaanjum/ASSIGNMENTS/blob/main/file_handling.ipynb\" target=\"_parent\"><img src=\"https://colab.research.google.com/assets/colab-badge.svg\" alt=\"Open In Colab\"/></a>"
      ]
    },
    {
      "cell_type": "markdown",
      "source": [
        "**1. Task: Create a new text file and write a few lines of text into it?**"
      ],
      "metadata": {
        "id": "qKAfMCaZqolF"
      }
    },
    {
      "cell_type": "code",
      "source": [
        "#create and write a data to file\n",
        "with open(\"data.txt\",\"w\") as f:\n",
        "  f.write(\"this is first line\\n\") #writing into text file\n",
        "  f.write(\"this is second line\\n\")\n",
        "  f.write(\"this is third line\\n\")\n",
        "print(\"file creates  and written successfully\") #file created and added data to that file"
      ],
      "metadata": {
        "colab": {
          "base_uri": "https://localhost:8080/"
        },
        "id": "HgtkdXri4UwA",
        "outputId": "a493ac38-d747-4c75-b073-da3c452bccbe"
      },
      "execution_count": 1,
      "outputs": [
        {
          "output_type": "stream",
          "name": "stdout",
          "text": [
            "file creates  and written successfully\n"
          ]
        }
      ]
    },
    {
      "cell_type": "markdown",
      "source": [
        "**2.Task: Open and read the contents of the file you just created**"
      ],
      "metadata": {
        "id": "bJ8QBbn75O3a"
      }
    },
    {
      "cell_type": "code",
      "source": [
        "with open(\"data.txt\") as f: #by default it is in read mode\n",
        "   content = f.read()  #reading the whole data\n",
        "   print(content)"
      ],
      "metadata": {
        "colab": {
          "base_uri": "https://localhost:8080/"
        },
        "id": "qI5Hyh-05Cm5",
        "outputId": "2ebeef73-1de3-4e1c-f6b0-92c9b7ceea7f"
      },
      "execution_count": 2,
      "outputs": [
        {
          "output_type": "stream",
          "name": "stdout",
          "text": [
            "this is first line\n",
            "this is second line\n",
            "this is third line\n",
            "\n"
          ]
        }
      ]
    },
    {
      "cell_type": "markdown",
      "source": [
        "**3.Task: Add additional text to the existing file without deleting the current content**"
      ],
      "metadata": {
        "id": "lNqEUru051fz"
      }
    },
    {
      "cell_type": "code",
      "source": [
        "with open(\"data.txt\",\"a\") as f: #open the file in append mode\n",
        "  f.write(\"Added new text without deleting old one\\n\") #added text to existing data in file\n",
        "print(\"Text Added Successfully\")"
      ],
      "metadata": {
        "colab": {
          "base_uri": "https://localhost:8080/"
        },
        "id": "JV-AsFKX5tvJ",
        "outputId": "0a9376c4-5d37-4a53-cb45-a901fbef97f7"
      },
      "execution_count": 3,
      "outputs": [
        {
          "output_type": "stream",
          "name": "stdout",
          "text": [
            "Text Added Successfully\n"
          ]
        }
      ]
    },
    {
      "cell_type": "markdown",
      "source": [
        "**4.Task: Read and print each line from the file one by one?**"
      ],
      "metadata": {
        "id": "LR7DA5Ip6Tl3"
      }
    },
    {
      "cell_type": "code",
      "source": [
        "with open(\"data.txt\") as f: #open the file in read mode\n",
        "  for i in f: #reading and writing in a file\n",
        "    print(i,end=\"\") #printing the data from the file , using end=\"\" to prevent adding extra lines"
      ],
      "metadata": {
        "colab": {
          "base_uri": "https://localhost:8080/"
        },
        "id": "fJvDKZmr6Osg",
        "outputId": "def337b3-a3cd-40f7-a0ab-c3452ca355d5"
      },
      "execution_count": 4,
      "outputs": [
        {
          "output_type": "stream",
          "name": "stdout",
          "text": [
            "this is first line\n",
            "this is second line\n",
            "this is third line\n",
            "Added new text without deleting old one\n"
          ]
        }
      ]
    },
    {
      "cell_type": "markdown",
      "source": [
        "**5.Task: Write the contents of a list to a file, with each item on a new line?**"
      ],
      "metadata": {
        "id": "ap8-82WM7LRK"
      }
    },
    {
      "cell_type": "code",
      "source": [
        "#list of items\n",
        "my_list = [\"apple\",\"bannana\",\"orange\"]\n",
        "#open the file in write mode\n",
        "with open(\"data.txt\",\"w\") as f:\n",
        "  for i in my_list:\n",
        "    f.write(i+\"\\n\")\n",
        "print(\"List written to the File\")"
      ],
      "metadata": {
        "colab": {
          "base_uri": "https://localhost:8080/"
        },
        "id": "ez6sV6Mm6jVx",
        "outputId": "cee334af-4549-422a-caca-86723bb6639d"
      },
      "execution_count": 5,
      "outputs": [
        {
          "output_type": "stream",
          "name": "stdout",
          "text": [
            "List written to the File\n"
          ]
        }
      ]
    },
    {
      "cell_type": "markdown",
      "source": [
        "**6.Task: Read the file content into a list, where each line is an element of the list?**"
      ],
      "metadata": {
        "id": "13jwGgXZ71Jd"
      }
    },
    {
      "cell_type": "code",
      "source": [
        "with open(\"data.txt\",\"r\") as f: #open a file in read mode\n",
        "      #read all the data and store in list\n",
        "      data = f.readlines()\n",
        "print(data) #containg data in list"
      ],
      "metadata": {
        "colab": {
          "base_uri": "https://localhost:8080/"
        },
        "id": "GDaxwaiO7uK3",
        "outputId": "f0ec7e50-0db8-4257-f9ed-1ddd83081200"
      },
      "execution_count": 6,
      "outputs": [
        {
          "output_type": "stream",
          "name": "stdout",
          "text": [
            "['apple\\n', 'bannana\\n', 'orange\\n']\n"
          ]
        }
      ]
    },
    {
      "cell_type": "markdown",
      "source": [
        "**7.Task: Count the total number of words in the file?**"
      ],
      "metadata": {
        "id": "4IB7UAZ68UTx"
      }
    },
    {
      "cell_type": "code",
      "source": [
        "with open(\"data.txt\",\"r\") as f: #open file in read mode\n",
        "     #read the content of file\n",
        "     data = f.read()\n",
        "count = len(data.split()) #split the data into words and count them using len function\n",
        "print(f\"Total number of words: {count}\")"
      ],
      "metadata": {
        "colab": {
          "base_uri": "https://localhost:8080/"
        },
        "id": "kdAPkhxb8NOP",
        "outputId": "fab7ec40-e3e9-48f7-dba9-c9b602fd11a2"
      },
      "execution_count": 8,
      "outputs": [
        {
          "output_type": "stream",
          "name": "stdout",
          "text": [
            "Total number of words: 3\n"
          ]
        }
      ]
    },
    {
      "cell_type": "markdown",
      "source": [
        "**8.Task:Copy the contents of one file to another file? **"
      ],
      "metadata": {
        "id": "YHOmPBGJ9n34"
      }
    },
    {
      "cell_type": "code",
      "source": [
        "with open(\"data.txt\",\"r\") as src: #open file in read mode\n",
        "  content=src.read() #read whole data\n",
        "with open(\"data_new.txt\",\"w\") as dest: #open file in write mode\n",
        "  dest.write(content) #write content to new file\n",
        "print(\"Content Copied\") #hence copied all data to new file."
      ],
      "metadata": {
        "colab": {
          "base_uri": "https://localhost:8080/"
        },
        "id": "JvAbiZNM9Ksb",
        "outputId": "21903dfb-3095-4a78-f224-dda073aec7eb"
      },
      "execution_count": 9,
      "outputs": [
        {
          "output_type": "stream",
          "name": "stdout",
          "text": [
            "Content Copied\n"
          ]
        }
      ]
    },
    {
      "cell_type": "markdown",
      "source": [
        "**9.Task: Check if a file exists before attempting to read it?**"
      ],
      "metadata": {
        "id": "pJvDUysZ-a7f"
      }
    },
    {
      "cell_type": "code",
      "source": [
        "import os #importing module operating system\n",
        "if os.path.exists(\"data.txt\"): #checking the file exists or not\n",
        "  with open(\"data.txt\",\"r\") as f: #opening the file in read mode\n",
        "    content = f.read() #reading the content of file\n",
        "  print(content) #printing the content\n",
        "else:\n",
        "  print(\"File does not Exists\") #file not found in particular path"
      ],
      "metadata": {
        "colab": {
          "base_uri": "https://localhost:8080/"
        },
        "id": "ei3igVE7-LLD",
        "outputId": "8f82c09c-1f11-490b-b997-b47e32f4ec5a"
      },
      "execution_count": 10,
      "outputs": [
        {
          "output_type": "stream",
          "name": "stdout",
          "text": [
            "apple\n",
            "bannana\n",
            "orange\n",
            "\n"
          ]
        }
      ]
    },
    {
      "cell_type": "markdown",
      "source": [
        "**10.Task: Delete a file using Python.**"
      ],
      "metadata": {
        "id": "cht93qSq-hCA"
      }
    },
    {
      "cell_type": "code",
      "source": [
        "import os\n",
        "#check if file exists or not\n",
        "if os.path.exists(\"data_new.txt\"):\n",
        "  os.remove(\"data_new.txt\")\n",
        "  print(\"file deleted successfully\")\n",
        "else:\n",
        "  print(\"file not found\")"
      ],
      "metadata": {
        "colab": {
          "base_uri": "https://localhost:8080/"
        },
        "id": "qMtkLgaZ_TcA",
        "outputId": "1d54efeb-3bc4-4032-c6b7-e7eba139adc1"
      },
      "execution_count": 11,
      "outputs": [
        {
          "output_type": "stream",
          "name": "stdout",
          "text": [
            "file deleted successfully\n"
          ]
        }
      ]
    },
    {
      "cell_type": "code",
      "source": [],
      "metadata": {
        "id": "vcaiMwN4_kkU"
      },
      "execution_count": null,
      "outputs": []
    }
  ]
}