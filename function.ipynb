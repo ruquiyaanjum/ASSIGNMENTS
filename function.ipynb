{
  "nbformat": 4,
  "nbformat_minor": 0,
  "metadata": {
    "colab": {
      "provenance": [],
      "authorship_tag": "ABX9TyMIfzvbRt3KFORdSlScCDsw",
      "include_colab_link": true
    },
    "kernelspec": {
      "name": "python3",
      "display_name": "Python 3"
    },
    "language_info": {
      "name": "python"
    }
  },
  "cells": [
    {
      "cell_type": "markdown",
      "metadata": {
        "id": "view-in-github",
        "colab_type": "text"
      },
      "source": [
        "<a href=\"https://colab.research.google.com/github/ruquiyaanjum/ASSIGNMENTS/blob/main/function.ipynb\" target=\"_parent\"><img src=\"https://colab.research.google.com/assets/colab-badge.svg\" alt=\"Open In Colab\"/></a>"
      ]
    },
    {
      "cell_type": "markdown",
      "source": [
        "**Function Assignment**\n",
        "\n",
        "\n",
        "**Theory Questions:**\n",
        "\n",
        "\n",
        "\n",
        "\n"
      ],
      "metadata": {
        "id": "pTxQe2y3BULj"
      }
    },
    {
      "cell_type": "markdown",
      "source": [
        "**1. What is the difference between a function and a method in Python?**"
      ],
      "metadata": {
        "id": "s8yXZUUtBhU7"
      }
    },
    {
      "cell_type": "code",
      "source": [
        "\"\"\"\n",
        "Function (works on its own, like greet()):\n",
        "           function is a block of code which is used to perform some specific task.\n",
        "           it is defined using def keyword and it is not attach to anything.\n",
        "\n",
        "Method (works on object, like my_list.append()):\n",
        "           Method is like function but it is part of an object like list or string.\n",
        "\"\"\"\n",
        "#function example\n",
        "def greet():\n",
        "  return \"welcome to function\"\n",
        "greet()"
      ],
      "metadata": {
        "colab": {
          "base_uri": "https://localhost:8080/",
          "height": 36
        },
        "id": "0ZpFQSQ-B09Z",
        "outputId": "04f069a9-3b29-4eb4-97b5-46d4959db46a"
      },
      "execution_count": null,
      "outputs": [
        {
          "output_type": "execute_result",
          "data": {
            "text/plain": [
              "'welcome to function'"
            ],
            "application/vnd.google.colaboratory.intrinsic+json": {
              "type": "string"
            }
          },
          "metadata": {},
          "execution_count": 1
        }
      ]
    },
    {
      "cell_type": "code",
      "source": [
        "#method example\n",
        "my_list = [1,2,3,4]\n",
        "my_list.append(5)\n",
        "my_list"
      ],
      "metadata": {
        "colab": {
          "base_uri": "https://localhost:8080/"
        },
        "id": "Cnm9_neUD8A4",
        "outputId": "a81453d6-f60b-479c-f160-361c41b11efb"
      },
      "execution_count": null,
      "outputs": [
        {
          "output_type": "execute_result",
          "data": {
            "text/plain": [
              "[1, 2, 3, 4, 5]"
            ]
          },
          "metadata": {},
          "execution_count": 2
        }
      ]
    },
    {
      "cell_type": "markdown",
      "source": [
        "**2. Explain the concept of function arguments and parameters in Python?**"
      ],
      "metadata": {
        "id": "U-zP4nH9EsBN"
      }
    },
    {
      "cell_type": "code",
      "source": [
        "\"\"\"\n",
        "Parameters : A name you give inside a function to recieve a value.\n",
        "             Is a placeholder used in a function definition.\n",
        "             ex: def greet(name) -- name is parameters.\n",
        "\n",
        "Arguments : A actual value you send when you call the function.\n",
        "            real values give to placeholder when you  call function.\n",
        "            ex: greet(\"ajay\")\n",
        "\"\"\"\n",
        "#parameters and argument example\n",
        "\n",
        "def add(a, b): #a,b are parameters\n",
        "  return a+b\n",
        "result = add(2, 3) #2,3 are arguments(real values)\n",
        "result"
      ],
      "metadata": {
        "colab": {
          "base_uri": "https://localhost:8080/"
        },
        "id": "2MP7uT8XEkso",
        "outputId": "18e21bab-3c4b-4fcb-8f75-f701db78eb6c"
      },
      "execution_count": null,
      "outputs": [
        {
          "output_type": "execute_result",
          "data": {
            "text/plain": [
              "5"
            ]
          },
          "metadata": {},
          "execution_count": 4
        }
      ]
    },
    {
      "cell_type": "markdown",
      "source": [
        "**3. What are the different ways to define and call a function in Python?**"
      ],
      "metadata": {
        "id": "jnHIXhLGHCIN"
      }
    },
    {
      "cell_type": "code",
      "source": [
        "#Different ways to define and call function in python :\n",
        "\n",
        "#1. Normal function : use def to create function and use function name to call.\n",
        "#ex: normal function\n",
        "\n",
        "def greet(): #define function\n",
        "  print(\"this is my normal function\")\n",
        "greet()  #call a function"
      ],
      "metadata": {
        "colab": {
          "base_uri": "https://localhost:8080/"
        },
        "id": "5eM5tmN7G7Gh",
        "outputId": "da4f0dde-ed49-4aa3-fae6-8190d4fb3a9b"
      },
      "execution_count": null,
      "outputs": [
        {
          "output_type": "stream",
          "name": "stdout",
          "text": [
            "this is my normal function\n"
          ]
        }
      ]
    },
    {
      "cell_type": "code",
      "source": [
        "#2. Function with parameters : creating a function with parameters inside placeholder while defining a function.\n",
        "#ex: function with parameter\n",
        "\n",
        "def greet(name): #defining a function with parameters\n",
        "  print(\"this is function with \",name)\n",
        "greet(\"parameter\") #sending value with arguments"
      ],
      "metadata": {
        "colab": {
          "base_uri": "https://localhost:8080/"
        },
        "id": "2vnwSZ03IbMa",
        "outputId": "bd3d58e5-5d4b-480d-beb6-7f76cee75743"
      },
      "execution_count": null,
      "outputs": [
        {
          "output_type": "stream",
          "name": "stdout",
          "text": [
            "this is function with  parameter\n"
          ]
        }
      ]
    },
    {
      "cell_type": "code",
      "source": [
        "#3. Function with return value : instead of using print, we can use return statement, which return same return type.\n",
        "#if we use print() which returns Nonetype..\n",
        "#ex: function with return value\n",
        "\n",
        "def add(a, b):\n",
        "  return a+b\n",
        "result = add(2,3)\n",
        "result\n",
        "\n"
      ],
      "metadata": {
        "colab": {
          "base_uri": "https://localhost:8080/"
        },
        "id": "N6C58zKLJK5b",
        "outputId": "dd52aa91-4092-4952-ee07-2c00e82d7fcb"
      },
      "execution_count": null,
      "outputs": [
        {
          "output_type": "execute_result",
          "data": {
            "text/plain": [
              "5"
            ]
          },
          "metadata": {},
          "execution_count": 9
        }
      ]
    },
    {
      "cell_type": "code",
      "source": [
        "#4. lambda function : small function without name, anonymous function , one line function.\n",
        "#ex: lambda function\n",
        "\n",
        "multiply = lambda x,y:x*y\n",
        "multiply(2,2)\n"
      ],
      "metadata": {
        "colab": {
          "base_uri": "https://localhost:8080/"
        },
        "id": "mPQUc8asKLQ7",
        "outputId": "fba848e2-0614-4393-97f0-869cbc852846"
      },
      "execution_count": null,
      "outputs": [
        {
          "output_type": "execute_result",
          "data": {
            "text/plain": [
              "4"
            ]
          },
          "metadata": {},
          "execution_count": 10
        }
      ]
    },
    {
      "cell_type": "markdown",
      "source": [
        "**4. What is the purpose of the `return` statement in a Python function?**"
      ],
      "metadata": {
        "id": "T_-L3QlLK1_h"
      }
    },
    {
      "cell_type": "code",
      "source": [
        "\"\"\"\n",
        "return statement : store the result in memory and send it in one go using return statement (terminates execution).\n",
        "                   return statement return same data type, give back result from function.\n",
        "                   the return statement in a python function is used to give back a value from the function.\n",
        "                   return = \"Here is your result!\"\n",
        "                   It ends the function and gives back the value you want.\n",
        "\"\"\"\n",
        "def add(a, b):\n",
        "  return a+b # gives back the result\n",
        "\n",
        "result = add(2,3) # get the result\n",
        "result"
      ],
      "metadata": {
        "colab": {
          "base_uri": "https://localhost:8080/"
        },
        "id": "AAAw005LKl6T",
        "outputId": "0743b96d-31d3-4f1b-d044-40767cee1738"
      },
      "execution_count": null,
      "outputs": [
        {
          "output_type": "execute_result",
          "data": {
            "text/plain": [
              "5"
            ]
          },
          "metadata": {},
          "execution_count": 11
        }
      ]
    },
    {
      "cell_type": "markdown",
      "source": [
        "**5. What are iterators in Python and how do they differ from iterables?**"
      ],
      "metadata": {
        "id": "0QhOFt_4PBOd"
      }
    },
    {
      "cell_type": "code",
      "source": [
        "\"\"\"\n",
        "Iterables : Is something that you can  loop through  like list, string, tuples.\n",
        "            A list ([1,2,3]) is an iterable, you can loop through using for loop.\n",
        "            sequence one at a time. {iterables -- convert to iter and then next}\n",
        "\n",
        "Iterator : is an object that keeps track of current position in sequence and give you one data at a time.\n",
        "           it is like pointer that move through iterables one element at a time.\n",
        "           two main abilities : __iter__() (return iterator object itself), __next__() (this fetch next item from sequence).\n",
        "\"\"\"\n",
        "#example of iterable\n",
        "my_list = [1,2,3,4]\n",
        "for i in my_list:  #internally works iterables-iter-next, length is also known\n",
        "  print(i)\n",
        "\n",
        "#example of iterator\n",
        "my_list = [1,2,3,4]\n",
        "it = iter(my_list) #converting iterables to iterator object\n",
        "print(next(it))\n",
        "print(next(it))\n",
        "print(next(it))\n",
        "print(next(it))\n",
        "#after four times if you call next(it) get error stop iteration"
      ],
      "metadata": {
        "id": "y_RA25edOwfj",
        "colab": {
          "base_uri": "https://localhost:8080/"
        },
        "outputId": "5544f8ca-afbc-48b2-f34c-5afa53a2992b"
      },
      "execution_count": 3,
      "outputs": [
        {
          "output_type": "stream",
          "name": "stdout",
          "text": [
            "1\n",
            "2\n",
            "3\n",
            "4\n",
            "1\n",
            "2\n",
            "3\n",
            "4\n"
          ]
        }
      ]
    },
    {
      "cell_type": "markdown",
      "source": [
        "**6. Explain the concept of generators in Python and how they are defined?**"
      ],
      "metadata": {
        "id": "JULRGjhiubi4"
      }
    },
    {
      "cell_type": "code",
      "source": [
        "\"\"\"\n",
        "generator function : generates a data one by one without holding data to a memory.\n",
        "                     reduces memory usage (memory efficient), uses yield keyword (creating a generator) instead of return statement (terminates execution).\n",
        "                     yield - pause and return the item.\n",
        "                     this is useful when you have lot of data, It is  like a lazy loop that only gives the next value when you need it.\n",
        "\"\"\"\n",
        "#example of generator function\n",
        "def fib(n):\n",
        "  a=0\n",
        "  b=1\n",
        "  for i in range(n):\n",
        "    yield a #give one value and pause\n",
        "    a,b=b,a+b\n",
        "fibonacci_series = fib(10) #create generator\n",
        "print(next(fibonacci_series))\n",
        "print(next(fibonacci_series))\n",
        "print(next(fibonacci_series))\n",
        "\n",
        "for i in fibonacci_series:\n",
        "  print(i,end=\" \")"
      ],
      "metadata": {
        "colab": {
          "base_uri": "https://localhost:8080/"
        },
        "id": "nDxLS_kkr9pQ",
        "outputId": "07a972c6-c2f0-4f09-ead6-86bb0a6af3de"
      },
      "execution_count": 7,
      "outputs": [
        {
          "output_type": "stream",
          "name": "stdout",
          "text": [
            "0\n",
            "1\n",
            "1\n",
            "2 3 5 8 13 21 34 "
          ]
        }
      ]
    },
    {
      "cell_type": "markdown",
      "source": [
        "**7. What are the advantages of using generators over regular functions?**"
      ],
      "metadata": {
        "id": "jVuBO17QxLa-"
      }
    },
    {
      "cell_type": "code",
      "source": [
        "\"\"\"\n",
        "Advantages of using generators over regular function:\n",
        "  Generator Function - generates a data one by one without holding data to memory, reduces memory usage\n",
        "                       uses yield keyword (creating generator-pause and return)\n",
        "\n",
        "  Regular Function - holds data to memory and return it in one go using return statement, more memory usage\n",
        "                     uses return statement (terminate executes) in one go it will return (stores the data).\n",
        "\n",
        "  1. saves memory :\n",
        "          * generator only give data one at a time, so they dont use lot of memory.\n",
        "          * regular function gives all the value at once and takes more memory space.\n",
        "\n",
        "  2. faster with larger data :\n",
        "          * generator start giving data immediately even with larger data.\n",
        "          * regular function need to prepare everything before they give any value, which takes a time.\n",
        "\n",
        "  3. handle infinite sequence :\n",
        "          * generator keep giving values without crashing because they wont store everything at once.\n",
        "          * regular function would crash if they tried to give infinite values\n",
        "\"\"\"\n",
        "#example of regular function\n",
        "def numbers(n):\n",
        "  a=[]\n",
        "  for i in range(1,n+1):\n",
        "    a.append(i)\n",
        "  return a\n",
        "result = numbers(5)\n",
        "print(result)  #return at once and terminate execution.\n",
        "\n",
        "#example of generator funcion\n",
        "def numbers(n):\n",
        "  for i in range(1,n+1):\n",
        "    yield i   #pause and return , does not store any value, give one value at a time.\n",
        "a = numbers(5)\n",
        "print(next(a))\n",
        "for i in a:\n",
        "  print(i,end=\" \")\n"
      ],
      "metadata": {
        "colab": {
          "base_uri": "https://localhost:8080/"
        },
        "id": "heHvje5TwjAp",
        "outputId": "3487a55e-a65f-4ef9-bff2-29602dfccebe"
      },
      "execution_count": 11,
      "outputs": [
        {
          "output_type": "stream",
          "name": "stdout",
          "text": [
            "[1, 2, 3, 4, 5]\n",
            "1\n",
            "2 3 4 5 "
          ]
        }
      ]
    },
    {
      "cell_type": "markdown",
      "source": [
        "**8. What is a lambda function in Python and when is it typically used?**"
      ],
      "metadata": {
        "id": "ytDxjIBW0gIC"
      }
    },
    {
      "cell_type": "code",
      "source": [
        "\"\"\"\n",
        "lambda function :* anonymous function, small and one line function in python.\n",
        "                 * syntax : lambda arguments : expression (no need of return statement and def keyword)\n",
        "                 * it is shotcut for creating a simple function.\n",
        "                 * it can take any number of inputs but give one expression that will return.\n",
        "                 * for simple task useful there you no need to write full function.\n",
        "                 * with function like map(),filter(),lambda().\n",
        "\"\"\"\n",
        "#regular function\n",
        "def add(a, b):\n",
        "  return a + b\n",
        "\n",
        "#lambda function\n",
        "add = lambda a, b: a + b\n",
        "print(add(2, 3))"
      ],
      "metadata": {
        "colab": {
          "base_uri": "https://localhost:8080/"
        },
        "id": "d2KQaW_Mz7sU",
        "outputId": "c9aac99f-0915-4bda-f110-e943ec8ba8bd"
      },
      "execution_count": 14,
      "outputs": [
        {
          "output_type": "stream",
          "name": "stdout",
          "text": [
            "5\n"
          ]
        }
      ]
    },
    {
      "cell_type": "markdown",
      "source": [
        "**9. Explain the purpose and usage of the `map()` function in Python.**"
      ],
      "metadata": {
        "id": "PmvpxstA-37q"
      }
    },
    {
      "cell_type": "code",
      "source": [
        "\"\"\"\n",
        "The map() function lets you apply function to every  items in any iterables(like list) and get a new list of result.\n",
        "syntax: map(function, iterables) - A function you want to apply and list of data -iterables.\n",
        "purpose : to apply a function to each data in a list (or other iterable) automatically, changes each item in list using a function.\n",
        "usage: to perform a function on every item in a list without using a loop and to clean or modify data in a list in one line.\n",
        "\n",
        "\"\"\"\n",
        "#example map()\n",
        "numbers = [1,2,3,4]\n",
        "\n",
        "#using map squaring all the data\n",
        "square = map(lambda x:x**2,numbers)\n",
        "\n",
        "#convert map to list to see the result\n",
        "print(list(square))"
      ],
      "metadata": {
        "colab": {
          "base_uri": "https://localhost:8080/"
        },
        "id": "G4CFSJqi19xE",
        "outputId": "80934f17-feda-4059-dc62-c74158913df1"
      },
      "execution_count": 15,
      "outputs": [
        {
          "output_type": "stream",
          "name": "stdout",
          "text": [
            "[1, 4, 9, 16]\n"
          ]
        }
      ]
    },
    {
      "cell_type": "markdown",
      "source": [
        "**10. What is the difference between `map()`, `reduce()`, and `filter()` functions in Python?**"
      ],
      "metadata": {
        "id": "sZa4KL8jAUax"
      }
    },
    {
      "cell_type": "code",
      "source": [
        "\"\"\"\n",
        "1. map() : changes each item in list using a function.(transforms each item). The map() function lets you apply function to every  items in any iterables(like list) and get a new list of result.\n",
        "           syntax: map(function, iterables) - A function you want to apply and list of data -iterables.\n",
        "           purpose : to apply a function to each data in a list (or other iterable) automatically, changes each item in list using a function.\n",
        "           usage: to perform a function on every item in a list without using a loop and to clean or modify data in a list in one line.\n",
        "           (like doubling them).\n",
        "\n",
        "2. reduce() : combines all item in list into one single result (ex: adding all numbers).\n",
        "              import it from functools to use reduce function.\n",
        "\n",
        "3. filter() : keeps the only item that meets condition.\n",
        "              it filters the items from a list based on some condition (returns only the items that meet the condition).\n",
        "              (like even ones).\n",
        "\"\"\"\n",
        "#example map()\n",
        "numbers = [1,2,3,4]\n",
        "print(list(map(lambda x:x**2,numbers))) #sqaure of numbers using map\n",
        "\n",
        "#example reduce\n",
        "from functools import reduce\n",
        "print(reduce(lambda x,y:x+y,numbers))  #reduces list into single value\n",
        "\n",
        "#example filter\n",
        "print(list(filter(lambda x:x%2==0,numbers)))"
      ],
      "metadata": {
        "colab": {
          "base_uri": "https://localhost:8080/"
        },
        "id": "bkEMK8AYAOmx",
        "outputId": "c06c156d-a1bd-40a5-8746-97e70e8f2be2"
      },
      "execution_count": 17,
      "outputs": [
        {
          "output_type": "stream",
          "name": "stdout",
          "text": [
            "[1, 4, 9, 16]\n",
            "10\n",
            "[2, 4]\n"
          ]
        }
      ]
    },
    {
      "cell_type": "markdown",
      "source": [
        "**11. Using pen & Paper write the internal mechanism for sum operation using  reduce function on this given**\n",
        "list:[47,11,42,13];  "
      ],
      "metadata": {
        "id": "7TTHAgJTCh-0"
      }
    },
    {
      "cell_type": "code",
      "source": [
        "from google.colab import files\n",
        "from IPython.display import Image\n",
        "uploaded = files.upload()"
      ],
      "metadata": {
        "colab": {
          "base_uri": "https://localhost:8080/",
          "height": 73
        },
        "id": "cCZW_s0CCPwq",
        "outputId": "9dbee611-1420-44c3-ace4-101b23b45d27"
      },
      "execution_count": 20,
      "outputs": [
        {
          "output_type": "display_data",
          "data": {
            "text/plain": [
              "<IPython.core.display.HTML object>"
            ],
            "text/html": [
              "\n",
              "     <input type=\"file\" id=\"files-80e0c430-66d0-4bd6-9bc6-6d2d38a5912c\" name=\"files[]\" multiple disabled\n",
              "        style=\"border:none\" />\n",
              "     <output id=\"result-80e0c430-66d0-4bd6-9bc6-6d2d38a5912c\">\n",
              "      Upload widget is only available when the cell has been executed in the\n",
              "      current browser session. Please rerun this cell to enable.\n",
              "      </output>\n",
              "      <script>// Copyright 2017 Google LLC\n",
              "//\n",
              "// Licensed under the Apache License, Version 2.0 (the \"License\");\n",
              "// you may not use this file except in compliance with the License.\n",
              "// You may obtain a copy of the License at\n",
              "//\n",
              "//      http://www.apache.org/licenses/LICENSE-2.0\n",
              "//\n",
              "// Unless required by applicable law or agreed to in writing, software\n",
              "// distributed under the License is distributed on an \"AS IS\" BASIS,\n",
              "// WITHOUT WARRANTIES OR CONDITIONS OF ANY KIND, either express or implied.\n",
              "// See the License for the specific language governing permissions and\n",
              "// limitations under the License.\n",
              "\n",
              "/**\n",
              " * @fileoverview Helpers for google.colab Python module.\n",
              " */\n",
              "(function(scope) {\n",
              "function span(text, styleAttributes = {}) {\n",
              "  const element = document.createElement('span');\n",
              "  element.textContent = text;\n",
              "  for (const key of Object.keys(styleAttributes)) {\n",
              "    element.style[key] = styleAttributes[key];\n",
              "  }\n",
              "  return element;\n",
              "}\n",
              "\n",
              "// Max number of bytes which will be uploaded at a time.\n",
              "const MAX_PAYLOAD_SIZE = 100 * 1024;\n",
              "\n",
              "function _uploadFiles(inputId, outputId) {\n",
              "  const steps = uploadFilesStep(inputId, outputId);\n",
              "  const outputElement = document.getElementById(outputId);\n",
              "  // Cache steps on the outputElement to make it available for the next call\n",
              "  // to uploadFilesContinue from Python.\n",
              "  outputElement.steps = steps;\n",
              "\n",
              "  return _uploadFilesContinue(outputId);\n",
              "}\n",
              "\n",
              "// This is roughly an async generator (not supported in the browser yet),\n",
              "// where there are multiple asynchronous steps and the Python side is going\n",
              "// to poll for completion of each step.\n",
              "// This uses a Promise to block the python side on completion of each step,\n",
              "// then passes the result of the previous step as the input to the next step.\n",
              "function _uploadFilesContinue(outputId) {\n",
              "  const outputElement = document.getElementById(outputId);\n",
              "  const steps = outputElement.steps;\n",
              "\n",
              "  const next = steps.next(outputElement.lastPromiseValue);\n",
              "  return Promise.resolve(next.value.promise).then((value) => {\n",
              "    // Cache the last promise value to make it available to the next\n",
              "    // step of the generator.\n",
              "    outputElement.lastPromiseValue = value;\n",
              "    return next.value.response;\n",
              "  });\n",
              "}\n",
              "\n",
              "/**\n",
              " * Generator function which is called between each async step of the upload\n",
              " * process.\n",
              " * @param {string} inputId Element ID of the input file picker element.\n",
              " * @param {string} outputId Element ID of the output display.\n",
              " * @return {!Iterable<!Object>} Iterable of next steps.\n",
              " */\n",
              "function* uploadFilesStep(inputId, outputId) {\n",
              "  const inputElement = document.getElementById(inputId);\n",
              "  inputElement.disabled = false;\n",
              "\n",
              "  const outputElement = document.getElementById(outputId);\n",
              "  outputElement.innerHTML = '';\n",
              "\n",
              "  const pickedPromise = new Promise((resolve) => {\n",
              "    inputElement.addEventListener('change', (e) => {\n",
              "      resolve(e.target.files);\n",
              "    });\n",
              "  });\n",
              "\n",
              "  const cancel = document.createElement('button');\n",
              "  inputElement.parentElement.appendChild(cancel);\n",
              "  cancel.textContent = 'Cancel upload';\n",
              "  const cancelPromise = new Promise((resolve) => {\n",
              "    cancel.onclick = () => {\n",
              "      resolve(null);\n",
              "    };\n",
              "  });\n",
              "\n",
              "  // Wait for the user to pick the files.\n",
              "  const files = yield {\n",
              "    promise: Promise.race([pickedPromise, cancelPromise]),\n",
              "    response: {\n",
              "      action: 'starting',\n",
              "    }\n",
              "  };\n",
              "\n",
              "  cancel.remove();\n",
              "\n",
              "  // Disable the input element since further picks are not allowed.\n",
              "  inputElement.disabled = true;\n",
              "\n",
              "  if (!files) {\n",
              "    return {\n",
              "      response: {\n",
              "        action: 'complete',\n",
              "      }\n",
              "    };\n",
              "  }\n",
              "\n",
              "  for (const file of files) {\n",
              "    const li = document.createElement('li');\n",
              "    li.append(span(file.name, {fontWeight: 'bold'}));\n",
              "    li.append(span(\n",
              "        `(${file.type || 'n/a'}) - ${file.size} bytes, ` +\n",
              "        `last modified: ${\n",
              "            file.lastModifiedDate ? file.lastModifiedDate.toLocaleDateString() :\n",
              "                                    'n/a'} - `));\n",
              "    const percent = span('0% done');\n",
              "    li.appendChild(percent);\n",
              "\n",
              "    outputElement.appendChild(li);\n",
              "\n",
              "    const fileDataPromise = new Promise((resolve) => {\n",
              "      const reader = new FileReader();\n",
              "      reader.onload = (e) => {\n",
              "        resolve(e.target.result);\n",
              "      };\n",
              "      reader.readAsArrayBuffer(file);\n",
              "    });\n",
              "    // Wait for the data to be ready.\n",
              "    let fileData = yield {\n",
              "      promise: fileDataPromise,\n",
              "      response: {\n",
              "        action: 'continue',\n",
              "      }\n",
              "    };\n",
              "\n",
              "    // Use a chunked sending to avoid message size limits. See b/62115660.\n",
              "    let position = 0;\n",
              "    do {\n",
              "      const length = Math.min(fileData.byteLength - position, MAX_PAYLOAD_SIZE);\n",
              "      const chunk = new Uint8Array(fileData, position, length);\n",
              "      position += length;\n",
              "\n",
              "      const base64 = btoa(String.fromCharCode.apply(null, chunk));\n",
              "      yield {\n",
              "        response: {\n",
              "          action: 'append',\n",
              "          file: file.name,\n",
              "          data: base64,\n",
              "        },\n",
              "      };\n",
              "\n",
              "      let percentDone = fileData.byteLength === 0 ?\n",
              "          100 :\n",
              "          Math.round((position / fileData.byteLength) * 100);\n",
              "      percent.textContent = `${percentDone}% done`;\n",
              "\n",
              "    } while (position < fileData.byteLength);\n",
              "  }\n",
              "\n",
              "  // All done.\n",
              "  yield {\n",
              "    response: {\n",
              "      action: 'complete',\n",
              "    }\n",
              "  };\n",
              "}\n",
              "\n",
              "scope.google = scope.google || {};\n",
              "scope.google.colab = scope.google.colab || {};\n",
              "scope.google.colab._files = {\n",
              "  _uploadFiles,\n",
              "  _uploadFilesContinue,\n",
              "};\n",
              "})(self);\n",
              "</script> "
            ]
          },
          "metadata": {}
        },
        {
          "output_type": "stream",
          "name": "stdout",
          "text": [
            "Saving reduce.jpg to reduce.jpg\n"
          ]
        }
      ]
    },
    {
      "cell_type": "code",
      "source": [
        "Image(\"reduce.jpg\",width=600)"
      ],
      "metadata": {
        "colab": {
          "base_uri": "https://localhost:8080/",
          "height": 527
        },
        "id": "dnEDE06AFjdj",
        "outputId": "14b501b0-5c91-410a-9f34-d95d94a6163f"
      },
      "execution_count": 25,
      "outputs": [
        {
          "output_type": "execute_result",
          "data": {
            "image/jpeg": "[encoded data removed]",
            "text/plain": [
              "<IPython.core.display.Image object>"
            ]
          },
          "metadata": {
            "image/jpeg": {
              "width": 600
            }
          },
          "execution_count": 25
        }
      ]
    },
    {
      "cell_type": "markdown",
      "source": [
        "**Practical Questions:**\n",
        "1. Write a Python function that takes a list of numbers as input and returns the sum of all even numbers in\n",
        "the list?"
      ],
      "metadata": {
        "id": "_wODjCYZGcU2"
      }
    },
    {
      "cell_type": "code",
      "source": [
        "def sum_even_num(l):\n",
        "  #initialize to zero\n",
        "  total = 0\n",
        "  #looping through the list\n",
        "  for i in l:\n",
        "    #check even number\n",
        "    if i%2 == 0 :\n",
        "\n",
        "      total += i\n",
        "  return total\n",
        "\n",
        "#list of data\n",
        "l = [1,2,3,4]\n",
        "\n",
        "#calling the function\n",
        "print(sum_even_num(l)) #adding 2+4 =6"
      ],
      "metadata": {
        "colab": {
          "base_uri": "https://localhost:8080/"
        },
        "id": "apAuAzg3G2j6",
        "outputId": "d79e7cc4-9f79-49e1-bcbc-b73d4ed9309c"
      },
      "execution_count": 26,
      "outputs": [
        {
          "output_type": "execute_result",
          "data": {
            "text/plain": [
              "6"
            ]
          },
          "metadata": {},
          "execution_count": 26
        }
      ]
    },
    {
      "cell_type": "markdown",
      "source": [
        "**2. Create a Python function that accepts a string and returns the reverse of that string.**"
      ],
      "metadata": {
        "id": "oswNefBFJIdh"
      }
    },
    {
      "cell_type": "code",
      "source": [
        "def reverse_string(s):\n",
        "  return s[::-1] #reverse a string using slicing, it start at end of string and move backwards.\n",
        "\n",
        "result = reverse_string(\"hello\")\n",
        "print(result)"
      ],
      "metadata": {
        "colab": {
          "base_uri": "https://localhost:8080/"
        },
        "id": "CPIeCKcqI0lC",
        "outputId": "40252af4-f982-4095-984a-b151e7b17145"
      },
      "execution_count": 27,
      "outputs": [
        {
          "output_type": "stream",
          "name": "stdout",
          "text": [
            "olleh\n"
          ]
        }
      ]
    },
    {
      "cell_type": "markdown",
      "source": [
        "**3. Implement a Python function that takes a list of integers and returns a new list containing the squares of each number.**"
      ],
      "metadata": {
        "id": "VzAxjPFrJtJP"
      }
    },
    {
      "cell_type": "code",
      "source": [
        "def square_num(l):\n",
        "  return [i**2 for i in l] #square of each number using list comprehension\n",
        "\n",
        "l=[1,2,3,4]\n",
        "print(square_num(l))"
      ],
      "metadata": {
        "colab": {
          "base_uri": "https://localhost:8080/"
        },
        "id": "IPt41SMbJqyf",
        "outputId": "0498cc56-739e-4388-db3d-6f5ea05789a4"
      },
      "execution_count": 28,
      "outputs": [
        {
          "output_type": "stream",
          "name": "stdout",
          "text": [
            "[1, 4, 9, 16]\n"
          ]
        }
      ]
    },
    {
      "cell_type": "markdown",
      "source": [
        "**4. Write a Python function that checks if a given number is prime or not from 1 to 200.**"
      ],
      "metadata": {
        "id": "VopCN3adKM5A"
      }
    },
    {
      "cell_type": "code",
      "source": [
        "def prime(n):\n",
        "  if n<2:\n",
        "    return False #number is less than 2 are not prime\n",
        "\n",
        "  for i in range(2,n): #check n is divisible by any number from 2 to n-1.\n",
        "\n",
        "    if n%i==0:\n",
        "      #if divisible that is not prime\n",
        "      return False\n",
        "  return True #if no divisor that is prime\n",
        "\n",
        "for i in range(1,201):\n",
        "  if prime(i):\n",
        "    print(i,end=\" \")\n",
        ""
      ],
      "metadata": {
        "colab": {
          "base_uri": "https://localhost:8080/"
        },
        "id": "t775ZOaCKLXa",
        "outputId": "130e594d-146f-4f5c-8f7a-ea6ed7b834e4"
      },
      "execution_count": 32,
      "outputs": [
        {
          "output_type": "stream",
          "name": "stdout",
          "text": [
            "2 3 5 7 11 13 17 19 23 29 31 37 41 43 47 53 59 61 67 71 73 79 83 89 97 101 103 107 109 113 127 131 137 139 149 151 157 163 167 173 179 181 191 193 197 199 "
          ]
        }
      ]
    },
    {
      "cell_type": "markdown",
      "source": [
        "**5.Create an iterator class in Python that generates the Fibonacci sequence up to a specified number of terms?**"
      ],
      "metadata": {
        "id": "uiItau9BLd0i"
      }
    },
    {
      "cell_type": "code",
      "source": [
        "class fibonacci_series:\n",
        "\n",
        "  def __init__(self,n):\n",
        "\n",
        "    self.n = n #number of terms\n",
        "    self.a, self.b = 0, 1 #starting values\n",
        "\n",
        "  def __iter__(self):\n",
        "    return self #return iterator object itself\n",
        "\n",
        "  def __next__(self):\n",
        "\n",
        "    if self.n == 0:\n",
        "      raise StopIteration\n",
        "    self.n -= 1\n",
        "    result = self.a\n",
        "    self.a, self.b = self.b, self.a + self.b\n",
        "    return result\n",
        "f = fibonacci_series(5)\n",
        "for i in f:\n",
        "  print(i)\n"
      ],
      "metadata": {
        "colab": {
          "base_uri": "https://localhost:8080/"
        },
        "id": "KAvZiTlSMUDc",
        "outputId": "8b7e3200-17a0-412f-d83b-6ff8dc1042cf"
      },
      "execution_count": 33,
      "outputs": [
        {
          "output_type": "stream",
          "name": "stdout",
          "text": [
            "0\n",
            "1\n",
            "1\n",
            "2\n",
            "3\n"
          ]
        }
      ]
    },
    {
      "cell_type": "markdown",
      "source": [
        "**6. Write a generator function in Python that yields the powers of 2 up to a given exponent.**"
      ],
      "metadata": {
        "id": "JJxfmc_PNXLq"
      }
    },
    {
      "cell_type": "code",
      "source": [
        "def power_of_two(n):\n",
        "  for i in range(n+1):\n",
        "    yield 2**i  # 2 exponential of i using yield(pause and return -- creating generator function)\n",
        "\n",
        "for i in power_of_two(5):\n",
        "  print(i)"
      ],
      "metadata": {
        "colab": {
          "base_uri": "https://localhost:8080/"
        },
        "id": "CZOxvZNHLNND",
        "outputId": "41dcf539-ec1d-4b23-f83a-a49fc7433418"
      },
      "execution_count": 34,
      "outputs": [
        {
          "output_type": "stream",
          "name": "stdout",
          "text": [
            "1\n",
            "2\n",
            "4\n",
            "8\n",
            "16\n",
            "32\n"
          ]
        }
      ]
    },
    {
      "cell_type": "markdown",
      "source": [
        "**7. Implement a generator function that reads a file line by line and yields each line as a string.**"
      ],
      "metadata": {
        "id": "J06A-Q6UOKsd"
      }
    },
    {
      "cell_type": "code",
      "source": [
        "with open(\"data.txt\",\"w\") as f:\n",
        "  f.write(\"Hello, world!\\nThis is a test.\\nPython is awesome!\")"
      ],
      "metadata": {
        "id": "Nkb0-wezOAiP"
      },
      "execution_count": 36,
      "outputs": []
    },
    {
      "cell_type": "code",
      "source": [
        "def read_file(filename):\n",
        "  with open(filename,\"r\") as f: #open a file in read mode\n",
        "    for i in f:\n",
        "      yield i.strip() #yield the line by line data\n",
        "\n",
        "for i in read_file(\"data.txt\"):\n",
        "  print(i) #print each line by line."
      ],
      "metadata": {
        "colab": {
          "base_uri": "https://localhost:8080/"
        },
        "id": "V-8Z_YZNZwu9",
        "outputId": "3a9fb533-54c7-4545-a4ce-90301a9d032d"
      },
      "execution_count": 37,
      "outputs": [
        {
          "output_type": "stream",
          "name": "stdout",
          "text": [
            "Hello, world!\n",
            "This is a test.\n",
            "Python is awesome!\n"
          ]
        }
      ]
    },
    {
      "cell_type": "markdown",
      "source": [
        "**8. Use a lambda function in Python to sort a list of tuples based on the second element of each tuple.**"
      ],
      "metadata": {
        "id": "uZiZRIXFanHu"
      }
    },
    {
      "cell_type": "code",
      "source": [
        "my_list = [(1, 3), (4, 1), (2, 2), (5, 4)]\n",
        "#sort the list by second element in tuple\n",
        "my_list.sort(key=lambda x:x[1])\n",
        "my_list"
      ],
      "metadata": {
        "colab": {
          "base_uri": "https://localhost:8080/"
        },
        "id": "F-NMdMMwaaYf",
        "outputId": "fb9efd8f-24ce-4b2b-a304-4336f59de00c"
      },
      "execution_count": 41,
      "outputs": [
        {
          "output_type": "execute_result",
          "data": {
            "text/plain": [
              "[(4, 1), (2, 2), (1, 3), (5, 4)]"
            ]
          },
          "metadata": {},
          "execution_count": 41
        }
      ]
    },
    {
      "cell_type": "markdown",
      "source": [
        "**9. Write a Python program that uses `map()` to convert a list of temperatures from Celsius to Fahrenheit.**"
      ],
      "metadata": {
        "id": "lskFv_c_bTmE"
      }
    },
    {
      "cell_type": "code",
      "source": [
        "#list of temperature in celcius\n",
        "celcius_temp = [0,10,20,30,40]\n",
        "\n",
        "def celc_fahren(c): #function to convert celcius to fahrenheit\n",
        "  return (c * 9/5) + 32\n",
        "\n",
        "print(list(map(celc_fahren,celcius_temp)))\n",
        "print(list(map(lambda c:(c*9/5)+32,celcius_temp)))"
      ],
      "metadata": {
        "colab": {
          "base_uri": "https://localhost:8080/"
        },
        "id": "SvQSL9h_a45p",
        "outputId": "e7262427-9835-4881-fac4-4bcaf98f6bff"
      },
      "execution_count": 44,
      "outputs": [
        {
          "output_type": "stream",
          "name": "stdout",
          "text": [
            "[32.0, 50.0, 68.0, 86.0, 104.0]\n",
            "[32.0, 50.0, 68.0, 86.0, 104.0]\n"
          ]
        }
      ]
    },
    {
      "cell_type": "markdown",
      "source": [
        "**10. Create a Python program that uses `filter()` to remove all the vowels from a given string.**"
      ],
      "metadata": {
        "id": "9Y_R3aGycPm_"
      }
    },
    {
      "cell_type": "code",
      "source": [
        "s = \"hello, how are you?\"\n",
        "result = \"\".join(filter(lambda x:x not in \"aeiouAEIOU\",s)) #use filter to remove vowels from string and join back the result\n",
        "result"
      ],
      "metadata": {
        "colab": {
          "base_uri": "https://localhost:8080/",
          "height": 36
        },
        "id": "BwwjSHkocAs1",
        "outputId": "49caa847-1146-48c4-ee6e-459c9bce01e2"
      },
      "execution_count": 47,
      "outputs": [
        {
          "output_type": "execute_result",
          "data": {
            "text/plain": [
              "'hll, hw r y?'"
            ],
            "application/vnd.google.colaboratory.intrinsic+json": {
              "type": "string"
            }
          },
          "metadata": {},
          "execution_count": 47
        }
      ]
    },
    {
      "cell_type": "markdown",
      "source": [
        "11) Imagine an accounting routine used in a book shop. It works on a list with sublists, which look like this:\n",
        "Order Number     Book Title and Author         Quantity    Price per Item\n",
        "34587          Learning Python, Mark Lutz         4           40.95\n",
        "98762          Programming Python, Mark Lutz      5           56.80\n",
        "77226          Head First Python, Paul Barry      3           32.95\n",
        "88112          Einfuhrung in Python3, Bernd Klein 3           24.99\n",
        "\n",
        "Write a Python program, which returns a list with 2-tuples. Each tuple consists of the order number and the\n",
        "product of the price per item and the quantity. The product should be increased by 10,- € if the value of the\n",
        "order is smaller than 100,00 €.\n",
        "\n",
        "Write a Python program using lambda and map."
      ],
      "metadata": {
        "id": "8_eCpMEtf6sL"
      }
    },
    {
      "cell_type": "code",
      "source": [
        "# List of orders with [Order Number, Book Title and Author, Quantity, Price per Item]\n",
        "orders = [\n",
        "    [34587, 'Learning Python, Mark Lutz', 4, 40.95],\n",
        "    [98762, 'Programming Python, Mark Lutz', 5, 56.80],\n",
        "    [77226, 'Head First Python, Paul Barry', 3, 32.95],\n",
        "    [88112, 'Einfuhrung in Python3, Bernd Klein', 3, 24.99]\n",
        "]\n",
        "\n",
        "# Use map() with a lambda function to calculate the total cost and apply the rule\n",
        "result = list(map(lambda x: (x[0], (x[2] * x[3]) + 10 if (x[2] * x[3]) < 100 else x[2] * x[3]), orders))\n",
        "\n",
        "# Print the result\n",
        "print(result)\n"
      ],
      "metadata": {
        "colab": {
          "base_uri": "https://localhost:8080/"
        },
        "id": "nm8op1Zpd29c",
        "outputId": "22f1a4e3-30a9-4d5b-96f8-973b7f42f018"
      },
      "execution_count": 51,
      "outputs": [
        {
          "output_type": "stream",
          "name": "stdout",
          "text": [
            "[(34587, 163.8), (98762, 284.0), (77226, 108.85000000000001), (88112, 84.97)]\n"
          ]
        }
      ]
    }
  ]
}