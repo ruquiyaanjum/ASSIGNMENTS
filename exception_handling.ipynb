{
 "cells": [
  {
   "cell_type": "markdown",
   "id": "7f044557-6aad-4ae8-be93-3d1e797324f1",
   "metadata": {},
   "source": [
    "1) what is an Exception in python? write the difference between exception and syntax error?"
   ]
  },
  {
   "cell_type": "markdown",
   "id": "3044c97e-1a11-437e-91ac-4a409912d992",
   "metadata": {},
   "source": [
    "Exception:\n",
    "\n",
    "An exception is a runtime error that occurs during the execution of a program.\n",
    "It arises when the interpreter detects an error while the program is running, such as division by zero, file not found, or trying to access an index out of range.\n",
    "Exceptions are handled using try, except, finally, and raise statements to gracefully handle errors and prevent the program from crashing.\n",
    "Syntax Error:\n",
    "\n",
    "A syntax error is a compile-time error that occurs when the syntax of the code violates the rules of the programming language.\n",
    "It arises due to incorrect syntax in the code, such as missing parentheses, misplaced indentation, or misspelled keywords.\n",
    "Syntax errors are detected by the Python interpreter during the parsing (compilation) phase, before the program is executed.\n",
    "Syntax errors need to be fixed before the program can run, as they prevent the interpreter from understanding the code."
   ]
  },
  {
   "cell_type": "code",
   "execution_count": 47,
   "id": "27a06954-238e-41f1-9485-7a0d9045f4ac",
   "metadata": {},
   "outputs": [
    {
     "ename": "SyntaxError",
     "evalue": "expected ':' (208922120.py, line 9)",
     "output_type": "error",
     "traceback": [
      "\u001b[0;36m  Cell \u001b[0;32mIn[47], line 9\u001b[0;36m\u001b[0m\n\u001b[0;31m    if True\u001b[0m\n\u001b[0m           ^\u001b[0m\n\u001b[0;31mSyntaxError\u001b[0m\u001b[0;31m:\u001b[0m expected ':'\n"
     ]
    }
   ],
   "source": [
    "# Exception (Runtime Error)\n",
    "try:\n",
    "    result = 10 / 0  # Division by zero\n",
    "except ZeroDivisionError as e:\n",
    "    print(\"Exception:\", e)  # Output: Exception: division by zero\n",
    "\n",
    "# Syntax Error\n",
    "# Syntax error due to missing colon after 'if' statement\n",
    "if True\n",
    "    print(\"Syntax Error\")\n"
   ]
  },
  {
   "cell_type": "markdown",
   "id": "a5b01079-e199-4ff5-86cc-7bf54edb64f3",
   "metadata": {},
   "source": [
    "2) What happens when an exception is not handles?explain with an example?"
   ]
  },
  {
   "cell_type": "markdown",
   "id": "2514f1e3-2fd6-41ef-9d48-ef9e76be3afc",
   "metadata": {},
   "source": [
    "When an exception is not handled, i.e., there's no code to catch and handle the exception, the Python interpreter halts the execution of the program and displays an error traceback. This traceback provides information about the exception type, the line number where the exception occurred, and the sequence of function calls leading up to the exception. If the exception is not handled, the program terminates abruptly."
   ]
  },
  {
   "cell_type": "code",
   "execution_count": 48,
   "id": "94aac663-c006-48d9-8d50-a6a2dd92d822",
   "metadata": {},
   "outputs": [
    {
     "ename": "IndexError",
     "evalue": "list index out of range",
     "output_type": "error",
     "traceback": [
      "\u001b[0;31m---------------------------------------------------------------------------\u001b[0m",
      "\u001b[0;31mIndexError\u001b[0m                                Traceback (most recent call last)",
      "Cell \u001b[0;32mIn[48], line 3\u001b[0m\n\u001b[1;32m      1\u001b[0m \u001b[38;5;66;03m# Attempting to access an index that is out of range\u001b[39;00m\n\u001b[1;32m      2\u001b[0m my_list \u001b[38;5;241m=\u001b[39m [\u001b[38;5;241m1\u001b[39m, \u001b[38;5;241m2\u001b[39m, \u001b[38;5;241m3\u001b[39m]\n\u001b[0;32m----> 3\u001b[0m \u001b[38;5;28mprint\u001b[39m(\u001b[43mmy_list\u001b[49m\u001b[43m[\u001b[49m\u001b[38;5;241;43m4\u001b[39;49m\u001b[43m]\u001b[49m)  \u001b[38;5;66;03m# This line will raise an IndexError\u001b[39;00m\n\u001b[1;32m      4\u001b[0m \u001b[38;5;28mprint\u001b[39m(\u001b[38;5;124m\"\u001b[39m\u001b[38;5;124mThis line will not be executed\u001b[39m\u001b[38;5;124m\"\u001b[39m)\n",
      "\u001b[0;31mIndexError\u001b[0m: list index out of range"
     ]
    }
   ],
   "source": [
    "# Attempting to access an index that is out of range\n",
    "my_list = [1, 2, 3]\n",
    "print(my_list[4])  # This line will raise an IndexError\n",
    "print(\"This line will not be executed\")\n"
   ]
  },
  {
   "cell_type": "markdown",
   "id": "cfdae420-1752-4a03-ba2f-6ef3f1a1caba",
   "metadata": {},
   "source": [
    "3) which python statements are used to catch and handle exceptions? explain with an example?"
   ]
  },
  {
   "cell_type": "markdown",
   "id": "6453a842-f6e9-48ed-873b-65c63d9c03f3",
   "metadata": {},
   "source": [
    "try: The try statement is used to wrap the code that might raise an exception. It is followed by one or more except blocks or a finally block.\n",
    "\n",
    "except: The except statement is used to catch specific exceptions that might occur within the corresponding try block. Each except block specifies the type of exception it can handle. If an exception of the specified type occurs, the code within the corresponding except block is executed.\n",
    "\n",
    "finally: The finally statement is used to specify code that should be executed regardless of whether an exception occurs or not. It is typically used to perform cleanup actions, such as closing files or releasing resources, regardless of whether an exception occurred.\n",
    "\n",
    "raise: The raise statement is used to manually raise exceptions. It allows you to raise custom exceptions or re-raise exceptions caught in except blocks."
   ]
  },
  {
   "cell_type": "code",
   "execution_count": 49,
   "id": "ae9bd897-7d7d-48fe-9606-33c6601143d3",
   "metadata": {},
   "outputs": [
    {
     "name": "stdin",
     "output_type": "stream",
     "text": [
      "Enter a number:  97\n"
     ]
    },
    {
     "name": "stdout",
     "output_type": "stream",
     "text": [
      "Result: 0.10309278350515463\n",
      "Exiting program\n"
     ]
    }
   ],
   "source": [
    "try:\n",
    "    # Code that might raise an exception\n",
    "    x = int(input(\"Enter a number: \"))\n",
    "    result = 10 / x\n",
    "    print(\"Result:\", result)\n",
    "\n",
    "except ValueError:  # Handling ValueError (e.g., if user enters a non-integer)\n",
    "    print(\"Invalid input. Please enter a valid integer.\")\n",
    "\n",
    "except ZeroDivisionError:  # Handling ZeroDivisionError (e.g., if user enters 0)\n",
    "    print(\"Cannot divide by zero.\")\n",
    "\n",
    "finally:\n",
    "    # Cleanup code that should be executed regardless of whether an exception occurs\n",
    "    print(\"Exiting program\")\n",
    "\n",
    "# Example of raising a custom exception\n",
    "if x < 0:\n",
    "    raise ValueError(\"Number cannot be negative\")"
   ]
  },
  {
   "cell_type": "code",
   "execution_count": null,
   "id": "095fbdba-4f9a-4039-96a9-cdf6aa94f7dd",
   "metadata": {},
   "outputs": [],
   "source": [
    "4) Explain with an example :\n",
    "    a. try and else\n",
    "    b. finally\n",
    "    c. raise"
   ]
  },
  {
   "cell_type": "code",
   "execution_count": 50,
   "id": "d544c0e3-4dec-449f-9de8-de4fdbf3f59b",
   "metadata": {},
   "outputs": [
    {
     "name": "stdin",
     "output_type": "stream",
     "text": [
      "Enter a number:  8\n"
     ]
    },
    {
     "name": "stdout",
     "output_type": "stream",
     "text": [
      "Division result: 1.25\n",
      "End of try-except block\n",
      "Error: No discount available for prices less than 100\n",
      "End of try-except block\n"
     ]
    }
   ],
   "source": [
    "def calculate_discount(price):\n",
    "    if price <= 0:\n",
    "        raise ValueError(\"Price must be greater than zero\")\n",
    "    elif price < 100:\n",
    "        raise ValueError(\"No discount available for prices less than 100\")\n",
    "    else:\n",
    "        return price * 0.1  # 10% discount for prices greater than or equal to 100\n",
    "\n",
    "try:\n",
    "    x = int(input(\"Enter a number: \"))\n",
    "    result = 10 / x\n",
    "except ValueError:\n",
    "    print(\"Invalid input. Please enter a valid integer.\")\n",
    "else:\n",
    "    print(\"Division result:\", result)\n",
    "finally:\n",
    "    print(\"End of try-except block\")\n",
    "    \n",
    "try:\n",
    "    discounted_price = calculate_discount(80)\n",
    "    print(\"Discounted price:\", discounted_price)\n",
    "except ValueError as e:\n",
    "    print(\"Error:\", e)\n",
    "finally:\n",
    "    print(\"End of try-except block\")\n"
   ]
  },
  {
   "cell_type": "markdown",
   "id": "955620ba-2331-4488-8317-a71a0fab6a3c",
   "metadata": {},
   "source": [
    "5) what are custom exceptions in python? why we need custom exceptions? explain with an example?"
   ]
  },
  {
   "cell_type": "markdown",
   "id": "3e8c56c3-7fd0-441c-bfb3-6a60f76b7ce2",
   "metadata": {},
   "source": [
    "Custom exceptions in Python are user-defined exception classes that inherit from the built-in Exception class or one of its subclasses. They allow developers to define their own types of exceptions to handle specific error conditions in their programs.\n",
    "\n",
    "Reasons for using custom exceptions:\n",
    "\n",
    "Better readability and clarity: Custom exceptions provide descriptive names that reflect the specific error conditions encountered in the program, making the code more readable and understandable.\n",
    "\n",
    "Modularity and organization: By defining custom exceptions, developers can encapsulate related error conditions into distinct exception classes, promoting modularity and organization in the codebase.\n",
    "\n",
    "Customized error handling: Custom exceptions allow for more granular error handling, enabling developers to catch and handle specific error conditions differently based on the context of the program.\n",
    "\n",
    "Enhanced debugging: Using custom exceptions can simplify the debugging process by providing meaningful error messages and stack traces, helping developers quickly identify and diagnose issues in their code."
   ]
  },
  {
   "cell_type": "code",
   "execution_count": 51,
   "id": "0c397d01-decd-405e-935c-bf1313338d2d",
   "metadata": {},
   "outputs": [
    {
     "name": "stdout",
     "output_type": "stream",
     "text": [
      "Error: Division by zero\n",
      "Error: Both numbers must be integers\n"
     ]
    }
   ],
   "source": [
    "class InvalidInputError(Exception):\n",
    "    \"\"\"Exception raised for invalid input.\"\"\"\n",
    "    def __init__(self, message=\"Invalid input\"):\n",
    "        self.message = message\n",
    "        super().__init__(self.message)\n",
    "\n",
    "def divide(a, b):\n",
    "    if b == 0:\n",
    "        raise ZeroDivisionError(\"Division by zero\")\n",
    "    elif not isinstance(a, int) or not isinstance(b, int):\n",
    "        raise InvalidInputError(\"Both numbers must be integers\")\n",
    "    else:\n",
    "        return a / b\n",
    "\n",
    "# Example usage\n",
    "try:\n",
    "    result = divide(10, 0)  # Raises ZeroDivisionError\n",
    "except ZeroDivisionError as e:\n",
    "    print(\"Error:\", e)\n",
    "\n",
    "try:\n",
    "    result = divide(10, 'a')  # Raises InvalidInputError\n",
    "except InvalidInputError as e:\n",
    "    print(\"Error:\", e)\n"
   ]
  },
  {
   "cell_type": "markdown",
   "id": "f96b0ef0-e7c1-4b94-9925-b011f827a03e",
   "metadata": {},
   "source": [
    "6) create a custom exception class.use this class to handle an exception?"
   ]
  },
  {
   "cell_type": "code",
   "execution_count": 53,
   "id": "306e7c4d-2d08-46ed-ac8d-f891e3540b7b",
   "metadata": {},
   "outputs": [
    {
     "name": "stdin",
     "output_type": "stream",
     "text": [
      "Enter a number:  99\n"
     ]
    }
   ],
   "source": [
    "class CustomException(Exception):\n",
    "    \"\"\"Custom exception class.\"\"\"\n",
    "    def __init__(self, message=\"Custom exception occurred\"):\n",
    "        self.message = message\n",
    "        super().__init__(self.message)\n",
    "\n",
    "def example_function(x):\n",
    "    if x < 0:\n",
    "        raise CustomException(\"Input should be non-negative\")\n",
    "\n",
    "try:\n",
    "    num = int(input(\"Enter a number: \"))\n",
    "    example_function(num)\n",
    "except CustomException as e:\n",
    "    print(\"Custom Exception caught:\", e.message)\n"
   ]
  },
  {
   "cell_type": "code",
   "execution_count": null,
   "id": "2f442be1-a0eb-44b9-8b87-6a5d76c328be",
   "metadata": {},
   "outputs": [],
   "source": []
  }
 ],
 "metadata": {
  "kernelspec": {
   "display_name": "Python 3 (ipykernel)",
   "language": "python",
   "name": "python3"
  },
  "language_info": {
   "codemirror_mode": {
    "name": "ipython",
    "version": 3
   },
   "file_extension": ".py",
   "mimetype": "text/x-python",
   "name": "python",
   "nbconvert_exporter": "python",
   "pygments_lexer": "ipython3",
   "version": "3.10.8"
  }
 },
 "nbformat": 4,
 "nbformat_minor": 5
}
