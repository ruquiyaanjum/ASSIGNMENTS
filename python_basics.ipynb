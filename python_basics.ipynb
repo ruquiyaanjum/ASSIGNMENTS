{
 "cells": [
  {
   "cell_type": "markdown",
   "id": "03daf2fc-3720-489f-ab62-aa56f4d962f4",
   "metadata": {},
   "source": [
    "Q1. Create one variable containing following type of data:\n",
    "(i) string\n",
    "(ii) list\n",
    "(iii) float\n",
    "(iv) tuple\n",
    "\n",
    "\n",
    "\n"
   ]
  },
  {
   "cell_type": "code",
   "execution_count": 2,
   "id": "115658c4-d08e-4020-a1cc-e569f35adbd9",
   "metadata": {},
   "outputs": [
    {
     "name": "stdout",
     "output_type": "stream",
     "text": [
      "string1: rukz\n",
      "list1: [1, 2, 3, 4, 5]\n",
      "float1: 45.5\n",
      "tuple1: (1, 2, 3)\n"
     ]
    }
   ],
   "source": [
    "# 1)\n",
    "string1=\"rukz\"\n",
    "list1=[1,2,3,4,5]\n",
    "float1=45.5\n",
    "tuple1=(1,2,3)\n",
    "print(\"string1:\",string1)\n",
    "print(\"list1:\",list1)\n",
    "print(\"float1:\",float1)\n",
    "print(\"tuple1:\",tuple1)\n",
    "\n"
   ]
  },
  {
   "cell_type": "markdown",
   "id": "992b76cc-6104-4209-89cc-9e0f9e8fab1a",
   "metadata": {},
   "source": [
    "Q2. Given are some following variables containing data:\n",
    "(i) var1 = ‘ ‘\n",
    "(ii) var2 = ‘[ DS , ML , Python]’\n",
    "(iii) var3 = [ ‘DS’ , ’ML’ , ‘Python’ ]\n",
    "(iv) var4 = 1.\n",
    "What will be the data type of the above given variable."
   ]
  },
  {
   "cell_type": "code",
   "execution_count": 8,
   "id": "cd0ad0e1-5682-40d0-97ce-4bf0a014b6a2",
   "metadata": {},
   "outputs": [
    {
     "name": "stdout",
     "output_type": "stream",
     "text": [
      "<class 'str'>\n",
      "<class 'str'>\n",
      "<class 'list'>\n",
      "<class 'float'>\n"
     ]
    }
   ],
   "source": [
    "# 2)\n",
    "var1 = ''\n",
    "var2 = '[ DS , ML , Python]'\n",
    "var3 = [ 'DS' , 'ML' , 'Python' ]\n",
    "var4 = 1.\n",
    "print(type(var1))\n",
    "print(type(var2))\n",
    "print(type(var3))\n",
    "print(type(var4))"
   ]
  },
  {
   "cell_type": "markdown",
   "id": "aba3adb7-9304-4204-bde3-e33d7d46dad7",
   "metadata": {},
   "source": [
    "Q3. Explain the use of the following operators using an example:\n",
    "(i) /\n",
    "(ii) %\n",
    "(iii) //\n",
    "(iv) **"
   ]
  },
  {
   "cell_type": "code",
   "execution_count": 12,
   "id": "73e06b91-fb00-4e0e-9ac9-71e2a105eda6",
   "metadata": {},
   "outputs": [
    {
     "data": {
      "text/plain": [
       "8"
      ]
     },
     "execution_count": 12,
     "metadata": {},
     "output_type": "execute_result"
    }
   ],
   "source": [
    "# 3)\n",
    "# i) / is division operator  --divide it\n",
    "2/2     #1.0 \n",
    "# ii) % modulus operator -- remainder value\n",
    "2%2    # is 0\n",
    "# iii) // floor operator , basically quotient\n",
    "2//2   # is 1\n",
    "# iv) ** exponential or poweroff means 2**3 is 2*2*2 = 8 or 2*3=8.\n",
    "2**3\n"
   ]
  },
  {
   "cell_type": "markdown",
   "id": "dd6b291b-cb55-4dce-b904-6f700874f7ba",
   "metadata": {},
   "source": [
    "Q4. Create a list of length 10 of your choice containing multiple types of data. Using for loop print the\n",
    "element and its data type."
   ]
  },
  {
   "cell_type": "code",
   "execution_count": 14,
   "id": "bbcac6c5-1164-4c6e-beed-6d35109a32ba",
   "metadata": {},
   "outputs": [
    {
     "name": "stdout",
     "output_type": "stream",
     "text": [
      "1 = <class 'int'>\n",
      "2 = <class 'int'>\n",
      "3 = <class 'int'>\n",
      "rukz = <class 'str'>\n",
      "56.7 = <class 'float'>\n",
      "(8+9j) = <class 'complex'>\n",
      "9 = <class 'int'>\n",
      "uuuee = <class 'str'>\n",
      "88.8 = <class 'float'>\n",
      "34 = <class 'int'>\n"
     ]
    }
   ],
   "source": [
    "# 4)\n",
    "list1=[1,2,3,\"rukz\",56.7,8+9j,9,\"uuuee\",88.8,34]\n",
    "for i in list1:\n",
    "    print(i,\"=\",type(i))"
   ]
  },
  {
   "cell_type": "markdown",
   "id": "d19b039d-f160-42f8-ba97-2ecbe99b6d26",
   "metadata": {},
   "source": [
    "Q5. Using a while loop, verify if the number A is purely divisible by number B and if so then how many\n",
    "times it can be divisible."
   ]
  },
  {
   "cell_type": "code",
   "execution_count": 15,
   "id": "0d7071f1-a96a-4b54-9d5f-5b6855bb7fd1",
   "metadata": {},
   "outputs": [
    {
     "name": "stdin",
     "output_type": "stream",
     "text": [
      " 4\n",
      " 4\n"
     ]
    },
    {
     "name": "stdout",
     "output_type": "stream",
     "text": [
      "not divisible\n"
     ]
    }
   ],
   "source": [
    "#i need answer for this , not able to understand the question\n",
    "    "
   ]
  },
  {
   "cell_type": "markdown",
   "id": "e094303f-d02a-4e49-98a2-2ccee22cee53",
   "metadata": {},
   "source": [
    "Q6. Create a list containing 25 int type data. Using for loop and if-else condition print if the element is\n",
    "divisible by 3 or not."
   ]
  },
  {
   "cell_type": "code",
   "execution_count": 9,
   "id": "ebc8abd7-7630-4aef-87e1-174107fbe011",
   "metadata": {},
   "outputs": [
    {
     "name": "stdout",
     "output_type": "stream",
     "text": [
      "not divisible by 3: 1\n",
      "not divisible by 3: 2\n",
      "divisible by 3: 3\n",
      " \n",
      "not divisible by 3: 4\n",
      "not divisible by 3: 5\n",
      "divisible by 3: 6\n",
      " \n",
      "not divisible by 3: 7\n",
      "not divisible by 3: 8\n",
      "divisible by 3: 9\n",
      " \n",
      "not divisible by 3: 10\n",
      "not divisible by 3: 11\n",
      "divisible by 3: 12\n",
      " \n",
      "not divisible by 3: 13\n",
      "not divisible by 3: 14\n",
      "divisible by 3: 15\n",
      " \n",
      "not divisible by 3: 16\n",
      "not divisible by 3: 17\n",
      "divisible by 3: 18\n",
      " \n",
      "not divisible by 3: 19\n",
      "not divisible by 3: 20\n",
      "divisible by 3: 21\n",
      " \n",
      "not divisible by 3: 22\n",
      "not divisible by 3: 23\n",
      "divisible by 3: 24\n",
      " \n",
      "not divisible by 3: 25\n"
     ]
    }
   ],
   "source": [
    "# 6)\n",
    "list1=[1,2,3,4,5,6,7,8,9,10,11,12,13,14,15,16,17,18,19,20,21,22,23,24,25]\n",
    "for i in list1:\n",
    "    if i%3==0:\n",
    "        print(\"divisible by 3:\",i)\n",
    "        print(\" \")\n",
    "      \n",
    "    else:\n",
    "        print(\"not divisible by 3:\",i)\n",
    "        "
   ]
  },
  {
   "cell_type": "markdown",
   "id": "87204f6f-e51b-4771-9fe2-9e573bf677e6",
   "metadata": {},
   "source": [
    "Q7. What do you understand about mutable and immutable data types? Give examples for both showing\n",
    "this property."
   ]
  },
  {
   "cell_type": "code",
   "execution_count": 10,
   "id": "a78418b7-bf67-4e2f-8741-fa1c46ed6c8d",
   "metadata": {},
   "outputs": [
    {
     "ename": "TypeError",
     "evalue": "'str' object does not support item assignment",
     "output_type": "error",
     "traceback": [
      "\u001b[0;31m---------------------------------------------------------------------------\u001b[0m",
      "\u001b[0;31mTypeError\u001b[0m                                 Traceback (most recent call last)",
      "Cell \u001b[0;32mIn[10], line 7\u001b[0m\n\u001b[1;32m      1\u001b[0m \u001b[38;5;66;03m# 7)\u001b[39;00m\n\u001b[1;32m      2\u001b[0m \u001b[38;5;66;03m# immutable data type -- once the value is assigned we cannot change it.  example string,tuple\u001b[39;00m\n\u001b[1;32m      3\u001b[0m \u001b[38;5;66;03m# mutable data type -- once the value is assigned we can chnaged or replace the data. examplelist,dictionary.\u001b[39;00m\n\u001b[1;32m      4\u001b[0m \n\u001b[1;32m      5\u001b[0m \u001b[38;5;66;03m# example immutable data type\u001b[39;00m\n\u001b[1;32m      6\u001b[0m a\u001b[38;5;241m=\u001b[39m\u001b[38;5;124m\"\u001b[39m\u001b[38;5;124mrukz\u001b[39m\u001b[38;5;124m\"\u001b[39m\n\u001b[0;32m----> 7\u001b[0m \u001b[43ma\u001b[49m\u001b[43m[\u001b[49m\u001b[38;5;241;43m0\u001b[39;49m\u001b[43m]\u001b[49m\u001b[38;5;241m=\u001b[39m\u001b[38;5;124m\"\u001b[39m\u001b[38;5;124mp\u001b[39m\u001b[38;5;124m\"\u001b[39m\n\u001b[1;32m      8\u001b[0m a\n",
      "\u001b[0;31mTypeError\u001b[0m: 'str' object does not support item assignment"
     ]
    }
   ],
   "source": [
    "# 7)\n",
    "# immutable data type -- once the value is assigned we cannot change it.  example string,tuple\n",
    "# mutable data type -- once the value is assigned we can chnaged or replace the data. examplelist,dictionary.\n",
    "\n",
    "# example immutable data type\n",
    "a=\"rukz\"\n",
    "a[0]=\"p\"\n",
    "a"
   ]
  },
  {
   "cell_type": "code",
   "execution_count": 11,
   "id": "565fb3a0-ca7a-4f0f-9827-340858437a32",
   "metadata": {},
   "outputs": [
    {
     "data": {
      "text/plain": [
       "[100, 2, 3]"
      ]
     },
     "execution_count": 11,
     "metadata": {},
     "output_type": "execute_result"
    }
   ],
   "source": [
    "#example of mutable data type\n",
    "a=[1,2,3]\n",
    "a[0]=100\n",
    "a"
   ]
  },
  {
   "cell_type": "code",
   "execution_count": null,
   "id": "2159bdcb-d055-4ff8-8379-a535515096df",
   "metadata": {},
   "outputs": [],
   "source": []
  }
 ],
 "metadata": {
  "kernelspec": {
   "display_name": "Python 3",
   "language": "python",
   "name": "python3"
  },
  "language_info": {
   "codemirror_mode": {
    "name": "ipython",
    "version": 3
   },
   "file_extension": ".py",
   "mimetype": "text/x-python",
   "name": "python",
   "nbconvert_exporter": "python",
   "pygments_lexer": "ipython3",
   "version": "3.6.9"
  }
 },
 "nbformat": 4,
 "nbformat_minor": 5
}
