{
 "cells": [
  {
   "cell_type": "markdown",
   "id": "921b5b58-788b-49cd-8ed1-82601adee10d",
   "metadata": {},
   "source": [
    "Q5. Explain ImportError. What is ModuleNotFoundError?"
   ]
  },
  {
   "cell_type": "markdown",
   "id": "54b71c50-02c9-4722-b90a-2563f6adea7d",
   "metadata": {},
   "source": [
    "Import error : you are trying to import module which is not there .. so it will through module error\n",
    "ImportError is a exception function inside that ModuleNotFoundError error (not found the module or path)"
   ]
  },
  {
   "cell_type": "code",
   "execution_count": 3,
   "id": "ddcbd391-e0c9-4b66-8ff2-3125781a6221",
   "metadata": {},
   "outputs": [],
   "source": [
    "import logging\n",
    "logging.basicConfig(filename=\"error.log\",level=logging.DEBUG,format=\"%(asctime)s %(name)s %(levelname)s %(message)s\")\n",
    "try:\n",
    "    import sudh\n",
    "except ImportError as e:\n",
    "    logging.error(\" no module is present : {}\".format(e))"
   ]
  },
  {
   "cell_type": "code",
   "execution_count": 4,
   "id": "ddeab589-1495-4854-8de8-1b3b95d45230",
   "metadata": {},
   "outputs": [
    {
     "ename": "ModuleNotFoundError",
     "evalue": "No module named 'wywy'",
     "output_type": "error",
     "traceback": [
      "\u001b[0;31m---------------------------------------------------------------------------\u001b[0m",
      "\u001b[0;31mModuleNotFoundError\u001b[0m                       Traceback (most recent call last)",
      "Cell \u001b[0;32mIn[4], line 1\u001b[0m\n\u001b[0;32m----> 1\u001b[0m \u001b[38;5;28;01mimport\u001b[39;00m \u001b[38;5;21;01mwywy\u001b[39;00m\n",
      "\u001b[0;31mModuleNotFoundError\u001b[0m: No module named 'wywy'"
     ]
    }
   ],
   "source": [
    "import wywy"
   ]
  },
  {
   "cell_type": "markdown",
   "id": "cab117f2-fa57-49bd-9c5b-4903cc1fa2c2",
   "metadata": {},
   "source": [
    "Q6. List down some best practices for exception handling in python."
   ]
  },
  {
   "cell_type": "markdown",
   "id": "db4a17c8-82c0-4d65-be51-4594c01628e1",
   "metadata": {},
   "source": [
    "1) always use specific exception\n",
    "2) always use a proper message for that exception\n",
    "3) always use log file to store that error\n",
    "4) avoid multiple exception\n",
    "5) document all the error\n",
    "6) cleanup all the resources (file.close())"
   ]
  },
  {
   "cell_type": "code",
   "execution_count": 8,
   "id": "05629878-5e02-44c3-81e9-a51a7fe83383",
   "metadata": {},
   "outputs": [],
   "source": [
    "try:\n",
    "    10/0\n",
    "except ZeroDivisionError as e:\n",
    "    logging.error(\"this is zero division error {}\".format(e))\n",
    "#except Exception as e: --- avoid this \n",
    " #   logging.error(\"this is zero division error by superclass {}\".format(e))"
   ]
  },
  {
   "cell_type": "markdown",
   "id": "c57fc53c-42bc-454d-9bad-6ebf7861ba13",
   "metadata": {},
   "source": [
    "Q4. Why LookupError class is used? Explain with an example KeyError and IndexError."
   ]
  },
  {
   "cell_type": "markdown",
   "id": "fa171306-595d-4f60-8cd9-40d0332ece38",
   "metadata": {},
   "source": [
    "LookupError-- due to invalid keys or indexes used on a mapping or sequence. (Index Error and KeyError)\n",
    "Index Error-- try to extract  index value which is not avaiable in list\n",
    "\n",
    "KeyError -- trying to extract key of -- value in dictionary which is not present."
   ]
  },
  {
   "cell_type": "code",
   "execution_count": 10,
   "id": "e3ad4a57-8d4c-4946-8c22-55fa95f73705",
   "metadata": {},
   "outputs": [],
   "source": [
    "# example: KeyError\n",
    "try:\n",
    "    d={\"key\":\"rukz\",1:[1,2,3,4,5]}\n",
    "    logging.info(d[\"key2\"])\n",
    "except KeyError as e:\n",
    "    logging.error(\"key is not found error : {}\".format(e))"
   ]
  },
  {
   "cell_type": "code",
   "execution_count": 11,
   "id": "e6915a5f-6eb9-4f9e-9af7-326a9c61c068",
   "metadata": {},
   "outputs": [],
   "source": [
    "# example: IndexError\n",
    "try:\n",
    "    l=[1,2,3,4,5]\n",
    "    logging.info(l[9])\n",
    "except IndexError as e:\n",
    "    logging.error(\"index is out of range error : {}\".format(e))"
   ]
  },
  {
   "cell_type": "markdown",
   "id": "1dc77ad2-3d5f-4e58-894e-80e39a8cd564",
   "metadata": {},
   "source": [
    "Q3. What errors are defined in the ArithmeticError class? Explain any two with an example."
   ]
  },
  {
   "cell_type": "markdown",
   "id": "e2d5d02d-2ca2-447d-87bc-6a6d965f0177",
   "metadata": {},
   "source": [
    " ArithmeticError class : ZeroDivisionError, OverflowError,FloatingPointError"
   ]
  },
  {
   "cell_type": "code",
   "execution_count": null,
   "id": "6eec0e41-853f-41ee-ab16-ff3bde3ce5ca",
   "metadata": {},
   "outputs": [],
   "source": [
    "try:\n",
    "    10/0\n",
    "except ArithmeticError as e:\n",
    "    logging.error(\"this is an arithmetic error : {}\".format(e))"
   ]
  },
  {
   "cell_type": "code",
   "execution_count": null,
   "id": "a036792f-cf9f-4ad2-9dc4-0a02d39861de",
   "metadata": {},
   "outputs": [],
   "source": [
    "try:\n",
    "    a=5\n",
    "    for i in range(1,10000):\n",
    "        a=a**i\n",
    "except OverflowError as e:\n",
    "    logging.error(\"over flow error : {}\".format(e))"
   ]
  },
  {
   "cell_type": "markdown",
   "id": "95f9ac87-026b-4cd9-9972-e9dc71b46cea",
   "metadata": {},
   "source": [
    "Q2. Write a python program to print Python Exception Hierarchy."
   ]
  },
  {
   "cell_type": "markdown",
   "id": "6bf3dee5-34cf-420f-8786-46b7db240774",
   "metadata": {},
   "source": [
    "using inspect module\n",
    "building a tree hierarchy we will use inspect.getclasstree()."
   ]
  },
  {
   "cell_type": "code",
   "execution_count": 4,
   "id": "af906da7-cdc7-41cc-abdc-9fcbfdd1fdbe",
   "metadata": {},
   "outputs": [],
   "source": [
    "\n",
    "import inspect \n",
    "def treeClass(cls, ind = 0):    \n",
    "    logging.info({'-' * ind, cls.__name__}) \n",
    "      \n",
    "    for i in cls.__subclasses__(): \n",
    "        treeClass(i, ind + 3) \n",
    "logging.info(\"Hierarchy for Built-in exceptions is : \") \n",
    "inspect.getclasstree(inspect.getmro(BaseException)) \n",
    "treeClass(BaseException) "
   ]
  },
  {
   "cell_type": "markdown",
   "id": "443d65aa-772e-4e72-adfb-648bd9eabba3",
   "metadata": {},
   "source": [
    "Q1. Explain why we have to use the Exception class while creating a Custom Exception."
   ]
  },
  {
   "cell_type": "markdown",
   "id": "6b6eaf92-762e-4107-9130-7c1eed3c44b6",
   "metadata": {},
   "source": [
    "Custom exceptions enhance the usability of a class. An exception class should have init and str magic methods which are called automatically during the exception handling process. It is completely up to us what we want our custom error class to do."
   ]
  }
 ],
 "metadata": {
  "kernelspec": {
   "display_name": "Python 3 (ipykernel)",
   "language": "python",
   "name": "python3"
  },
  "language_info": {
   "codemirror_mode": {
    "name": "ipython",
    "version": 3
   },
   "file_extension": ".py",
   "mimetype": "text/x-python",
   "name": "python",
   "nbconvert_exporter": "python",
   "pygments_lexer": "ipython3",
   "version": "3.10.8"
  }
 },
 "nbformat": 4,
 "nbformat_minor": 5
}
