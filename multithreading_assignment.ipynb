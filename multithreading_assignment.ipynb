{
 "cells": [
  {
   "cell_type": "markdown",
   "id": "da40075f-f140-427c-b0ca-492c01b6156d",
   "metadata": {},
   "source": [
    "1)what is multithreading in python? why is it used? Name the module used to handle threads in python"
   ]
  },
  {
   "cell_type": "markdown",
   "id": "13f5952e-77f6-4a8c-a4af-31b3d02055ad",
   "metadata": {},
   "source": [
    "Multithreading:  A proces of running multiple threads simultaneously within a single process.\n",
    "Used : To improve the performance of a program by using multiple cpu's or cpu core.\n",
    "Module: thread(not that much used now).\n",
    "        threading module."
   ]
  },
  {
   "cell_type": "markdown",
   "id": "8031bb21-c743-4bfc-98c6-fd72bdfae9fd",
   "metadata": {},
   "source": [
    "2)why threading module used? write the use of the following functions:\n",
    "activeCount()\n",
    "currentThread()\n",
    "enumerate()"
   ]
  },
  {
   "cell_type": "markdown",
   "id": "3fcc56b2-9c65-434e-9a1c-921a77006b80",
   "metadata": {},
   "source": [
    "2)why threading module used? write the use of the following functions\n",
    "1)activeCount()\n",
    "2)currentThread()\n",
    "3)enumerate()"
   ]
  },
  {
   "cell_type": "markdown",
   "id": "397f3cae-8958-409a-aaf9-278c61463b0a",
   "metadata": {},
   "source": [
    "Threading allows you to have different parts of your program run concurrently and can simplify your design.\n",
    "\n",
    "Performance will increase.\n",
    "\n",
    "Multithreading:  A proces of running multiple threads simultaneously within a single process.\n",
    "Used : To improve the performance of a program by using multiple cpu's or cpu core.\n",
    "\n",
    "\n",
    "1)active_count(): this function tells us about the number of threads in execution."
   ]
  },
  {
   "cell_type": "code",
   "execution_count": 4,
   "id": "e74e1503-5109-447a-893b-1f9d180beddd",
   "metadata": {},
   "outputs": [
    {
     "name": "stdout",
     "output_type": "stream",
     "text": [
      "Thread 0 going to sleep for 2 seconds.\n",
      "Current Thread count : 9.\n",
      "Thread 1 going to sleep for 2 seconds.\n",
      "Current Thread count : a.\n",
      "Thread 2 going to sleep for 2 seconds.\n",
      "Current Thread count : b.\n",
      "Thread 3 going to sleep for 2 seconds.\n",
      "Current Thread count : c.\n",
      "Thread 4 going to sleep for 2 seconds.\n",
      "Current Thread count : d.\n",
      "Thread 5 going to sleep for 2 seconds.\n",
      "Current Thread count : e.\n",
      "Thread 6 going to sleep for 2 seconds.\n",
      "Current Thread count : f.\n",
      "Thread 7 going to sleep for 2 seconds.\n",
      "Current Thread count : 10.\n",
      "Thread 8 going to sleep for 2 seconds.\n",
      "Current Thread count : 11.\n",
      "Thread 9 going to sleep for 2 seconds.\n",
      "Current Thread count : 12.\n",
      "Thread 0 is active now.\n",
      "Thread 3 is active now.\n",
      "Thread 1 is active now.\n",
      "Thread 5 is active now.\n",
      "Thread 4 is active now.\n",
      "Thread 2 is active now.\n",
      "Thread 6 is active now.\n",
      "Thread 7 is active now.\n",
      "Thread 8 is active now.\n",
      "Thread 9 is active now.\n"
     ]
    }
   ],
   "source": [
    "#active_count_example\n",
    "import time\n",
    "from threading import Thread\n",
    "import threading\n",
    "\n",
    "def sleepMe(x):\n",
    "    print(\"Thread %x going to sleep for 2 seconds.\"%x)\n",
    "    time.sleep(2)\n",
    "    print(\"Thread %x is active now.\"%x)\n",
    "    \n",
    "for x in range(10):\n",
    "        th=threading.Thread(target=sleepMe,args=(x,))\n",
    "        th.start()\n",
    "        print(\"Current Thread count : %x.\"%threading.active_count())"
   ]
  },
  {
   "cell_type": "markdown",
   "id": "2d8ef6a7-c2e2-42c6-a2aa-14ac11595fd7",
   "metadata": {},
   "source": [
    "2) current_thread(): The threading.current_thread() is an inbuilt method of the threading module, it is used to return the current Thread object, which corresponds to the caller's thread of control"
   ]
  },
  {
   "cell_type": "code",
   "execution_count": 5,
   "id": "e1d0b4db-16dc-46a3-aabe-9c9ac4358f9b",
   "metadata": {},
   "outputs": [
    {
     "name": "stdout",
     "output_type": "stream",
     "text": [
      "Active current thread right now: <_MainThread(MainThread, started 139773532784448)>\n",
      "Active current thread right now: <Thread(Thread-18 (thread_3), started 139772370601536)>\n",
      "Value by Thread 3: 3\n",
      "Active current thread right now: <Thread(Thread-16 (thread_1), started 139772353816128)>\n",
      "Value by Thread 1: 1\n",
      "Active current thread right now: <Thread(Thread-17 (thread_2), started 139772362208832)>\n",
      "Value by Thread 2: 2\n"
     ]
    }
   ],
   "source": [
    "#current_thread example\n",
    "import time\n",
    "import threading\n",
    "\n",
    "def thread_1(i):\n",
    "    time.sleep(2)\n",
    "    print(\"Active current thread right now:\", (threading.current_thread()))\n",
    "    print('Value by Thread 1:', i)\n",
    "\n",
    "def thread_2(i):\n",
    "    time.sleep(5)\n",
    "    print(\"Active current thread right now:\", (threading.current_thread()))\n",
    "    print('Value by Thread 2:', i)\n",
    "    \n",
    "def thread_3(i):\n",
    "    print(\"Active current thread right now:\", (threading.current_thread()))\n",
    "    print(\"Value by Thread 3:\", i)\n",
    "    \n",
    "# Creating sample threads \n",
    "thread1 = threading.Thread(target=thread_1, args=(1,))\n",
    "thread2 = threading.Thread(target=thread_2, args=(2,))\n",
    "thread3 = threading.Thread(target=thread_3, args=(3,))\n",
    "\n",
    "print(\"Active current thread right now:\", (threading.current_thread()))\n",
    "#3 Initially it is the main thread that is active\n",
    "\n",
    "# Starting the threads\n",
    "thread1.start()\n",
    "thread2.start()\n",
    "thread3.start()"
   ]
  },
  {
   "cell_type": "markdown",
   "id": "5e0f8a0c-2095-4a3f-a62b-f294ace18213",
   "metadata": {},
   "source": [
    "3)The threading.enumerate() is an inbuilt method of the threading module, it is used to return the list of all the Thread class objects which are currently alive. It also includes daemonic threads, the main thread, and dummy thread objects created by current_thread(). It does not count the threads that have terminated or which have not started yet.\n",
    "\n"
   ]
  },
  {
   "cell_type": "code",
   "execution_count": 6,
   "id": "9f4fe724-e87e-4c50-bcb2-a2afbbd65d29",
   "metadata": {},
   "outputs": [
    {
     "name": "stdout",
     "output_type": "stream",
     "text": [
      "Threads alive in the starting: [<_MainThread(MainThread, started 139773532784448)>, <Thread(IOPub, started daemon 139773462255168)>, <Heartbeat(Heartbeat, started daemon 139773453862464)>, <Thread(Thread-3 (_watch_pipe_fd), started daemon 139773428684352)>, <Thread(Thread-4 (_watch_pipe_fd), started daemon 139773420291648)>, <ControlThread(Control, started daemon 139773411898944)>, <HistorySavingThread(IPythonHistorySavingThread, started 139772932650560)>, <ParentPollerUnix(Thread-2, started daemon 139772924257856)>]\n",
      "\n",
      "Threads alive when thread_2 executes\n",
      "<_MainThread(MainThread, started 139773532784448)>\n",
      "<Thread(IOPub, started daemon 139773462255168)>\n",
      "<Heartbeat(Heartbeat, started daemon 139773453862464)>\n",
      "<Thread(Thread-3 (_watch_pipe_fd), started daemon 139773428684352)>\n",
      "<Thread(Thread-4 (_watch_pipe_fd), started daemon 139773420291648)>\n",
      "<ControlThread(Control, started daemon 139773411898944)>\n",
      "<HistorySavingThread(IPythonHistorySavingThread, started 139772932650560)>\n",
      "<ParentPollerUnix(Thread-2, started daemon 139772924257856)>\n",
      "<Thread(Thread-19 (thread_1), started 139772362208832)>\n",
      "<Thread(Thread-20 (thread_2), started 139772353816128)>\n",
      "\n",
      "Threads alive when thread_4 executes\n",
      "<_MainThread(MainThread, started 139773532784448)>\n",
      "<Thread(IOPub, started daemon 139773462255168)>\n",
      "<Heartbeat(Heartbeat, started daemon 139773453862464)>\n",
      "<Thread(Thread-3 (_watch_pipe_fd), started daemon 139773428684352)>\n",
      "<Thread(Thread-4 (_watch_pipe_fd), started daemon 139773420291648)>\n",
      "<ControlThread(Control, started daemon 139773411898944)>\n",
      "<HistorySavingThread(IPythonHistorySavingThread, started 139772932650560)>\n",
      "<ParentPollerUnix(Thread-2, started daemon 139772924257856)>\n",
      "<Thread(Thread-19 (thread_1), started 139772362208832)>\n",
      "<Thread(Thread-21 (thread_3), started 139772353816128)>\n",
      "<Thread(Thread-22 (thread_4), started 139772370601536)>\n",
      "\n",
      "Threads alive when thread_1 executes:\n",
      "<_MainThread(MainThread, started 139773532784448)>\n",
      "<Thread(IOPub, started daemon 139773462255168)>\n",
      "<Heartbeat(Heartbeat, started daemon 139773453862464)>\n",
      "<Thread(Thread-3 (_watch_pipe_fd), started daemon 139773428684352)>\n",
      "<Thread(Thread-4 (_watch_pipe_fd), started daemon 139773420291648)>\n",
      "<ControlThread(Control, started daemon 139773411898944)>\n",
      "<HistorySavingThread(IPythonHistorySavingThread, started 139772932650560)>\n",
      "<ParentPollerUnix(Thread-2, started daemon 139772924257856)>\n",
      "<Thread(Thread-19 (thread_1), started 139772362208832)>\n",
      "\n"
     ]
    }
   ],
   "source": [
    "#enumerate() example\n",
    "\n",
    "import time\n",
    "import threading\n",
    "\n",
    "def thread_1(i):\n",
    "    time.sleep(5)\n",
    "    print(\"Threads alive when thread_1 executes:\")\n",
    "    print(*threading.enumerate(), sep = \"\\n\")\n",
    "        \n",
    "    print()\n",
    "\n",
    "def thread_2(i):\n",
    "    print(\"Threads alive when thread_2 executes\")\n",
    "    print(*threading.enumerate(), sep = \"\\n\")\n",
    "    print()\n",
    "    \n",
    "def thread_3(i):\n",
    "    time.sleep(4)\n",
    "    \n",
    "    \n",
    "def thread_4(i):\n",
    "    time.sleep(1)\n",
    "    print(\"Threads alive when thread_4 executes\")\n",
    "    print(*threading.enumerate(), sep = \"\\n\")\n",
    "    print()\n",
    "\n",
    "# Creating sample threads \n",
    "thread1 = threading.Thread(target=thread_1, args=(10,))\n",
    "thread2 = threading.Thread(target=thread_2, args=(20,))\n",
    "thread3 = threading.Thread(target=thread_3, args=(30,))\n",
    "thread4 = threading.Thread(target=thread_4, args=(50,))\n",
    "\n",
    "print(\"Threads alive in the starting:\", threading.enumerate())\n",
    "print()\n",
    "\n",
    "# Starting the threads\n",
    "thread1.start()\n",
    "thread2.start()\n",
    "thread3.start()\n",
    "thread4.start()"
   ]
  },
  {
   "cell_type": "markdown",
   "id": "f167c6e6-3fb9-4a9f-b668-302d538accfd",
   "metadata": {},
   "source": [
    "3. Explain the following functions\n",
    "1)run()\n",
    "2)start()\n",
    "3)join()\n",
    "4)isAlive()"
   ]
  },
  {
   "cell_type": "markdown",
   "id": "f6807b28-ad2b-4c70-b668-4c3ad4f07d1a",
   "metadata": {},
   "source": [
    "1) run(): \n",
    "The .run() method executes any target function belonging to a given thread object that is now active. It normally executes in the background after the .start() method is invoked."
   ]
  },
  {
   "cell_type": "code",
   "execution_count": 7,
   "id": "59f9a2a6-3032-498d-984a-7062a4b7f5f6",
   "metadata": {},
   "outputs": [
    {
     "name": "stdout",
     "output_type": "stream",
     "text": [
      "This is my custom run!\n"
     ]
    }
   ],
   "source": [
    "#The .run() method can be overridden with different instructions and statements in a separate subclass, like in the example below:\n",
    "\n",
    "import threading\n",
    "\n",
    "class CustomThread(threading.Thread):\n",
    "     def run(self):\n",
    "            print(\"This is my custom run!\")\n",
    "\n",
    "custom_thread = CustomThread()\n",
    "custom_thread.start()\n",
    "\n",
    "#After the .start() method is called against the custom_thread, the overriden .run() method is executed and the following is printed:"
   ]
  },
  {
   "cell_type": "markdown",
   "id": "4b9b947a-2de2-447b-a87d-f06816f103d3",
   "metadata": {},
   "source": [
    "2)start():\n",
    "The Thread.start() method is an inbuilt method of the Thread class of the threading module, it is used to start a thread's activity. This method calls the run() method internally which then executes the target method. This method must be called at most one time for one thread. If it is called more than once, it raises a RuntimeError."
   ]
  },
  {
   "cell_type": "code",
   "execution_count": 8,
   "id": "d6393d3b-a2ed-4003-84cd-14d7a45fdf79",
   "metadata": {},
   "outputs": [
    {
     "name": "stdout",
     "output_type": "stream",
     "text": [
      "Value by Thread 2: 2\n",
      "Value by Thread 1: 1\n"
     ]
    }
   ],
   "source": [
    "\n",
    "import time\n",
    "import threading\n",
    "\n",
    "def thread_1(i):\n",
    "    time.sleep(5)\n",
    "    print('Value by Thread 1:', i)\n",
    "\n",
    "def thread_2(i):\n",
    "    print('Value by Thread 2:', i)\n",
    "    \n",
    "# Creating two sample threads \n",
    "thread1 = threading.Thread(target=thread_1, args=(1,))\n",
    "thread2 = threading.Thread(target=thread_2, args=(2,))\n",
    "\n",
    "# Starting two threads\n",
    "thread1.start()\n",
    "thread2.start()"
   ]
  },
  {
   "cell_type": "markdown",
   "id": "1de8dc74-d62a-4b33-8d13-baefc2947922",
   "metadata": {},
   "source": [
    "3)join(): \n"
   ]
  },
  {
   "cell_type": "markdown",
   "id": "03e313c2-5b4b-4a63-9525-a36c5df61ac6",
   "metadata": {},
   "source": [
    "The .join() method delays a program’s flow of execution until the target thread has been completely read."
   ]
  },
  {
   "cell_type": "code",
   "execution_count": 1,
   "id": "a606c644-d7bb-477a-8849-4bb73cf4d3c1",
   "metadata": {},
   "outputs": [
    {
     "name": "stdout",
     "output_type": "stream",
     "text": [
      "Starting...\n",
      "True\n",
      "Finished\n",
      "Starting...\n",
      "False\n",
      "Finished\n"
     ]
    }
   ],
   "source": [
    "import threading\n",
    "\n",
    "def is_divisible(dividend, divisor):\n",
    "  print(\"Starting...\")\n",
    "  if(dividend % divisor == 0):\n",
    "    print(True)\n",
    "  else:\n",
    "    print(False)\n",
    "  print(\"Finished\")\n",
    "\n",
    "thread_A = threading.Thread(target=is_divisible, args=(28, 14))\n",
    "thread_B = threading.Thread(target=is_divisible, args=(34, 7))\n",
    "\n",
    "thread_A.start()\n",
    "thread_A.join()\n",
    "\n",
    "thread_B.start()\n",
    "thread_B.join()\n"
   ]
  },
  {
   "cell_type": "markdown",
   "id": "c412fd8a-3b44-49fd-9eaa-3330716394f2",
   "metadata": {},
   "source": [
    "4) is_alive():\n",
    "The Thread.is_alive() method is an inbuilt method of the Thread class of the threading module, it is used to check whether that thread is alive or not, ie, it is still running or not. This method returns True before the run() starts until just after the run() method is executed."
   ]
  },
  {
   "cell_type": "markdown",
   "id": "dfcd7b7b-601e-4e80-b9c1-5d5a2a9be37a",
   "metadata": {},
   "source": [
    "4. write a python program to create two threads. Thread one must print the list of squares and thread two must print the list of cubes"
   ]
  },
  {
   "cell_type": "code",
   "execution_count": 17,
   "id": "787b5f77-f440-405b-95c0-4602854f4014",
   "metadata": {},
   "outputs": [
    {
     "name": "stdout",
     "output_type": "stream",
     "text": [
      "Square: 0\n",
      "Square: 1\n",
      "Square: 4\n",
      "Square: 9\n",
      "Square: 16\n",
      "Square: 25\n",
      "Square: 36\n",
      "Square: 49\n",
      "Square: 64\n",
      "Square: 81\n",
      "Cube: 0\n",
      "Cube: 1\n",
      "Cube: 8\n",
      "Cube: 27\n",
      "Cube: 64\n",
      "Cube: 125\n",
      "Cube: 216\n",
      "Cube: 343\n",
      "Cube: 512\n",
      "Cube: 729\n",
      "Done!\n"
     ]
    }
   ],
   "source": [
    "import threading\n",
    " \n",
    "def print_cube(num):\n",
    "    # function to print cube of given num\n",
    "    print(\"Cube: {}\" .format(num * num * num))\n",
    " \n",
    " \n",
    "def print_square(num):\n",
    "    \n",
    "    print(\"Square: {}\" .format(num * num))\n",
    " \n",
    " \n",
    "if __name__ ==\"__main__\":\n",
    "   \n",
    "    t1 = [threading.Thread(target=print_square, args=(i,)) for i in range(10)]\n",
    "    t2 = [threading.Thread(target=print_cube, args=(i,)) for i in range(10)]\n",
    "    for i in t1:  \n",
    "         i.start()  \n",
    "    for j in t2:\n",
    "            j.start()    \n",
    "           \n",
    "  \n",
    "    print(\"Done!\")"
   ]
  },
  {
   "cell_type": "markdown",
   "id": "47fa1e27-68d6-4b1a-bbc4-dd56e58a034b",
   "metadata": {},
   "source": [
    "5. State advantages and disadvantages of multithreading"
   ]
  },
  {
   "cell_type": "markdown",
   "id": "1e6e338b-4dcc-4c93-a819-f10760658418",
   "metadata": {},
   "source": [
    "Advantages:\n",
    "\n",
    "Improved performance: Multithreading can help increase the overall performance of an application, especially on systems with multiple processors or cores. It allows multiple tasks to run concurrently, utilizing the available CPU resources more efficiently.\n",
    "\n",
    "Responsiveness: In a single-threaded environment, if a long-running task blocks the main thread, the entire application becomes unresponsive. Multithreading can prevent this issue by running such tasks in separate threads, ensuring the application remains responsive.\n",
    "\n",
    "Better resource utilization: Multithreading allows better utilization of system resources by keeping the CPU busy while waiting for I/O operations or other tasks to complete.\n",
    "\n",
    "Simplified modeling: Some problems can be more naturally modeled using multiple threads. This makes the program easier to design, understand, and maintain.\n",
    "\n",
    "Parallelism: Multithreading enables parallelism, which can lead t"
   ]
  },
  {
   "cell_type": "markdown",
   "id": "76f412a5-38aa-4098-aebd-3b31309b799d",
   "metadata": {},
   "source": [
    "Disadvantages:\n",
    "Complexity: Multithreading adds complexity to the program, making it more difficult to design, implement, and debug. Developers need to be aware of synchronization, deadlocks, race conditions, and other concurrency-related issues.\n",
    "\n",
    "Synchronization overhead: To avoid data corruption and maintain consistency, developers must synchronize access to shared resources, which can result in additional overhead and reduced performance.\n",
    "\n",
    "Context switching: Context switching between threads consumes CPU time and resources, which can lead to performance degradation if not managed efficiently.\n",
    "\n",
    "Hard to predict behavior: Due to the concurrent nature of multithreading, the behavior of the program can be hard to predict and reproduce, especially when it comes to debugging.\n",
    "\n",
    "Limited by hardware: The performance benefits of multithreading are limited by the number of available cores or processors in the system. In some cases, excessive use of threads can lead to performance degradation instead of improvement."
   ]
  },
  {
   "cell_type": "markdown",
   "id": "eb621ceb-23b7-43b6-a274-3b4a462a0748",
   "metadata": {},
   "source": [
    "6. Explain deadlocks and race conditions."
   ]
  },
  {
   "cell_type": "markdown",
   "id": "7230cddb-93c0-482f-9a8a-b237c06c429d",
   "metadata": {},
   "source": [
    "A race condition occurs when two threads use the same variable at a given time. Deadlock exists when two threads seek one lock simultaneously.  \n",
    "\n",
    "This situation will stop both threads from processing or executing the functions. In racing, two tasks compete with each other and try to complete a task before each other.\n",
    "\n",
    "In a deadlock, two processes are waiting and expecting the complementary process to complete the task.\n",
    "\n"
   ]
  },
  {
   "cell_type": "code",
   "execution_count": 9,
   "id": "982d0528-d1ec-44bc-834f-8028ebbd0706",
   "metadata": {},
   "outputs": [
    {
     "name": "stdout",
     "output_type": "stream",
     "text": [
      "firstFibonaci resource is 1 \n",
      "\n",
      "1\n",
      "1\n",
      "2\n",
      "3\n",
      "5\n",
      "8\n",
      "13\n",
      "21\n",
      "34\n",
      "55\n",
      "secondFibonaci resource is 11 \n",
      "\n"
     ]
    }
   ],
   "source": [
    "from threading import Thread,Lock\n",
    "x = 1 #Shared resource\n",
    "#Initialize an instance of object Lock\n",
    "lock_race = Lock()\n",
    "def fibonaci(n):\n",
    "    if n<=2 : return 1\n",
    "    return fibonaci(n-1) + fibonaci(n-2)\n",
    "def firstFibonaci():\n",
    "    global x\n",
    "    try:\n",
    "        lock_race.acquire() # Graph a lock\n",
    "        print(\"firstFibonaci resource is {} \\n\".format(x) )\n",
    "        while x <= 10:\n",
    "            print(fibonaci(x))\n",
    "            x+=1\n",
    "    finally:\n",
    "        # Release the lock, now it is free, and can be graphed by \n",
    "        # the second thread\n",
    "        lock_race.release() \n",
    "def secondFibonaci():\n",
    "    global x\n",
    "    try:\n",
    "        lock_race.acquire()\n",
    "        print(\"secondFibonaci resource is {} \\n\".format(x) )\n",
    "        while x <= 10:\n",
    "            print(fibonaci(x))\n",
    "            x+=1\n",
    "    finally:\n",
    "        lock_race.release()\n",
    "Parallel_1 = Thread(target=firstFibonaci)\n",
    "Parallel_2 = Thread(target=secondFibonaci)\n",
    "Parallel_1.start()\n",
    "Parallel_2.start()\n",
    "Parallel_1.join()\n",
    "Parallel_2.join()"
   ]
  },
  {
   "cell_type": "code",
   "execution_count": null,
   "id": "00b47ddb-5ced-4032-87e2-8647a1e6278e",
   "metadata": {},
   "outputs": [],
   "source": [
    "import threading\n",
    "import time\n",
    "def thread_a():\n",
    "        print('Thread A is starting...') \n",
    "        print('Thread A waiting to acquire lock A.')\n",
    "        lock_a.acquire()\n",
    "        print('Thread A has acquired lock A, performing some calculation...')\n",
    "\n",
    "        time.sleep(2)\n",
    "        print('Thread A waiting to acquire lock B.')\n",
    "        lock_b.acquire()\n",
    "        print('Thread A has acquired lock B, performing some calculation...')\n",
    "        time.sleep(2)\n",
    "        print('Thread A releasing both locks.')\n",
    "        lock_a.release()\n",
    "        lock_b.release()\n",
    "def thread_b():\n",
    "        print('Thread B is starting...')\n",
    "        print('Thread B waiting to acquire lock B.')\n",
    "        lock_b.acquire()\n",
    "        print('Thread B has acquired lock B, performing some calculation...')\n",
    "        time.sleep(5)\n",
    "        print('Thread B waiting to acquire lock A.')\n",
    "        lock_a.acquire()\n",
    "        print('Thread B has acquired lock A, performing some calculation...')\n",
    "        time.sleep(5)\n",
    "        print('Thread B releasing both locks.')\n",
    "        lock_b.release()\n",
    "        lock_a.release()\n",
    "lock_a = threading.Lock()\n",
    "lock_b = threading.Lock()\n",
    "\n",
    "thread1 = threading.Thread(target=thread_a)\n",
    "thread2 = threading.Thread(target=thread_b)\n",
    "thread1.start()\n",
    "thread2.start()\n",
    "thread1.join()\n",
    "thread2.join()\n",
    "\n",
    "print('Finished.')"
   ]
  },
  {
   "cell_type": "code",
   "execution_count": null,
   "id": "c0d5d409-e87f-479a-888e-5d9e69882c95",
   "metadata": {},
   "outputs": [],
   "source": []
  }
 ],
 "metadata": {
  "kernelspec": {
   "display_name": "Python 3 (ipykernel)",
   "language": "python",
   "name": "python3"
  },
  "language_info": {
   "codemirror_mode": {
    "name": "ipython",
    "version": 3
   },
   "file_extension": ".py",
   "mimetype": "text/x-python",
   "name": "python",
   "nbconvert_exporter": "python",
   "pygments_lexer": "ipython3",
   "version": "3.10.8"
  }
 },
 "nbformat": 4,
 "nbformat_minor": 5
}
