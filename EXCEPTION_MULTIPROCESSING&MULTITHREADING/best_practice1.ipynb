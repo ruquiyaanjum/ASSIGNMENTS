{
 "cells": [
  {
   "cell_type": "markdown",
   "id": "955d73f0-7de2-44ec-9264-1ec03bb2f081",
   "metadata": {},
   "source": [
    "BEST PRACTICE OF EXCEPTION HANDLING"
   ]
  },
  {
   "cell_type": "markdown",
   "id": "a3748004-c6e3-4030-b35f-62dd66848e38",
   "metadata": {},
   "source": [
    "1) use always a specific exception"
   ]
  },
  {
   "cell_type": "code",
   "execution_count": 1,
   "id": "6a6f22f3-f9db-4cbb-b047-eed4d2e7daa4",
   "metadata": {},
   "outputs": [
    {
     "name": "stdout",
     "output_type": "stream",
     "text": [
      "division by zero\n"
     ]
    }
   ],
   "source": [
    "#not a good practice\n",
    "try:\n",
    "    10/0\n",
    "except Exception as e:\n",
    "    print(e)"
   ]
  },
  {
   "cell_type": "code",
   "execution_count": 2,
   "id": "8bf2ccbf-1dca-4693-9ef2-c0ba17b63b5b",
   "metadata": {},
   "outputs": [
    {
     "name": "stdout",
     "output_type": "stream",
     "text": [
      "division by zero\n"
     ]
    }
   ],
   "source": [
    "#good \n",
    "try:\n",
    "    10/0\n",
    "except ZeroDivisionError as e:\n",
    "    print(e)"
   ]
  },
  {
   "cell_type": "markdown",
   "id": "4f9940bc-bc89-43d8-bc38-b433f1bfe6e1",
   "metadata": {},
   "source": [
    "2) print always a proper message"
   ]
  },
  {
   "cell_type": "code",
   "execution_count": 4,
   "id": "d37de8a8-3dd1-43f3-b72e-7586a8501f2e",
   "metadata": {},
   "outputs": [
    {
     "name": "stdout",
     "output_type": "stream",
     "text": [
      "I am trying to handle a zero Division Error: division by zero\n"
     ]
    }
   ],
   "source": [
    "#good \n",
    "try:\n",
    "    10/0\n",
    "except ZeroDivisionError as e:\n",
    "    print(\"I am trying to handle a zero Division Error:\",e)\n",
    "    "
   ]
  },
  {
   "cell_type": "markdown",
   "id": "f8c2ff8f-07f8-4462-af3d-73363bed5921",
   "metadata": {},
   "source": [
    "3) Always try to log ur error"
   ]
  },
  {
   "cell_type": "code",
   "execution_count": 1,
   "id": "c2122f4b-f417-4438-be65-58d0cf42b9d8",
   "metadata": {},
   "outputs": [],
   "source": [
    "import logging\n",
    "logging.basicConfig(filename=\"error.log\",level=logging.ERROR,format=\"%(asctime)s %(name)s %(levelname)s %(message)s\")\n",
    "\n",
    "try:\n",
    "    10/0\n",
    "except ZeroDivisionError as e:\n",
    "    logging.error(\"this is the zero division error : {}\".format(e))\n",
    "    "
   ]
  },
  {
   "cell_type": "markdown",
   "id": "0771cbb8-0bd5-45ed-8566-bafacf427b25",
   "metadata": {},
   "source": [
    "4) always avoid to write a multiple exception"
   ]
  },
  {
   "cell_type": "code",
   "execution_count": 2,
   "id": "67d7caa2-ec10-42f0-8533-e915d0ff5da6",
   "metadata": {},
   "outputs": [
    {
     "name": "stdout",
     "output_type": "stream",
     "text": [
      "I am trying to handle a zero Division Error: division by zero\n"
     ]
    }
   ],
   "source": [
    "import logging\n",
    "logging.basicConfig(filename=\"error.log\",level=logging.ERROR,format=\"%(asctime)s %(name)s %(levelname)s %(message)s\")\n",
    "\n",
    "try:\n",
    "    10/0\n",
    "except TypeError as e:\n",
    "    print(e)\n",
    "except FileNotFoundError as e:\n",
    "    print(e)\n",
    "except AttributeError as e:\n",
    "    print(e)\n",
    "except ZeroDivisionError as e:\n",
    "    print(\"I am trying to handle a zero Division Error:\",e)\n",
    "    "
   ]
  },
  {
   "cell_type": "markdown",
   "id": "104c3481-b0d8-4f6c-92f5-4f532a03ec09",
   "metadata": {},
   "source": [
    "5)Document all the error\n",
    "6)cleanup all the resources"
   ]
  },
  {
   "cell_type": "code",
   "execution_count": 3,
   "id": "b2650fc3-5227-46ed-be65-6fb7215b3381",
   "metadata": {},
   "outputs": [],
   "source": [
    "try:\n",
    "    with open(\"data.txt\",\"w\") as f:\n",
    "        f.write(\"this is my txt file\")\n",
    "except FileNotFoundError as e:\n",
    "    print(\"this is a file not found error :\",e)\n",
    "finally:\n",
    "    f.close()"
   ]
  }
 ],
 "metadata": {
  "kernelspec": {
   "display_name": "Python 3 (ipykernel)",
   "language": "python",
   "name": "python3"
  },
  "language_info": {
   "codemirror_mode": {
    "name": "ipython",
    "version": 3
   },
   "file_extension": ".py",
   "mimetype": "text/x-python",
   "name": "python",
   "nbconvert_exporter": "python",
   "pygments_lexer": "ipython3",
   "version": "3.10.8"
  }
 },
 "nbformat": 4,
 "nbformat_minor": 5
}
