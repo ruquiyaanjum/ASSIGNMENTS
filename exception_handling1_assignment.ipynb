{
 "cells": [
  {
   "cell_type": "markdown",
   "id": "9ea924bf-7aa3-449a-80ab-b97413f1fd75",
   "metadata": {},
   "source": [
    "#Exception handling 1 assignment"
   ]
  },
  {
   "cell_type": "markdown",
   "id": "242edeff-3d4e-4bad-ad79-345a03fded8d",
   "metadata": {},
   "source": [
    "1)What is an Exception in python? Write the difference between Exceptions and Syntax errors."
   ]
  },
  {
   "cell_type": "markdown",
   "id": "7026474e-951b-4d15-a4ac-340bed6ce18a",
   "metadata": {},
   "source": [
    "Error occurs when the exceution of program happen, to avoid this error, we are using exception."
   ]
  },
  {
   "cell_type": "code",
   "execution_count": 33,
   "id": "7c5b98d0-95ba-4254-8e26-62f6677eb75e",
   "metadata": {},
   "outputs": [
    {
     "ename": "ZeroDivisionError",
     "evalue": "division by zero",
     "output_type": "error",
     "traceback": [
      "\u001b[0;31m---------------------------------------------------------------------------\u001b[0m",
      "\u001b[0;31mZeroDivisionError\u001b[0m                         Traceback (most recent call last)",
      "Cell \u001b[0;32mIn[33], line 1\u001b[0m\n\u001b[0;32m----> 1\u001b[0m \u001b[38;5;241;43m10\u001b[39;49m\u001b[38;5;241;43m/\u001b[39;49m\u001b[38;5;241;43m0\u001b[39;49m\n\u001b[1;32m      2\u001b[0m \u001b[38;5;241m1\u001b[39m\u001b[38;5;241m+\u001b[39m\u001b[38;5;241m2\u001b[39m\n",
      "\u001b[0;31mZeroDivisionError\u001b[0m: division by zero"
     ]
    }
   ],
   "source": [
    "10/0  #python is sequential program(which means it exceutes line by line code) to avoid this also using exception concept\n",
    "1+2"
   ]
  },
  {
   "cell_type": "code",
   "execution_count": 10,
   "id": "d3c96abd-34bd-4d21-95cf-0be0eb24b2d1",
   "metadata": {},
   "outputs": [],
   "source": [
    "import logging\n",
    "logging.basicConfig(filename=\"error.log\",level=logging.DEBUG,format=\"%(asctime)s %(name)s %(levelname)s %(message)s\")\n",
    "try:\n",
    "    10/0\n",
    "except ZeroDivisionError as e:\n",
    "    logging.error(\"this is a Zero Division Error : {}\".format(e))\n",
    "    "
   ]
  },
  {
   "cell_type": "code",
   "execution_count": null,
   "id": "fce3a615-7c38-4ec9-9fca-ff48b0ae3684",
   "metadata": {},
   "outputs": [],
   "source": [
    "Syntax error occurs when we are learning a python. we dont no the proper format."
   ]
  },
  {
   "cell_type": "code",
   "execution_count": 2,
   "id": "2e820deb-7cf5-49bb-b384-e2aad979a198",
   "metadata": {},
   "outputs": [
    {
     "ename": "SyntaxError",
     "evalue": "expected ':' (16919832.py, line 1)",
     "output_type": "error",
     "traceback": [
      "\u001b[0;36m  Cell \u001b[0;32mIn[2], line 1\u001b[0;36m\u001b[0m\n\u001b[0;31m    while True\u001b[0m\n\u001b[0m              ^\u001b[0m\n\u001b[0;31mSyntaxError\u001b[0m\u001b[0;31m:\u001b[0m expected ':'\n"
     ]
    }
   ],
   "source": [
    "#example of syntax error\n",
    "while True\n",
    "  logging.error(\"this is my invalid syntax\")\n",
    "\n",
    "\"\"\"while True:\n",
    "       logging.info(\"this a valid syntax\")\"\"\""
   ]
  },
  {
   "cell_type": "markdown",
   "id": "b595ed97-b953-4775-a17e-44da545c70a6",
   "metadata": {},
   "source": [
    "Exception occur during exceution of code , if syntax is correct also.\n",
    "1)ZeroDivisionError\n",
    "2)AttributeError\n",
    "3)FileNotFoundError ... etc"
   ]
  },
  {
   "cell_type": "code",
   "execution_count": 4,
   "id": "6bc3d3da-623a-4781-b22a-12d6922c4cbe",
   "metadata": {},
   "outputs": [],
   "source": [
    "try:\n",
    "    with open(\"data1.txt\",\"r\") as f:\n",
    "        logging.info(f.read())    \n",
    "except FileNotFoundError as e:\n",
    "    logging.error(\"this is a File not found error : {}\".format(e))  "
   ]
  },
  {
   "cell_type": "markdown",
   "id": "a1b9477f-1a8d-42d4-ad1b-24fa37fa76ba",
   "metadata": {},
   "source": [
    "Q2. What happens when an exception is not handled? Explain with an example."
   ]
  },
  {
   "cell_type": "markdown",
   "id": "c1812840-18fa-4294-8e03-c545d27d0003",
   "metadata": {},
   "source": [
    "the runtime system will abort the program means it will crash the code and print the exception to the console.\n",
    "\n",
    "and wont exceute the code it will stop there only (python is a line by line code exceution)  , so to avoid this also we are using exception handling."
   ]
  },
  {
   "cell_type": "code",
   "execution_count": 6,
   "id": "dd51264f-2a2e-49ed-8ff7-db6424e89c6f",
   "metadata": {},
   "outputs": [
    {
     "ename": "FileNotFoundError",
     "evalue": "[Errno 2] No such file or directory: 'data3.txt'",
     "output_type": "error",
     "traceback": [
      "\u001b[0;31m---------------------------------------------------------------------------\u001b[0m",
      "\u001b[0;31mFileNotFoundError\u001b[0m                         Traceback (most recent call last)",
      "Cell \u001b[0;32mIn[6], line 1\u001b[0m\n\u001b[0;32m----> 1\u001b[0m \u001b[38;5;28;01mwith\u001b[39;00m \u001b[38;5;28;43mopen\u001b[39;49m\u001b[43m(\u001b[49m\u001b[38;5;124;43m\"\u001b[39;49m\u001b[38;5;124;43mdata3.txt\u001b[39;49m\u001b[38;5;124;43m\"\u001b[39;49m\u001b[43m,\u001b[49m\u001b[38;5;124;43m\"\u001b[39;49m\u001b[38;5;124;43mr\u001b[39;49m\u001b[38;5;124;43m\"\u001b[39;49m\u001b[43m)\u001b[49m \u001b[38;5;28;01mas\u001b[39;00m f:\n\u001b[1;32m      2\u001b[0m      \u001b[38;5;28;01mpass\u001b[39;00m\n",
      "File \u001b[0;32m/opt/conda/lib/python3.10/site-packages/IPython/core/interactiveshell.py:282\u001b[0m, in \u001b[0;36m_modified_open\u001b[0;34m(file, *args, **kwargs)\u001b[0m\n\u001b[1;32m    275\u001b[0m \u001b[38;5;28;01mif\u001b[39;00m file \u001b[38;5;129;01min\u001b[39;00m {\u001b[38;5;241m0\u001b[39m, \u001b[38;5;241m1\u001b[39m, \u001b[38;5;241m2\u001b[39m}:\n\u001b[1;32m    276\u001b[0m     \u001b[38;5;28;01mraise\u001b[39;00m \u001b[38;5;167;01mValueError\u001b[39;00m(\n\u001b[1;32m    277\u001b[0m         \u001b[38;5;124mf\u001b[39m\u001b[38;5;124m\"\u001b[39m\u001b[38;5;124mIPython won\u001b[39m\u001b[38;5;124m'\u001b[39m\u001b[38;5;124mt let you open fd=\u001b[39m\u001b[38;5;132;01m{\u001b[39;00mfile\u001b[38;5;132;01m}\u001b[39;00m\u001b[38;5;124m by default \u001b[39m\u001b[38;5;124m\"\u001b[39m\n\u001b[1;32m    278\u001b[0m         \u001b[38;5;124m\"\u001b[39m\u001b[38;5;124mas it is likely to crash IPython. If you know what you are doing, \u001b[39m\u001b[38;5;124m\"\u001b[39m\n\u001b[1;32m    279\u001b[0m         \u001b[38;5;124m\"\u001b[39m\u001b[38;5;124myou can use builtins\u001b[39m\u001b[38;5;124m'\u001b[39m\u001b[38;5;124m open.\u001b[39m\u001b[38;5;124m\"\u001b[39m\n\u001b[1;32m    280\u001b[0m     )\n\u001b[0;32m--> 282\u001b[0m \u001b[38;5;28;01mreturn\u001b[39;00m \u001b[43mio_open\u001b[49m\u001b[43m(\u001b[49m\u001b[43mfile\u001b[49m\u001b[43m,\u001b[49m\u001b[43m \u001b[49m\u001b[38;5;241;43m*\u001b[39;49m\u001b[43margs\u001b[49m\u001b[43m,\u001b[49m\u001b[43m \u001b[49m\u001b[38;5;241;43m*\u001b[39;49m\u001b[38;5;241;43m*\u001b[39;49m\u001b[43mkwargs\u001b[49m\u001b[43m)\u001b[49m\n",
      "\u001b[0;31mFileNotFoundError\u001b[0m: [Errno 2] No such file or directory: 'data3.txt'"
     ]
    }
   ],
   "source": [
    "with open(\"data3.txt\",\"r\") as f:\n",
    "     pass\n",
    "24+27  #this wont exceute"
   ]
  },
  {
   "cell_type": "code",
   "execution_count": 12,
   "id": "3a15d1bd-a0bd-419b-b8c6-a98c90e22cfd",
   "metadata": {},
   "outputs": [],
   "source": [
    "try:\n",
    "    with open(\"data3.txt\",\"r\") as f:\n",
    "        logging.info((f.read()))    \n",
    "except FileNotFoundError as e:\n",
    "    logging.error(\"this is a File not found error : {}\".format(e)) "
   ]
  },
  {
   "cell_type": "markdown",
   "id": "621a12a2-8922-44e1-ad7e-8f6dc442b77b",
   "metadata": {},
   "source": [
    "Q3. Which Python statements are used to catch and handle exceptions? Explain with an example."
   ]
  },
  {
   "cell_type": "markdown",
   "id": "a22c64ec-4c35-4f32-8a4c-682763f03523",
   "metadata": {},
   "source": [
    "Python statements are used to catch and handle exceptions : try and except block"
   ]
  },
  {
   "cell_type": "code",
   "execution_count": 11,
   "id": "83854b89-80e4-4e31-a4e1-8713ec758f97",
   "metadata": {},
   "outputs": [],
   "source": [
    "try:\n",
    "    10/0\n",
    "except ZeroDivisionError as e:\n",
    "    logging.error(\"this is a zero division error : {}\".format(e))\n",
    "else:\n",
    "    logging.info(\" try executed completely : {}\")\n",
    "finally:\n",
    "    logging.info(\"finally exceuted at any situation\")"
   ]
  },
  {
   "cell_type": "markdown",
   "id": "7bc70656-5081-43fa-a566-3c5036c523ee",
   "metadata": {},
   "source": [
    "Q4. Explain with an example:\n",
    "try and else\n",
    "finally\n",
    "raise \n"
   ]
  },
  {
   "cell_type": "markdown",
   "id": "1f49cf2c-ab33-467c-81fa-44fd38973fa9",
   "metadata": {},
   "source": [
    "1)try and else : once try block code executes completely then only else condition will exceute.\n",
    "\n",
    "2)finally : this will execute at any situation , so it used in closing the database connection or file clossing.\n",
    "\n",
    "3) raise  -- raise an error (we can write, what type of error it is).\n"
   ]
  },
  {
   "cell_type": "code",
   "execution_count": 15,
   "id": "ca9bd4c9-3b95-4801-aab9-3a75698e9683",
   "metadata": {},
   "outputs": [],
   "source": [
    "try:\n",
    "    with open(\"data.txt\",\"w\") as f:\n",
    "         f.write(\"this is my txt file\")\n",
    "except FileNotFoundError as e:\n",
    "    logging.error(\" this file is not vailable : {}\".format(e))\n",
    "else:\n",
    "    f.close()"
   ]
  },
  {
   "cell_type": "code",
   "execution_count": 16,
   "id": "55b85753-0bdd-4ad6-af13-7a77c15d7f4b",
   "metadata": {},
   "outputs": [],
   "source": [
    "try:\n",
    "    with open(\"data15.txt\",\"w\") as f:\n",
    "         f.write(\"this is my txt file\")\n",
    "except FileNotFoundError as e:\n",
    "    logging.error(\" this file is not vailable : {}\".format(e))\n",
    "else:\n",
    "    logging.info(\"try block exceute properly\")\n",
    "finally:\n",
    "    f.close()"
   ]
  },
  {
   "cell_type": "code",
   "execution_count": 17,
   "id": "c5983926-d317-4113-9938-93e9a79d9280",
   "metadata": {},
   "outputs": [],
   "source": [
    "class validateAge(Exception):\n",
    "    def __init__(self,msg):\n",
    "        self.msg=msg"
   ]
  },
  {
   "cell_type": "code",
   "execution_count": 18,
   "id": "8d526217-7e05-41c8-a822-33afbb2e5121",
   "metadata": {},
   "outputs": [],
   "source": [
    "def AgeValidation(age):\n",
    "    if age<0:\n",
    "        raise validateAge(\"age is negative\")\n",
    "    elif age>120:\n",
    "        raise validateAge(\"age is high\")\n",
    "    else:\n",
    "        logging.info(\"AGE IS VALID\")"
   ]
  },
  {
   "cell_type": "code",
   "execution_count": 20,
   "id": "6dd22c2b-ac92-4e9d-80cc-99fae31739a2",
   "metadata": {},
   "outputs": [
    {
     "name": "stdin",
     "output_type": "stream",
     "text": [
      "enter your age: 34\n"
     ]
    }
   ],
   "source": [
    "try:\n",
    "    age=int(input(\"enter your age:\"))\n",
    "    AgeValidation(age)\n",
    "except validateAge as e:\n",
    "    logging.error(\"issue with age : {}\".format(e))"
   ]
  },
  {
   "cell_type": "markdown",
   "id": "49402be0-3a1d-4069-9552-7a3a7b626d06",
   "metadata": {},
   "source": [
    "Q5. What are Custom Exceptions in python? Why do we need Custom Exceptions? Explain with an example."
   ]
  },
  {
   "cell_type": "markdown",
   "id": "88667b5f-940d-467d-8df7-fb2614f79116",
   "metadata": {},
   "source": [
    "custom exception -- creating our own exception handling .. \n",
    "In exception (superclass) there is no function of that error .. so we can write our own exception\n",
    "for example"
   ]
  },
  {
   "cell_type": "code",
   "execution_count": null,
   "id": "7687fef2-42d4-4bec-b928-8b652959f101",
   "metadata": {},
   "outputs": [],
   "source": [
    "class validateAge(Exception):\n",
    "    def __init__(self,msg):\n",
    "        self.msg=msg"
   ]
  },
  {
   "cell_type": "code",
   "execution_count": null,
   "id": "d7608d6d-6442-4595-a810-f3eebb092934",
   "metadata": {},
   "outputs": [],
   "source": [
    "def AgeValidation(age):\n",
    "    if age<0:\n",
    "        raise validateAge(\"age is negative\")\n",
    "    elif age>120:\n",
    "        raise validateAge(\"age is high\")\n",
    "    else:\n",
    "        logging.info(\"AGE IS VALID\")"
   ]
  },
  {
   "cell_type": "code",
   "execution_count": null,
   "id": "40513a58-83ff-48e3-9a2b-89abad35a7bb",
   "metadata": {},
   "outputs": [],
   "source": [
    "try:\n",
    "    age=int(input(\"enter your age:\"))\n",
    "    AgeValidation(age)\n",
    "except validateAge as e:\n",
    "    logging.error(\"issue with age : {}\".format(e))"
   ]
  },
  {
   "cell_type": "markdown",
   "id": "a0c99208-2082-46e1-b6fc-91ea7966e0cd",
   "metadata": {},
   "source": [
    "Q6. Create a custom exception class. Use this class to handle an exception."
   ]
  },
  {
   "cell_type": "code",
   "execution_count": null,
   "id": "e57b6958-92c9-4531-acce-e93ef0cb110f",
   "metadata": {},
   "outputs": [],
   "source": [
    "class validateAge(Exception):\n",
    "    def __init__(self,msg):\n",
    "        self.msg=msg"
   ]
  },
  {
   "cell_type": "code",
   "execution_count": null,
   "id": "03b8e35a-5510-4b9f-8823-2d7d86ae930b",
   "metadata": {},
   "outputs": [],
   "source": [
    "def AgeValidation(age):\n",
    "    if age<0:\n",
    "        raise validateAge(\"age is negative\")\n",
    "    elif age>120:\n",
    "        raise validateAge(\"age is high\")\n",
    "    else:\n",
    "        logging.info(\"AGE IS VALID\")"
   ]
  },
  {
   "cell_type": "code",
   "execution_count": null,
   "id": "7f14ab74-17b4-483c-9f62-e9a15e37d6a4",
   "metadata": {},
   "outputs": [],
   "source": [
    "try:\n",
    "    age=int(input(\"enter your age:\"))\n",
    "    AgeValidation(age)\n",
    "except validateAge as e:\n",
    "    logging.error(\"issue with age : {}\".format(e))\n",
    "else:\n",
    "    logging.info(\"try block exceute properly\")\n",
    "finally:\n",
    "    logging.info(\"finally exceuted at any situation\")"
   ]
  }
 ],
 "metadata": {
  "kernelspec": {
   "display_name": "Python 3 (ipykernel)",
   "language": "python",
   "name": "python3"
  },
  "language_info": {
   "codemirror_mode": {
    "name": "ipython",
    "version": 3
   },
   "file_extension": ".py",
   "mimetype": "text/x-python",
   "name": "python",
   "nbconvert_exporter": "python",
   "pygments_lexer": "ipython3",
   "version": "3.10.8"
  }
 },
 "nbformat": 4,
 "nbformat_minor": 5
}
